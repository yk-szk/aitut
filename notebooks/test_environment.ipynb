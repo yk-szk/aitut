{
 "cells": [
  {
   "cell_type": "markdown",
   "metadata": {},
   "source": [
    "# 動作確認環境\n",
    "## Pythonのバージョン"
   ]
  },
  {
   "cell_type": "code",
   "execution_count": 1,
   "metadata": {
    "execution": {
     "iopub.execute_input": "2021-03-31T05:25:20.959685Z",
     "iopub.status.busy": "2021-03-31T05:25:20.957687Z",
     "iopub.status.idle": "2021-03-31T05:25:20.981973Z",
     "shell.execute_reply": "2021-03-31T05:25:20.979939Z"
    }
   },
   "outputs": [
    {
     "name": "stdout",
     "output_type": "stream",
     "text": [
      "win32 3.8.5 (default, Sep  3 2020, 21:29:08) [MSC v.1916 64 bit (AMD64)]\n"
     ]
    }
   ],
   "source": [
    "import sys\n",
    "print(sys.platform, sys.version)"
   ]
  },
  {
   "cell_type": "markdown",
   "metadata": {},
   "source": [
    "## パッケージのバージョン"
   ]
  },
  {
   "cell_type": "code",
   "execution_count": 2,
   "metadata": {
    "execution": {
     "iopub.execute_input": "2021-03-31T05:25:21.000919Z",
     "iopub.status.busy": "2021-03-31T05:25:20.997956Z",
     "iopub.status.idle": "2021-03-31T05:25:21.712926Z",
     "shell.execute_reply": "2021-03-31T05:25:21.711928Z"
    }
   },
   "outputs": [
    {
     "data": {
      "text/html": [
       "<div>\n",
       "<style scoped>\n",
       "    .dataframe tbody tr th:only-of-type {\n",
       "        vertical-align: middle;\n",
       "    }\n",
       "\n",
       "    .dataframe tbody tr th {\n",
       "        vertical-align: top;\n",
       "    }\n",
       "\n",
       "    .dataframe thead th {\n",
       "        text-align: right;\n",
       "    }\n",
       "</style>\n",
       "<table border=\"1\" class=\"dataframe\">\n",
       "  <thead>\n",
       "    <tr style=\"text-align: right;\">\n",
       "      <th></th>\n",
       "      <th>version</th>\n",
       "    </tr>\n",
       "    <tr>\n",
       "      <th>package</th>\n",
       "      <th></th>\n",
       "    </tr>\n",
       "  </thead>\n",
       "  <tbody>\n",
       "    <tr>\n",
       "      <th>albumentations</th>\n",
       "      <td>0.5.2</td>\n",
       "    </tr>\n",
       "    <tr>\n",
       "      <th>jupyter</th>\n",
       "      <td>1.0.0</td>\n",
       "    </tr>\n",
       "    <tr>\n",
       "      <th>numpy</th>\n",
       "      <td>1.19.4</td>\n",
       "    </tr>\n",
       "    <tr>\n",
       "      <th>pandas</th>\n",
       "      <td>1.1.5</td>\n",
       "    </tr>\n",
       "    <tr>\n",
       "      <th>Pillow</th>\n",
       "      <td>8.0.1</td>\n",
       "    </tr>\n",
       "    <tr>\n",
       "      <th>scipy</th>\n",
       "      <td>1.5.4</td>\n",
       "    </tr>\n",
       "    <tr>\n",
       "      <th>tqdm</th>\n",
       "      <td>4.59.0</td>\n",
       "    </tr>\n",
       "    <tr>\n",
       "      <th>torchviz</th>\n",
       "      <td>0.0.1</td>\n",
       "    </tr>\n",
       "    <tr>\n",
       "      <th>torch-summary</th>\n",
       "      <td>1.4.3</td>\n",
       "    </tr>\n",
       "    <tr>\n",
       "      <th>pydicom</th>\n",
       "      <td>2.1.2</td>\n",
       "    </tr>\n",
       "    <tr>\n",
       "      <th>pytorch-lightning</th>\n",
       "      <td>1.1.1</td>\n",
       "    </tr>\n",
       "    <tr>\n",
       "      <th>scikit-learn</th>\n",
       "      <td>0.23.2</td>\n",
       "    </tr>\n",
       "    <tr>\n",
       "      <th>matplotlib</th>\n",
       "      <td>3.3.3</td>\n",
       "    </tr>\n",
       "    <tr>\n",
       "      <th>seaborn</th>\n",
       "      <td>0.11.1</td>\n",
       "    </tr>\n",
       "    <tr>\n",
       "      <th>SimpleITK</th>\n",
       "      <td>2.0.2</td>\n",
       "    </tr>\n",
       "    <tr>\n",
       "      <th>pydotplus</th>\n",
       "      <td>2.0.2</td>\n",
       "    </tr>\n",
       "    <tr>\n",
       "      <th>torch</th>\n",
       "      <td>1.7.1+cu101</td>\n",
       "    </tr>\n",
       "  </tbody>\n",
       "</table>\n",
       "</div>"
      ],
      "text/plain": [
       "                       version\n",
       "package                       \n",
       "albumentations           0.5.2\n",
       "jupyter                  1.0.0\n",
       "numpy                   1.19.4\n",
       "pandas                   1.1.5\n",
       "Pillow                   8.0.1\n",
       "scipy                    1.5.4\n",
       "tqdm                    4.59.0\n",
       "torchviz                 0.0.1\n",
       "torch-summary            1.4.3\n",
       "pydicom                  2.1.2\n",
       "pytorch-lightning        1.1.1\n",
       "scikit-learn            0.23.2\n",
       "matplotlib               3.3.3\n",
       "seaborn                 0.11.1\n",
       "SimpleITK                2.0.2\n",
       "pydotplus                2.0.2\n",
       "torch              1.7.1+cu101"
      ]
     },
     "execution_count": 1,
     "metadata": {},
     "output_type": "execute_result"
    }
   ],
   "source": [
    "import pkg_resources\n",
    "import pandas as pd\n",
    "\n",
    "with open('requirements.txt') as f:\n",
    "    requirements = f.read()\n",
    "    packages = []\n",
    "    for package in requirements.split()+['torch']:\n",
    "        packages.append(\n",
    "            (package, pkg_resources.get_distribution(package).version))\n",
    "df_pkg = pd.DataFrame(packages, columns=['package', 'version'])\n",
    "df_pkg.set_index('package', inplace=True)\n",
    "df_pkg"
   ]
  }
 ],
 "metadata": {
  "kernelspec": {
   "display_name": "Python 3",
   "language": "python",
   "name": "python3"
  },
  "language_info": {
   "codemirror_mode": {
    "name": "ipython",
    "version": 3
   },
   "file_extension": ".py",
   "mimetype": "text/x-python",
   "name": "python",
   "nbconvert_exporter": "python",
   "pygments_lexer": "ipython3",
   "version": "3.8.5"
  },
  "toc": {
   "base_numbering": 1,
   "nav_menu": {},
   "number_sections": true,
   "sideBar": true,
   "skip_h1_title": true,
   "title_cell": "Table of Contents",
   "title_sidebar": "Contents",
   "toc_cell": false,
   "toc_position": {},
   "toc_section_display": true,
   "toc_window_display": true
  },
  "varInspector": {
   "cols": {
    "lenName": 16,
    "lenType": 16,
    "lenVar": 40
   },
   "kernels_config": {
    "python": {
     "delete_cmd_postfix": "",
     "delete_cmd_prefix": "del ",
     "library": "var_list.py",
     "varRefreshCmd": "print(var_dic_list())"
    },
    "r": {
     "delete_cmd_postfix": ") ",
     "delete_cmd_prefix": "rm(",
     "library": "var_list.r",
     "varRefreshCmd": "cat(var_dic_list()) "
    }
   },
   "types_to_exclude": [
    "module",
    "function",
    "builtin_function_or_method",
    "instance",
    "_Feature"
   ],
   "window_display": false
  }
 },
 "nbformat": 4,
 "nbformat_minor": 2
}
