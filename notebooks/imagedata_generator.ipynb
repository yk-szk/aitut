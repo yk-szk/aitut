{
 "cells": [
  {
   "cell_type": "markdown",
   "metadata": {},
   "source": [
    "# Arguments of ImageDataGenerator"
   ]
  },
  {
   "cell_type": "code",
   "execution_count": null,
   "metadata": {},
   "outputs": [],
   "source": [
    "%matplotlib inline"
   ]
  },
  {
   "cell_type": "code",
   "execution_count": null,
   "metadata": {},
   "outputs": [],
   "source": [
    "import matplotlib.pyplot as plt\n",
    "import scipy.misc\n",
    "original_image = scipy.misc.face()\n",
    "plt.imshow(original_image)\n",
    "plt.axis('off')\n",
    "plt.title('Original image')\n",
    "plt.show()"
   ]
  },
  {
   "cell_type": "markdown",
   "metadata": {},
   "source": [
    "## Parameters"
   ]
  },
  {
   "cell_type": "code",
   "execution_count": null,
   "metadata": {},
   "outputs": [],
   "source": [
    "parameters = dict(\n",
    "    featurewise_center=True,\n",
    "    samplewise_center=True,\n",
    "    featurewise_std_normalization=True,\n",
    "    samplewise_std_normalization=True,\n",
    "    #     zca_whitening=True,\n",
    "    #      zca_epsilon=1e-6,\n",
    "    rotation_range=180,\n",
    "    width_shift_range=.2,\n",
    "    height_shift_range=.2,\n",
    "    brightness_range=[.8, 1],\n",
    "    shear_range=45,\n",
    "    zoom_range=[.5, 1.5],\n",
    "    channel_shift_range=.5,\n",
    "    #      fill_mode='nearest',\n",
    "    #      cval=0.,\n",
    "    horizontal_flip=True,\n",
    "    vertical_flip=True,\n",
    "    #      rescale=None,\n",
    "    #      preprocessing_function=None,\n",
    "    #      data_format='channels_last',\n",
    "    #      validation_split=0.0,\n",
    "    #      interpolation_order=1,\n",
    ")"
   ]
  },
  {
   "cell_type": "code",
   "execution_count": null,
   "metadata": {},
   "outputs": [],
   "source": [
    "from tensorflow.keras.preprocessing.image import ImageDataGenerator\n",
    "import numpy as np\n",
    "data = np.expand_dims(original_image, 0) / 255\n",
    "n_samples = 5\n",
    "for param_name, param_value in parameters.items():\n",
    "    print(param_name)\n",
    "    plt.figure(figsize=(12, 12))\n",
    "    datagen = ImageDataGenerator(**{\n",
    "        param_name: param_value,\n",
    "        'fill_mode': 'constant'\n",
    "    })\n",
    "    datagen.fit(data)\n",
    "    flow = datagen.flow(data, batch_size=1)\n",
    "    for i in range(n_samples):\n",
    "        plt.subplot(1, n_samples, i + 1)\n",
    "        augmented = flow[0][0]\n",
    "        plt.imshow(np.clip(augmented, 0, 1))\n",
    "        plt.axis('off')\n",
    "    plt.tight_layout()\n",
    "    plt.show()"
   ]
  },
  {
   "cell_type": "markdown",
   "metadata": {},
   "source": [
    "## Fill mode"
   ]
  },
  {
   "cell_type": "code",
   "execution_count": null,
   "metadata": {},
   "outputs": [],
   "source": [
    "fill_modes = ['constant', 'nearest', 'reflect', 'wrap']\n",
    "n_samples = 5\n",
    "seed = 0\n",
    "for fill_mode in fill_modes:\n",
    "    print(fill_mode)\n",
    "    plt.figure(figsize=(12, 12))\n",
    "    datagen = ImageDataGenerator(fill_mode=fill_mode,\n",
    "                                 rotation_range=90,\n",
    "                                 width_shift_range=.1,\n",
    "                                 height_shift_range=.1)\n",
    "    flow = datagen.flow(data, batch_size=1, seed=seed)\n",
    "    for i in range(n_samples):\n",
    "        plt.subplot(1, n_samples, i + 1)\n",
    "        augmented = flow[0][0]\n",
    "        plt.imshow(np.clip(augmented, 0, 1))\n",
    "        plt.axis('off')\n",
    "    plt.tight_layout()\n",
    "    plt.show()"
   ]
  },
  {
   "cell_type": "markdown",
   "metadata": {},
   "source": [
    "## ZCA whitening\n",
    "[Whitening transformation - Wikipedia](https://en.wikipedia.org/wiki/Whitening_transformation)"
   ]
  },
  {
   "cell_type": "code",
   "execution_count": null,
   "metadata": {},
   "outputs": [],
   "source": [
    "from tensorflow.keras.datasets import cifar10\n",
    "(x_train, y_train), (x_test, y_test) = cifar10.load_data()"
   ]
  },
  {
   "cell_type": "code",
   "execution_count": null,
   "metadata": {},
   "outputs": [],
   "source": [
    "datagen = ImageDataGenerator(zca_whitening=True)\n",
    "datagen.fit(x_train)"
   ]
  },
  {
   "cell_type": "code",
   "execution_count": null,
   "metadata": {},
   "outputs": [],
   "source": [
    "def normalize(arr):\n",
    "    return (arr - arr.min()) / (arr.max() - arr.min())\n",
    "\n",
    "\n",
    "n_samples = 5\n",
    "flow = datagen.flow(x_train, shuffle=False, batch_size=1)\n",
    "for i in range(n_samples):\n",
    "    original = x_train[i]\n",
    "    augmented = normalize(flow[i][0])\n",
    "\n",
    "    plt.figure(figsize=(2, 2))\n",
    "    plt.subplot(1, 2, 1)\n",
    "    plt.imshow(original)\n",
    "    plt.axis('off')\n",
    "    plt.subplot(1, 2, 2)\n",
    "    plt.imshow(augmented)\n",
    "    plt.axis('off')\n",
    "    plt.tight_layout()\n",
    "    plt.show()"
   ]
  }
 ],
 "metadata": {
  "kernelspec": {
   "display_name": "Python 3",
   "language": "python",
   "name": "python3"
  },
  "language_info": {
   "codemirror_mode": {
    "name": "ipython",
    "version": 3
   },
   "file_extension": ".py",
   "mimetype": "text/x-python",
   "name": "python",
   "nbconvert_exporter": "python",
   "pygments_lexer": "ipython3",
   "version": "3.7.4"
  },
  "toc": {
   "base_numbering": 1,
   "nav_menu": {},
   "number_sections": true,
   "sideBar": true,
   "skip_h1_title": false,
   "title_cell": "Table of Contents",
   "title_sidebar": "Contents",
   "toc_cell": false,
   "toc_position": {},
   "toc_section_display": true,
   "toc_window_display": true
  }
 },
 "nbformat": 4,
 "nbformat_minor": 2
}
