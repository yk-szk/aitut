{
 "cells": [
  {
   "cell_type": "markdown",
   "metadata": {},
   "source": [
    "# データの確認\n",
    "データは`notebooks/Data/Images`となるように設置する。"
   ]
  },
  {
   "cell_type": "code",
   "execution_count": 1,
   "metadata": {
    "execution": {
     "iopub.execute_input": "2021-03-31T05:25:16.507833Z",
     "iopub.status.busy": "2021-03-31T05:25:16.506835Z",
     "iopub.status.idle": "2021-03-31T05:25:16.542427Z",
     "shell.execute_reply": "2021-03-31T05:25:16.541428Z"
    }
   },
   "outputs": [
    {
     "name": "stderr",
     "output_type": "stream",
     "text": [
      "test_fist_image (__main__.TestDLD) ... ok\n",
      "test_last_image (__main__.TestDLD) ... ok\n",
      "test_fist_image (__main__.TestPulmonaryNodule) ... ok\n",
      "test_last_image (__main__.TestPulmonaryNodule) ... ok\n",
      "test_fist_image (__main__.TestSkinLesion) ... ok\n",
      "test_last_image (__main__.TestSkinLesion) ... ok\n",
      "\n",
      "----------------------------------------------------------------------\n",
      "Ran 6 tests in 0.006s\n",
      "\n",
      "OK\n"
     ]
    },
    {
     "data": {
      "text/plain": [
       "<unittest.main.TestProgram at 0x208ee657e20>"
      ]
     },
     "execution_count": 1,
     "metadata": {},
     "output_type": "execute_result"
    }
   ],
   "source": [
    "import unittest\n",
    "import os\n",
    "\n",
    "\n",
    "class TestPulmonaryNodule(unittest.TestCase):\n",
    "    def test_fist_image(self):\n",
    "        self.assertTrue(\n",
    "            os.path.exists('Data/Images/LIDC_PN/benign/001.png'))\n",
    "\n",
    "    def test_last_image(self):\n",
    "        self.assertTrue(\n",
    "            os.path.exists('Data/Images/LIDC_PN/malignant/181.png'))\n",
    "\n",
    "\n",
    "class TestSkinLesion(unittest.TestCase):\n",
    "    def test_fist_image(self):\n",
    "        self.assertTrue(\n",
    "            os.path.exists(\n",
    "                'Data/Images/skin_lesion/akiec/ISIC_0024329.jpg'))\n",
    "\n",
    "    def test_last_image(self):\n",
    "        self.assertTrue(\n",
    "            os.path.exists(\n",
    "                'Data/Images/skin_lesion/vasc/ISIC_0033158.jpg'\n",
    "            ))\n",
    "\n",
    "\n",
    "class TestDLD(unittest.TestCase):\n",
    "    def test_fist_image(self):\n",
    "        self.assertTrue(\n",
    "            os.path.exists(\n",
    "                'Data/Images/LIDC_DLD/emphysema/001.png'))\n",
    "\n",
    "    def test_last_image(self):\n",
    "        self.assertTrue(\n",
    "            os.path.exists(\n",
    "                'Data/Images/LIDC_DLD/normal/293.png'))\n",
    "\n",
    "\n",
    "unittest.main(argv=[''], verbosity=2, exit=False)"
   ]
  }
 ],
 "metadata": {
  "kernelspec": {
   "display_name": "Python 3",
   "language": "python",
   "name": "python3"
  },
  "language_info": {
   "codemirror_mode": {
    "name": "ipython",
    "version": 3
   },
   "file_extension": ".py",
   "mimetype": "text/x-python",
   "name": "python",
   "nbconvert_exporter": "python",
   "pygments_lexer": "ipython3",
   "version": "3.8.5"
  },
  "toc": {
   "base_numbering": 1,
   "nav_menu": {},
   "number_sections": true,
   "sideBar": true,
   "skip_h1_title": true,
   "title_cell": "Table of Contents",
   "title_sidebar": "Contents",
   "toc_cell": false,
   "toc_position": {},
   "toc_section_display": true,
   "toc_window_display": true
  }
 },
 "nbformat": 4,
 "nbformat_minor": 4
}
