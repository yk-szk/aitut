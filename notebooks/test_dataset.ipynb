{
 "cells": [
  {
   "cell_type": "markdown",
   "metadata": {},
   "source": [
    "# データの確認\n",
    "データは`notebooks/Data/Images`となるように設置する。"
   ]
  },
  {
   "cell_type": "code",
   "execution_count": null,
   "metadata": {},
   "outputs": [],
   "source": [
    "import unittest\n",
    "import os\n",
    "\n",
    "class TestLungNodule(unittest.TestCase):\n",
    "\n",
    "    def test_fist_image(self):\n",
    "        self.assertTrue(os.path.exists('Data/Images/PN_Osaka/PN_64/Benign/64_Ak.jpg'))\n",
    "\n",
    "    def test_last_image(self):\n",
    "        self.assertTrue(os.path.exists('Data/Images/PN_Osaka/PN_64/Benign/64_Ysk.jpg'))\n",
    "\n",
    "class TestColonNBI(unittest.TestCase):\n",
    "\n",
    "    def test_fist_image(self):\n",
    "        self.assertTrue(os.path.exists('Data/Images/ColonNBI/ColonNBI_original/ColonNBI_I/01_Ⅰ.png'))\n",
    "\n",
    "    def test_last_image(self):\n",
    "        self.assertTrue(os.path.exists('Data/Images/ColonNBI/ColonNBI_original/ColonNBI_IIIB/new_14_ⅢＢ_ROI.png'))\n",
    "\n",
    "class TestDLD(unittest.TestCase):\n",
    "\n",
    "    def test_fist_image(self):\n",
    "        self.assertTrue(os.path.exists('Data/Images/IP_Yamaguchi_original/Consolidation/0001.png'))\n",
    "\n",
    "    def test_last_image(self):\n",
    "        self.assertTrue(os.path.exists('Data/Images/IP_Yamaguchi_original/Normal/10387.png'))\n",
    "\n",
    "unittest.main(argv=[''], verbosity=2, exit=False)"
   ]
  }
 ],
 "metadata": {
  "kernelspec": {
   "display_name": "Python 3",
   "language": "python",
   "name": "python3"
  },
  "language_info": {
   "codemirror_mode": {
    "name": "ipython",
    "version": 3
   },
   "file_extension": ".py",
   "mimetype": "text/x-python",
   "name": "python",
   "nbconvert_exporter": "python",
   "pygments_lexer": "ipython3",
   "version": "3.7.0"
  },
  "toc": {
   "base_numbering": 1,
   "nav_menu": {},
   "number_sections": true,
   "sideBar": true,
   "skip_h1_title": true,
   "title_cell": "Table of Contents",
   "title_sidebar": "Contents",
   "toc_cell": false,
   "toc_position": {},
   "toc_section_display": true,
   "toc_window_display": true
  }
 },
 "nbformat": 4,
 "nbformat_minor": 4
}
