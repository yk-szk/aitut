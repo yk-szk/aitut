{
 "cells": [
  {
   "cell_type": "markdown",
   "metadata": {},
   "source": [
    "# データの確認\n",
    "データは`notebooks/Data/Images`となるように設置する。"
   ]
  },
  {
   "cell_type": "code",
   "execution_count": null,
   "metadata": {},
   "outputs": [],
   "source": [
    "import unittest\n",
    "import os\n",
    "\n",
    "\n",
    "class TestPulmonaryNodule(unittest.TestCase):\n",
    "    def test_fist_image(self):\n",
    "        self.assertTrue(\n",
    "            os.path.exists('Data/Images/LIDC_PN/benign/001.png'))\n",
    "\n",
    "    def test_last_image(self):\n",
    "        self.assertTrue(\n",
    "            os.path.exists('Data/Images/LIDC_PN/malignant/181.png'))\n",
    "\n",
    "\n",
    "class TestSkinLesion(unittest.TestCase):\n",
    "    def test_fist_image(self):\n",
    "        self.assertTrue(\n",
    "            os.path.exists(\n",
    "                'Data/Images/skin_lesion/akiec/ISIC_0024329.jpg'))\n",
    "\n",
    "    def test_last_image(self):\n",
    "        self.assertTrue(\n",
    "            os.path.exists(\n",
    "                'Data/Images/skin_lesion/vasc/ISIC_0033158.jpg'\n",
    "            ))\n",
    "\n",
    "\n",
    "class TestDLD(unittest.TestCase):\n",
    "    def test_fist_image(self):\n",
    "        self.assertTrue(\n",
    "            os.path.exists(\n",
    "                'Data/Images/LIDC_DLD/emphysema/001.png'))\n",
    "\n",
    "    def test_last_image(self):\n",
    "        self.assertTrue(\n",
    "            os.path.exists(\n",
    "                'Data/Images/LIDC_DLD/normal/293.png'))\n",
    "\n",
    "\n",
    "unittest.main(argv=[''], verbosity=2, exit=False)"
   ]
  }
 ],
 "metadata": {
  "kernelspec": {
   "display_name": "Python 3",
   "language": "python",
   "name": "python3"
  },
  "language_info": {
   "codemirror_mode": {
    "name": "ipython",
    "version": 3
   },
   "file_extension": ".py",
   "mimetype": "text/x-python",
   "name": "python",
   "nbconvert_exporter": "python",
   "pygments_lexer": "ipython3",
   "version": "3.7.4"
  },
  "toc": {
   "base_numbering": 1,
   "nav_menu": {},
   "number_sections": true,
   "sideBar": true,
   "skip_h1_title": true,
   "title_cell": "Table of Contents",
   "title_sidebar": "Contents",
   "toc_cell": false,
   "toc_position": {},
   "toc_section_display": true,
   "toc_window_display": true
  }
 },
 "nbformat": 4,
 "nbformat_minor": 4
}
