{
 "cells": [
  {
   "cell_type": "markdown",
   "metadata": {},
   "source": [
    "# 肺結節の良悪性判定\n",
    "https://pytorch.org/tutorials/beginner/blitz/cifar10_tutorial.html"
   ]
  },
  {
   "cell_type": "markdown",
   "metadata": {},
   "source": [
    "## 前準備\n",
    "### 主要パッケージのインポート"
   ]
  },
  {
   "cell_type": "code",
   "execution_count": 1,
   "metadata": {
    "execution": {
     "iopub.execute_input": "2021-03-31T05:22:26.203658Z",
     "iopub.status.busy": "2021-03-31T05:22:26.202660Z",
     "iopub.status.idle": "2021-03-31T05:22:26.824189Z",
     "shell.execute_reply": "2021-03-31T05:22:26.823190Z"
    }
   },
   "outputs": [],
   "source": [
    "import pathlib\n",
    "import matplotlib.pyplot as plt\n",
    "import numpy as np\n",
    "import pandas as pd\n",
    "from IPython.display import display"
   ]
  },
  {
   "cell_type": "markdown",
   "metadata": {},
   "source": [
    "### データディレクトリの指定"
   ]
  },
  {
   "cell_type": "code",
   "execution_count": 2,
   "metadata": {
    "execution": {
     "iopub.execute_input": "2021-03-31T05:22:26.827195Z",
     "iopub.status.busy": "2021-03-31T05:22:26.827195Z",
     "iopub.status.idle": "2021-03-31T05:22:26.839245Z",
     "shell.execute_reply": "2021-03-31T05:22:26.838246Z"
    }
   },
   "outputs": [],
   "source": [
    "DATA_ROOT = pathlib.Path('Data/Images/LIDC_PN')\n",
    "CLASS_LABELS = ('benign', 'malignant')\n",
    "IMAGE_EXT = '.png'"
   ]
  },
  {
   "cell_type": "markdown",
   "metadata": {},
   "source": [
    "### 画像ファイルを基にpd.DataFrameを作成する\n",
    "画像ファイルは`<クラス名>/<ファイル名>`の形式でデータディレクトリ内に用意されている"
   ]
  },
  {
   "cell_type": "code",
   "execution_count": 3,
   "metadata": {
    "execution": {
     "iopub.execute_input": "2021-03-31T05:22:26.844421Z",
     "iopub.status.busy": "2021-03-31T05:22:26.843421Z",
     "iopub.status.idle": "2021-03-31T05:22:26.869388Z",
     "shell.execute_reply": "2021-03-31T05:22:26.870388Z"
    }
   },
   "outputs": [
    {
     "data": {
      "text/html": [
       "<div>\n",
       "<style scoped>\n",
       "    .dataframe tbody tr th:only-of-type {\n",
       "        vertical-align: middle;\n",
       "    }\n",
       "\n",
       "    .dataframe tbody tr th {\n",
       "        vertical-align: top;\n",
       "    }\n",
       "\n",
       "    .dataframe thead th {\n",
       "        text-align: right;\n",
       "    }\n",
       "</style>\n",
       "<table border=\"1\" class=\"dataframe\">\n",
       "  <thead>\n",
       "    <tr style=\"text-align: right;\">\n",
       "      <th></th>\n",
       "      <th>filepath</th>\n",
       "      <th>class_label</th>\n",
       "      <th>class</th>\n",
       "    </tr>\n",
       "  </thead>\n",
       "  <tbody>\n",
       "    <tr>\n",
       "      <th>0</th>\n",
       "      <td>Data\\Images\\LIDC_PN\\benign\\001.png</td>\n",
       "      <td>benign</td>\n",
       "      <td>0</td>\n",
       "    </tr>\n",
       "    <tr>\n",
       "      <th>1</th>\n",
       "      <td>Data\\Images\\LIDC_PN\\benign\\002.png</td>\n",
       "      <td>benign</td>\n",
       "      <td>0</td>\n",
       "    </tr>\n",
       "    <tr>\n",
       "      <th>2</th>\n",
       "      <td>Data\\Images\\LIDC_PN\\benign\\007.png</td>\n",
       "      <td>benign</td>\n",
       "      <td>0</td>\n",
       "    </tr>\n",
       "    <tr>\n",
       "      <th>3</th>\n",
       "      <td>Data\\Images\\LIDC_PN\\benign\\011.png</td>\n",
       "      <td>benign</td>\n",
       "      <td>0</td>\n",
       "    </tr>\n",
       "    <tr>\n",
       "      <th>4</th>\n",
       "      <td>Data\\Images\\LIDC_PN\\benign\\012.png</td>\n",
       "      <td>benign</td>\n",
       "      <td>0</td>\n",
       "    </tr>\n",
       "    <tr>\n",
       "      <th>...</th>\n",
       "      <td>...</td>\n",
       "      <td>...</td>\n",
       "      <td>...</td>\n",
       "    </tr>\n",
       "    <tr>\n",
       "      <th>604</th>\n",
       "      <td>Data\\Images\\LIDC_PN\\malignant\\177.png</td>\n",
       "      <td>malignant</td>\n",
       "      <td>1</td>\n",
       "    </tr>\n",
       "    <tr>\n",
       "      <th>605</th>\n",
       "      <td>Data\\Images\\LIDC_PN\\malignant\\178.png</td>\n",
       "      <td>malignant</td>\n",
       "      <td>1</td>\n",
       "    </tr>\n",
       "    <tr>\n",
       "      <th>606</th>\n",
       "      <td>Data\\Images\\LIDC_PN\\malignant\\179.png</td>\n",
       "      <td>malignant</td>\n",
       "      <td>1</td>\n",
       "    </tr>\n",
       "    <tr>\n",
       "      <th>607</th>\n",
       "      <td>Data\\Images\\LIDC_PN\\malignant\\180.png</td>\n",
       "      <td>malignant</td>\n",
       "      <td>1</td>\n",
       "    </tr>\n",
       "    <tr>\n",
       "      <th>608</th>\n",
       "      <td>Data\\Images\\LIDC_PN\\malignant\\181.png</td>\n",
       "      <td>malignant</td>\n",
       "      <td>1</td>\n",
       "    </tr>\n",
       "  </tbody>\n",
       "</table>\n",
       "<p>609 rows × 3 columns</p>\n",
       "</div>"
      ],
      "text/plain": [
       "                                  filepath class_label  class\n",
       "0       Data\\Images\\LIDC_PN\\benign\\001.png      benign      0\n",
       "1       Data\\Images\\LIDC_PN\\benign\\002.png      benign      0\n",
       "2       Data\\Images\\LIDC_PN\\benign\\007.png      benign      0\n",
       "3       Data\\Images\\LIDC_PN\\benign\\011.png      benign      0\n",
       "4       Data\\Images\\LIDC_PN\\benign\\012.png      benign      0\n",
       "..                                     ...         ...    ...\n",
       "604  Data\\Images\\LIDC_PN\\malignant\\177.png   malignant      1\n",
       "605  Data\\Images\\LIDC_PN\\malignant\\178.png   malignant      1\n",
       "606  Data\\Images\\LIDC_PN\\malignant\\179.png   malignant      1\n",
       "607  Data\\Images\\LIDC_PN\\malignant\\180.png   malignant      1\n",
       "608  Data\\Images\\LIDC_PN\\malignant\\181.png   malignant      1\n",
       "\n",
       "[609 rows x 3 columns]"
      ]
     },
     "metadata": {},
     "output_type": "display_data"
    }
   ],
   "source": [
    "def create_dataset_df(data_root, class_labels, image_ext):\n",
    "    dfs = []\n",
    "    for cls, class_label in enumerate(class_labels):\n",
    "        df = pd.DataFrame(\n",
    "            [(str(p), class_label, cls)\n",
    "             for p in data_root.glob(class_label + '/*' + image_ext)],\n",
    "            columns=['filepath', 'class_label', 'class'])\n",
    "        dfs.append(df)\n",
    "    df_dataset = pd.concat(dfs, ignore_index=True)\n",
    "    return df_dataset\n",
    "\n",
    "\n",
    "df_dataset = create_dataset_df(DATA_ROOT, CLASS_LABELS, IMAGE_EXT)\n",
    "assert set(CLASS_LABELS) == set(df_dataset['class_label'].unique(\n",
    ")), 'Discrepancy between CLASS_LABELS and df_dataset'\n",
    "display(df_dataset)"
   ]
  },
  {
   "cell_type": "markdown",
   "metadata": {},
   "source": [
    "### クラスごとの画像数を確認する"
   ]
  },
  {
   "cell_type": "code",
   "execution_count": 4,
   "metadata": {
    "execution": {
     "iopub.execute_input": "2021-03-31T05:22:26.874386Z",
     "iopub.status.busy": "2021-03-31T05:22:26.871386Z",
     "iopub.status.idle": "2021-03-31T05:22:26.886116Z",
     "shell.execute_reply": "2021-03-31T05:22:26.885100Z"
    }
   },
   "outputs": [
    {
     "data": {
      "text/plain": [
       "benign       432\n",
       "malignant    177\n",
       "Name: class_label, dtype: int64"
      ]
     },
     "execution_count": 1,
     "metadata": {},
     "output_type": "execute_result"
    }
   ],
   "source": [
    "df_dataset['class_label'].value_counts()"
   ]
  },
  {
   "cell_type": "markdown",
   "metadata": {},
   "source": [
    "### 画像を表示してみる\n",
    "各クラスからランダムに選択した画像を表示する。"
   ]
  },
  {
   "cell_type": "code",
   "execution_count": 5,
   "metadata": {
    "execution": {
     "iopub.execute_input": "2021-03-31T05:22:26.900999Z",
     "iopub.status.busy": "2021-03-31T05:22:26.891008Z",
     "iopub.status.idle": "2021-03-31T05:22:27.581002Z",
     "shell.execute_reply": "2021-03-31T05:22:27.580003Z"
    }
   },
   "outputs": [
    {
     "name": "stdout",
     "output_type": "stream",
     "text": [
      "benign\n"
     ]
    },
    {
     "data": {
      "image/png": "[encoded data removed]",
      "text/plain": [
       "<Figure size 432x288 with 10 Axes>"
      ]
     },
     "metadata": {
      "needs_background": "light"
     },
     "output_type": "display_data"
    },
    {
     "name": "stdout",
     "output_type": "stream",
     "text": [
      "malignant\n"
     ]
    },
    {
     "data": {
      "image/png": "[encoded data removed]",
      "text/plain": [
       "<Figure size 432x288 with 10 Axes>"
      ]
     },
     "metadata": {
      "needs_background": "light"
     },
     "output_type": "display_data"
    }
   ],
   "source": [
    "from PIL import Image\n",
    "\n",
    "\n",
    "def show_images_each_class(df, n_rows=2, n_cols=5):\n",
    "    for class_label, group in df.groupby('class_label'):\n",
    "        print(class_label)\n",
    "        for i, row in enumerate(group.sample(n=n_rows * n_cols).itertuples()):\n",
    "            plt.subplot(n_rows, n_cols, i + 1)\n",
    "            image = Image.open(row.filepath)\n",
    "            row.filepath\n",
    "            plt.imshow(image, cmap='gray' if image.mode == 'L' else None)\n",
    "            plt.axis('off')\n",
    "        plt.tight_layout()\n",
    "        plt.show()\n",
    "\n",
    "\n",
    "show_images_each_class(df_dataset)"
   ]
  },
  {
   "cell_type": "markdown",
   "metadata": {},
   "source": [
    "### ホールドアウト検証用にデータセットを分割する\n",
    "今回はデータセットの$\\frac{2}{3}$を学習用、$\\frac{1}{3}$を評価用に使用する。\n",
    "分割にはsklearnの[StratifiedKFold](https://scikit-learn.org/stable/modules/generated/sklearn.model_selection.StratifiedKFold.html)を使う。"
   ]
  },
  {
   "cell_type": "code",
   "execution_count": 6,
   "metadata": {
    "execution": {
     "iopub.execute_input": "2021-03-31T05:22:27.583999Z",
     "iopub.status.busy": "2021-03-31T05:22:27.583999Z",
     "iopub.status.idle": "2021-03-31T05:22:28.287773Z",
     "shell.execute_reply": "2021-03-31T05:22:28.286764Z"
    }
   },
   "outputs": [],
   "source": [
    "from sklearn.model_selection import StratifiedKFold\n",
    "K_FOLD = 3\n",
    "kfold = StratifiedKFold(n_splits=K_FOLD, shuffle=True)\n",
    "train_index, test_index = next(\n",
    "    kfold.split(df_dataset['filepath'], df_dataset['class']))\n",
    "\n",
    "df_train = df_dataset.iloc[train_index]\n",
    "df_test = df_dataset.iloc[test_index]"
   ]
  },
  {
   "cell_type": "markdown",
   "metadata": {},
   "source": [
    "### データを読み込む\n",
    "読み込んだ画像は０から255の値をとるため読み込んだあとに255で割ることで0から1の値をとるようにする"
   ]
  },
  {
   "cell_type": "code",
   "execution_count": 7,
   "metadata": {
    "execution": {
     "iopub.execute_input": "2021-03-31T05:22:28.292759Z",
     "iopub.status.busy": "2021-03-31T05:22:28.291783Z",
     "iopub.status.idle": "2021-03-31T05:22:28.476073Z",
     "shell.execute_reply": "2021-03-31T05:22:28.476073Z"
    }
   },
   "outputs": [
    {
     "name": "stdout",
     "output_type": "stream",
     "text": [
      "training data (406, 64, 64, 1) 406 0.29064039408866993\n",
      "test data (203, 64, 64, 1) 203 0.29064039408866993\n"
     ]
    }
   ],
   "source": [
    "IMG_SHAPE = (1, 64, 64)\n",
    "\n",
    "\n",
    "def load_img(filepath):\n",
    "    img = Image.open(filepath)\n",
    "    img = img.resize(IMG_SHAPE[1:])\n",
    "    return np.atleast_3d(img)\n",
    "\n",
    "\n",
    "train_data = np.stack(\n",
    "    [load_img(filepath) for filepath in df_train['filepath']])\n",
    "train_labels = df_train['class'].tolist()\n",
    "test_data = np.stack([load_img(filepath) for filepath in df_test['filepath']])\n",
    "test_labels = df_test['class'].tolist()\n",
    "\n",
    "train_data = (train_data / 255).astype(np.float32)\n",
    "test_data = (test_data / 255).astype(np.float32)\n",
    "\n",
    "print('training data', train_data.shape, len(train_labels),\n",
    "      np.mean(train_labels))\n",
    "print('test data', test_data.shape, len(test_labels), np.mean(test_labels))"
   ]
  },
  {
   "cell_type": "markdown",
   "metadata": {},
   "source": [
    "## Channels firstに変更\n",
    "画素の並びをChannels lastからChannels first(PyTorchで使われる形式)に変更"
   ]
  },
  {
   "cell_type": "code",
   "execution_count": 8,
   "metadata": {
    "execution": {
     "iopub.execute_input": "2021-03-31T05:22:28.480071Z",
     "iopub.status.busy": "2021-03-31T05:22:28.479072Z",
     "iopub.status.idle": "2021-03-31T05:22:28.491150Z",
     "shell.execute_reply": "2021-03-31T05:22:28.492150Z"
    }
   },
   "outputs": [
    {
     "name": "stdout",
     "output_type": "stream",
     "text": [
      "(406, 1, 64, 64) (203, 1, 64, 64)\n"
     ]
    }
   ],
   "source": [
    "train_data = np.transpose(train_data, (0, 3, 1, 2))\n",
    "test_data = np.transpose(test_data, (0, 3, 2, 1))\n",
    "print(train_data.shape, test_data.shape)"
   ]
  },
  {
   "cell_type": "markdown",
   "metadata": {},
   "source": [
    "## ネットワーク作成\n",
    "今回は画像サイズが小さいためネットワークを自作する必要があるが、本来は既存のモデルを流用したほうがよい。"
   ]
  },
  {
   "cell_type": "code",
   "execution_count": 9,
   "metadata": {
    "execution": {
     "iopub.execute_input": "2021-03-31T05:22:28.497144Z",
     "iopub.status.busy": "2021-03-31T05:22:28.497144Z",
     "iopub.status.idle": "2021-03-31T05:22:28.926402Z",
     "shell.execute_reply": "2021-03-31T05:22:28.927416Z"
    }
   },
   "outputs": [
    {
     "data": {
      "text/plain": [
       "==========================================================================================\n",
       "Layer (type:depth-idx)                   Output Shape              Param #\n",
       "==========================================================================================\n",
       "├─Sequential: 1-1                        [-1, 1]                   --\n",
       "|    └─ConvBNReLU: 2-1                   [-1, 4, 60, 60]           --\n",
       "|    |    └─Sequential: 3-1              [-1, 4, 60, 60]           204\n",
       "|    └─MaxPool2d: 2-2                    [-1, 4, 30, 30]           --\n",
       "|    └─ConvBNReLU: 2-3                   [-1, 8, 26, 26]           --\n",
       "|    |    └─Sequential: 3-2              [-1, 8, 26, 26]           912\n",
       "|    └─MaxPool2d: 2-4                    [-1, 8, 13, 13]           --\n",
       "|    └─ConvBNReLU: 2-5                   [-1, 16, 9, 9]            --\n",
       "|    |    └─Sequential: 3-3              [-1, 16, 9, 9]            3,552\n",
       "|    └─MaxPool2d: 2-6                    [-1, 16, 4, 4]            --\n",
       "|    └─Dropout: 2-7                      [-1, 16, 4, 4]            --\n",
       "|    └─Flatten: 2-8                      [-1, 256]                 --\n",
       "|    └─Linear: 2-9                       [-1, 32]                  8,224\n",
       "|    └─ReLU: 2-10                        [-1, 32]                  --\n",
       "|    └─Linear: 2-11                      [-1, 1]                   33\n",
       "==========================================================================================\n",
       "Total params: 12,925\n",
       "Trainable params: 12,925\n",
       "Non-trainable params: 0\n",
       "Total mult-adds (M): 1.63\n",
       "==========================================================================================\n",
       "Input size (MB): 0.02\n",
       "Forward/backward pass size (MB): 0.68\n",
       "Params size (MB): 0.05\n",
       "Estimated Total Size (MB): 0.75\n",
       "=========================================================================================="
      ]
     },
     "execution_count": 1,
     "metadata": {},
     "output_type": "execute_result"
    }
   ],
   "source": [
    "import torch\n",
    "import torch.nn as nn\n",
    "\n",
    "\n",
    "class SimpleCNN(nn.Module):\n",
    "    class ConvBNReLU(nn.Module):\n",
    "        def __init__(self, in_chs, out_chs, kernel_size=3):\n",
    "            super().__init__()\n",
    "            self.block = nn.Sequential(\n",
    "                nn.Conv2d(in_chs, out_chs, kernel_size=kernel_size),\n",
    "                nn.BatchNorm2d(out_chs), nn.ReLU(inplace=True),\n",
    "                nn.Conv2d(out_chs, out_chs, kernel_size=kernel_size),\n",
    "                nn.BatchNorm2d(out_chs), nn.ReLU(inplace=True))\n",
    "\n",
    "        def forward(self, x):\n",
    "            return self.block(x)\n",
    "\n",
    "    def __init__(self):\n",
    "        super().__init__()\n",
    "        self.network = nn.Sequential(self.ConvBNReLU(1, 4), nn.MaxPool2d(2),\n",
    "                                     self.ConvBNReLU(4, 8), nn.MaxPool2d(2),\n",
    "                                     self.ConvBNReLU(8, 16), nn.MaxPool2d(2),\n",
    "                                     nn.Dropout(.25), nn.Flatten(start_dim=1),\n",
    "                                     nn.Linear(256, 32), nn.ReLU(inplace=True),\n",
    "                                     nn.Linear(32, 1))\n",
    "\n",
    "    def forward(self, x):\n",
    "        return self.network(x)\n",
    "\n",
    "\n",
    "net = SimpleCNN()\n",
    "from torchsummary import summary\n",
    "summary(net, IMG_SHAPE, verbose=0, device='cpu')"
   ]
  },
  {
   "cell_type": "markdown",
   "metadata": {},
   "source": [
    "### ネットワーク構造の可視化\n",
    "PyTorch本体にはネットワーク構造可視化の機能はないので[PyTorchViz](https://github.com/szagoruyko/pytorchviz)を使う"
   ]
  },
  {
   "cell_type": "code",
   "execution_count": 10,
   "metadata": {
    "execution": {
     "iopub.execute_input": "2021-03-31T05:22:28.931396Z",
     "iopub.status.busy": "2021-03-31T05:22:28.930395Z",
     "iopub.status.idle": "2021-03-31T05:22:29.195358Z",
     "shell.execute_reply": "2021-03-31T05:22:29.195358Z"
    }
   },
   "outputs": [
    {
     "data": {
      "image/svg+xml": [
       "<?xml version=\"1.0\" encoding=\"UTF-8\" standalone=\"no\"?>\r\n",
       "<!DOCTYPE svg PUBLIC \"-//W3C//DTD SVG 1.1//EN\"\r\n",
       " \"http://www.w3.org/Graphics/SVG/1.1/DTD/svg11.dtd\">\r\n",
       "<!-- Generated by graphviz version 2.38.0 (20140413.2041)\r\n",
       " -->\r\n",
       "<!-- Title: %3 Pages: 1 -->\r\n",
       "<svg width=\"1001pt\" height=\"1199pt\"\r\n",
       " viewBox=\"0.00 0.00 1000.66 1199.00\" xmlns=\"http://www.w3.org/2000/svg\" xmlns:xlink=\"http://www.w3.org/1999/xlink\">\r\n",
       "<g id=\"graph0\" class=\"graph\" transform=\"scale(0.691066 0.691066) rotate(0) translate(4 1731)\">\r\n",
       "<title>%3</title>\r\n",
       "<polygon fill=\"white\" stroke=\"none\" points=\"-4,4 -4,-1731 1444,-1731 1444,4 -4,4\"/>\r\n",
       "<!-- 2070800195744 -->\r\n",
       "<g id=\"node1\" class=\"node\"><title>2070800195744</title>\r\n",
       "<polygon fill=\"#caff70\" stroke=\"black\" points=\"1356,-21 1255,-21 1255,-0 1356,-0 1356,-21\"/>\r\n",
       "<text text-anchor=\"middle\" x=\"1305.5\" y=\"-7.4\" font-family=\"Times New Roman,serif\" font-size=\"12.00\">AddmmBackward</text>\r\n",
       "</g>\r\n",
       "<!-- 2070800195840 -->\r\n",
       "<g id=\"node2\" class=\"node\"><title>2070800195840</title>\r\n",
       "<polygon fill=\"lightblue\" stroke=\"black\" points=\"1242.5,-92 1188.5,-92 1188.5,-57 1242.5,-57 1242.5,-92\"/>\r\n",
       "<text text-anchor=\"middle\" x=\"1215.5\" y=\"-64.4\" font-family=\"Times New Roman,serif\" font-size=\"12.00\"> (1)</text>\r\n",
       "</g>\r\n",
       "<!-- 2070800195840&#45;&gt;2070800195744 -->\r\n",
       "<g id=\"edge1\" class=\"edge\"><title>2070800195840&#45;&gt;2070800195744</title>\r\n",
       "<path fill=\"none\" stroke=\"black\" d=\"M1239.62,-56.8851C1253.16,-47.5591 1269.93,-36.0012 1283.17,-26.8831\"/>\r\n",
       "<polygon fill=\"black\" stroke=\"black\" points=\"1285.43,-29.5731 1291.68,-21.0178 1281.46,-23.8086 1285.43,-29.5731\"/>\r\n",
       "</g>\r\n",
       "<!-- 2070800196224 -->\r\n",
       "<g id=\"node3\" class=\"node\"><title>2070800196224</title>\r\n",
       "<polygon fill=\"lightgrey\" stroke=\"black\" points=\"1350.5,-85 1260.5,-85 1260.5,-64 1350.5,-64 1350.5,-85\"/>\r\n",
       "<text text-anchor=\"middle\" x=\"1305.5\" y=\"-71.4\" font-family=\"Times New Roman,serif\" font-size=\"12.00\">ReluBackward1</text>\r\n",
       "</g>\r\n",
       "<!-- 2070800196224&#45;&gt;2070800195744 -->\r\n",
       "<g id=\"edge2\" class=\"edge\"><title>2070800196224&#45;&gt;2070800195744</title>\r\n",
       "<path fill=\"none\" stroke=\"black\" d=\"M1305.5,-63.8125C1305.5,-55.2183 1305.5,-42.3883 1305.5,-31.5855\"/>\r\n",
       "<polygon fill=\"black\" stroke=\"black\" points=\"1309,-31.3241 1305.5,-21.3241 1302,-31.3241 1309,-31.3241\"/>\r\n",
       "</g>\r\n",
       "<!-- 2070800197328 -->\r\n",
       "<g id=\"node4\" class=\"node\"><title>2070800197328</title>\r\n",
       "<polygon fill=\"lightgrey\" stroke=\"black\" points=\"1356,-156 1255,-156 1255,-135 1356,-135 1356,-156\"/>\r\n",
       "<text text-anchor=\"middle\" x=\"1305.5\" y=\"-142.4\" font-family=\"Times New Roman,serif\" font-size=\"12.00\">AddmmBackward</text>\r\n",
       "</g>\r\n",
       "<!-- 2070800197328&#45;&gt;2070800196224 -->\r\n",
       "<g id=\"edge3\" class=\"edge\"><title>2070800197328&#45;&gt;2070800196224</title>\r\n",
       "<path fill=\"none\" stroke=\"black\" d=\"M1305.5,-134.906C1305.5,-124.71 1305.5,-108.3 1305.5,-95.3077\"/>\r\n",
       "<polygon fill=\"black\" stroke=\"black\" points=\"1309,-95.0126 1305.5,-85.0127 1302,-95.0127 1309,-95.0126\"/>\r\n",
       "</g>\r\n",
       "<!-- 2070800197376 -->\r\n",
       "<g id=\"node5\" class=\"node\"><title>2070800197376</title>\r\n",
       "<polygon fill=\"lightblue\" stroke=\"black\" points=\"1243.5,-234 1189.5,-234 1189.5,-199 1243.5,-199 1243.5,-234\"/>\r\n",
       "<text text-anchor=\"middle\" x=\"1216.5\" y=\"-206.4\" font-family=\"Times New Roman,serif\" font-size=\"12.00\"> (32)</text>\r\n",
       "</g>\r\n",
       "<!-- 2070800197376&#45;&gt;2070800197328 -->\r\n",
       "<g id=\"edge4\" class=\"edge\"><title>2070800197376&#45;&gt;2070800197328</title>\r\n",
       "<path fill=\"none\" stroke=\"black\" d=\"M1238.04,-198.797C1252.36,-187.699 1271.04,-173.218 1285.11,-162.309\"/>\r\n",
       "<polygon fill=\"black\" stroke=\"black\" points=\"1287.44,-164.933 1293.2,-156.04 1283.15,-159.401 1287.44,-164.933\"/>\r\n",
       "</g>\r\n",
       "<!-- 2070800197424 -->\r\n",
       "<g id=\"node6\" class=\"node\"><title>2070800197424</title>\r\n",
       "<polygon fill=\"lightgrey\" stroke=\"black\" points=\"1349.5,-227 1261.5,-227 1261.5,-206 1349.5,-206 1349.5,-227\"/>\r\n",
       "<text text-anchor=\"middle\" x=\"1305.5\" y=\"-213.4\" font-family=\"Times New Roman,serif\" font-size=\"12.00\">ViewBackward</text>\r\n",
       "</g>\r\n",
       "<!-- 2070800197424&#45;&gt;2070800197328 -->\r\n",
       "<g id=\"edge5\" class=\"edge\"><title>2070800197424&#45;&gt;2070800197328</title>\r\n",
       "<path fill=\"none\" stroke=\"black\" d=\"M1305.5,-205.906C1305.5,-195.71 1305.5,-179.3 1305.5,-166.308\"/>\r\n",
       "<polygon fill=\"black\" stroke=\"black\" points=\"1309,-166.013 1305.5,-156.013 1302,-166.013 1309,-166.013\"/>\r\n",
       "</g>\r\n",
       "<!-- 2070800196752 -->\r\n",
       "<g id=\"node7\" class=\"node\"><title>2070800196752</title>\r\n",
       "<polygon fill=\"lightgrey\" stroke=\"black\" points=\"1349.5,-298 1261.5,-298 1261.5,-277 1349.5,-277 1349.5,-298\"/>\r\n",
       "<text text-anchor=\"middle\" x=\"1305.5\" y=\"-284.4\" font-family=\"Times New Roman,serif\" font-size=\"12.00\">MulBackward0</text>\r\n",
       "</g>\r\n",
       "<!-- 2070800196752&#45;&gt;2070800197424 -->\r\n",
       "<g id=\"edge6\" class=\"edge\"><title>2070800196752&#45;&gt;2070800197424</title>\r\n",
       "<path fill=\"none\" stroke=\"black\" d=\"M1305.5,-276.906C1305.5,-266.71 1305.5,-250.3 1305.5,-237.308\"/>\r\n",
       "<polygon fill=\"black\" stroke=\"black\" points=\"1309,-237.013 1305.5,-227.013 1302,-237.013 1309,-237.013\"/>\r\n",
       "</g>\r\n",
       "<!-- 2070800197856 -->\r\n",
       "<g id=\"node8\" class=\"node\"><title>2070800197856</title>\r\n",
       "<polygon fill=\"lightgrey\" stroke=\"black\" points=\"1392.5,-362 1218.5,-362 1218.5,-341 1392.5,-341 1392.5,-362\"/>\r\n",
       "<text text-anchor=\"middle\" x=\"1305.5\" y=\"-348.4\" font-family=\"Times New Roman,serif\" font-size=\"12.00\">MaxPool2DWithIndicesBackward</text>\r\n",
       "</g>\r\n",
       "<!-- 2070800197856&#45;&gt;2070800196752 -->\r\n",
       "<g id=\"edge7\" class=\"edge\"><title>2070800197856&#45;&gt;2070800196752</title>\r\n",
       "<path fill=\"none\" stroke=\"black\" d=\"M1305.5,-340.813C1305.5,-332.218 1305.5,-319.388 1305.5,-308.585\"/>\r\n",
       "<polygon fill=\"black\" stroke=\"black\" points=\"1309,-308.324 1305.5,-298.324 1302,-308.324 1309,-308.324\"/>\r\n",
       "</g>\r\n",
       "<!-- 2070800197952 -->\r\n",
       "<g id=\"node9\" class=\"node\"><title>2070800197952</title>\r\n",
       "<polygon fill=\"lightgrey\" stroke=\"black\" points=\"1350.5,-419 1260.5,-419 1260.5,-398 1350.5,-398 1350.5,-419\"/>\r\n",
       "<text text-anchor=\"middle\" x=\"1305.5\" y=\"-405.4\" font-family=\"Times New Roman,serif\" font-size=\"12.00\">ReluBackward1</text>\r\n",
       "</g>\r\n",
       "<!-- 2070800197952&#45;&gt;2070800197856 -->\r\n",
       "<g id=\"edge8\" class=\"edge\"><title>2070800197952&#45;&gt;2070800197856</title>\r\n",
       "<path fill=\"none\" stroke=\"black\" d=\"M1305.5,-397.92C1305.5,-390.908 1305.5,-381.144 1305.5,-372.465\"/>\r\n",
       "<polygon fill=\"black\" stroke=\"black\" points=\"1309,-372.341 1305.5,-362.341 1302,-372.341 1309,-372.341\"/>\r\n",
       "</g>\r\n",
       "<!-- 2070800198288 -->\r\n",
       "<g id=\"node10\" class=\"node\"><title>2070800198288</title>\r\n",
       "<polygon fill=\"lightgrey\" stroke=\"black\" points=\"1379,-476 1232,-476 1232,-455 1379,-455 1379,-476\"/>\r\n",
       "<text text-anchor=\"middle\" x=\"1305.5\" y=\"-462.4\" font-family=\"Times New Roman,serif\" font-size=\"12.00\">NativeBatchNormBackward</text>\r\n",
       "</g>\r\n",
       "<!-- 2070800198288&#45;&gt;2070800197952 -->\r\n",
       "<g id=\"edge9\" class=\"edge\"><title>2070800198288&#45;&gt;2070800197952</title>\r\n",
       "<path fill=\"none\" stroke=\"black\" d=\"M1305.5,-454.92C1305.5,-447.908 1305.5,-438.144 1305.5,-429.465\"/>\r\n",
       "<polygon fill=\"black\" stroke=\"black\" points=\"1309,-429.341 1305.5,-419.341 1302,-429.341 1309,-429.341\"/>\r\n",
       "</g>\r\n",
       "<!-- 2070800198384 -->\r\n",
       "<g id=\"node11\" class=\"node\"><title>2070800198384</title>\r\n",
       "<polygon fill=\"lightgrey\" stroke=\"black\" points=\"1260,-540 1135,-540 1135,-519 1260,-519 1260,-540\"/>\r\n",
       "<text text-anchor=\"middle\" x=\"1197.5\" y=\"-526.4\" font-family=\"Times New Roman,serif\" font-size=\"12.00\">ThnnConv2DBackward</text>\r\n",
       "</g>\r\n",
       "<!-- 2070800198384&#45;&gt;2070800198288 -->\r\n",
       "<g id=\"edge10\" class=\"edge\"><title>2070800198384&#45;&gt;2070800198288</title>\r\n",
       "<path fill=\"none\" stroke=\"black\" d=\"M1214.38,-518.813C1231.97,-508.712 1259.76,-492.76 1280.02,-481.125\"/>\r\n",
       "<polygon fill=\"black\" stroke=\"black\" points=\"1281.81,-484.134 1288.74,-476.119 1278.33,-478.063 1281.81,-484.134\"/>\r\n",
       "</g>\r\n",
       "<!-- 2070800199296 -->\r\n",
       "<g id=\"node12\" class=\"node\"><title>2070800199296</title>\r\n",
       "<polygon fill=\"lightgrey\" stroke=\"black\" points=\"1138.5,-611 1048.5,-611 1048.5,-590 1138.5,-590 1138.5,-611\"/>\r\n",
       "<text text-anchor=\"middle\" x=\"1093.5\" y=\"-597.4\" font-family=\"Times New Roman,serif\" font-size=\"12.00\">ReluBackward1</text>\r\n",
       "</g>\r\n",
       "<!-- 2070800199296&#45;&gt;2070800198384 -->\r\n",
       "<g id=\"edge11\" class=\"edge\"><title>2070800199296&#45;&gt;2070800198384</title>\r\n",
       "<path fill=\"none\" stroke=\"black\" d=\"M1107.96,-589.906C1125.27,-578.423 1154.46,-559.057 1174.79,-545.569\"/>\r\n",
       "<polygon fill=\"black\" stroke=\"black\" points=\"1176.76,-548.458 1183.16,-540.013 1172.89,-542.625 1176.76,-548.458\"/>\r\n",
       "</g>\r\n",
       "<!-- 2070800199632 -->\r\n",
       "<g id=\"node13\" class=\"node\"><title>2070800199632</title>\r\n",
       "<polygon fill=\"lightgrey\" stroke=\"black\" points=\"1167,-675 1020,-675 1020,-654 1167,-654 1167,-675\"/>\r\n",
       "<text text-anchor=\"middle\" x=\"1093.5\" y=\"-661.4\" font-family=\"Times New Roman,serif\" font-size=\"12.00\">NativeBatchNormBackward</text>\r\n",
       "</g>\r\n",
       "<!-- 2070800199632&#45;&gt;2070800199296 -->\r\n",
       "<g id=\"edge12\" class=\"edge\"><title>2070800199632&#45;&gt;2070800199296</title>\r\n",
       "<path fill=\"none\" stroke=\"black\" d=\"M1093.5,-653.813C1093.5,-645.218 1093.5,-632.388 1093.5,-621.585\"/>\r\n",
       "<polygon fill=\"black\" stroke=\"black\" points=\"1097,-621.324 1093.5,-611.324 1090,-621.324 1097,-621.324\"/>\r\n",
       "</g>\r\n",
       "<!-- 2070800199584 -->\r\n",
       "<g id=\"node14\" class=\"node\"><title>2070800199584</title>\r\n",
       "<polygon fill=\"lightgrey\" stroke=\"black\" points=\"1048,-739 923,-739 923,-718 1048,-718 1048,-739\"/>\r\n",
       "<text text-anchor=\"middle\" x=\"985.5\" y=\"-725.4\" font-family=\"Times New Roman,serif\" font-size=\"12.00\">ThnnConv2DBackward</text>\r\n",
       "</g>\r\n",
       "<!-- 2070800199584&#45;&gt;2070800199632 -->\r\n",
       "<g id=\"edge13\" class=\"edge\"><title>2070800199584&#45;&gt;2070800199632</title>\r\n",
       "<path fill=\"none\" stroke=\"black\" d=\"M1002.38,-717.813C1019.97,-707.712 1047.76,-691.76 1068.02,-680.125\"/>\r\n",
       "<polygon fill=\"black\" stroke=\"black\" points=\"1069.81,-683.134 1076.74,-675.119 1066.33,-677.063 1069.81,-683.134\"/>\r\n",
       "</g>\r\n",
       "<!-- 2070800199056 -->\r\n",
       "<g id=\"node15\" class=\"node\"><title>2070800199056</title>\r\n",
       "<polygon fill=\"lightgrey\" stroke=\"black\" points=\"929.5,-810 755.5,-810 755.5,-789 929.5,-789 929.5,-810\"/>\r\n",
       "<text text-anchor=\"middle\" x=\"842.5\" y=\"-796.4\" font-family=\"Times New Roman,serif\" font-size=\"12.00\">MaxPool2DWithIndicesBackward</text>\r\n",
       "</g>\r\n",
       "<!-- 2070800199056&#45;&gt;2070800199584 -->\r\n",
       "<g id=\"edge14\" class=\"edge\"><title>2070800199056&#45;&gt;2070800199584</title>\r\n",
       "<path fill=\"none\" stroke=\"black\" d=\"M862.384,-788.906C886.823,-777.114 928.489,-757.009 956.498,-743.494\"/>\r\n",
       "<polygon fill=\"black\" stroke=\"black\" points=\"958.3,-746.511 965.785,-739.013 955.258,-740.206 958.3,-746.511\"/>\r\n",
       "</g>\r\n",
       "<!-- 2070800198816 -->\r\n",
       "<g id=\"node16\" class=\"node\"><title>2070800198816</title>\r\n",
       "<polygon fill=\"lightgrey\" stroke=\"black\" points=\"887.5,-874 797.5,-874 797.5,-853 887.5,-853 887.5,-874\"/>\r\n",
       "<text text-anchor=\"middle\" x=\"842.5\" y=\"-860.4\" font-family=\"Times New Roman,serif\" font-size=\"12.00\">ReluBackward1</text>\r\n",
       "</g>\r\n",
       "<!-- 2070800198816&#45;&gt;2070800199056 -->\r\n",
       "<g id=\"edge15\" class=\"edge\"><title>2070800198816&#45;&gt;2070800199056</title>\r\n",
       "<path fill=\"none\" stroke=\"black\" d=\"M842.5,-852.813C842.5,-844.218 842.5,-831.388 842.5,-820.585\"/>\r\n",
       "<polygon fill=\"black\" stroke=\"black\" points=\"846,-820.324 842.5,-810.324 839,-820.324 846,-820.324\"/>\r\n",
       "</g>\r\n",
       "<!-- 2070800198048 -->\r\n",
       "<g id=\"node17\" class=\"node\"><title>2070800198048</title>\r\n",
       "<polygon fill=\"lightgrey\" stroke=\"black\" points=\"916,-931 769,-931 769,-910 916,-910 916,-931\"/>\r\n",
       "<text text-anchor=\"middle\" x=\"842.5\" y=\"-917.4\" font-family=\"Times New Roman,serif\" font-size=\"12.00\">NativeBatchNormBackward</text>\r\n",
       "</g>\r\n",
       "<!-- 2070800198048&#45;&gt;2070800198816 -->\r\n",
       "<g id=\"edge16\" class=\"edge\"><title>2070800198048&#45;&gt;2070800198816</title>\r\n",
       "<path fill=\"none\" stroke=\"black\" d=\"M842.5,-909.92C842.5,-902.908 842.5,-893.144 842.5,-884.465\"/>\r\n",
       "<polygon fill=\"black\" stroke=\"black\" points=\"846,-884.341 842.5,-874.341 839,-884.341 846,-884.341\"/>\r\n",
       "</g>\r\n",
       "<!-- 2070800198432 -->\r\n",
       "<g id=\"node18\" class=\"node\"><title>2070800198432</title>\r\n",
       "<polygon fill=\"lightgrey\" stroke=\"black\" points=\"797,-995 672,-995 672,-974 797,-974 797,-995\"/>\r\n",
       "<text text-anchor=\"middle\" x=\"734.5\" y=\"-981.4\" font-family=\"Times New Roman,serif\" font-size=\"12.00\">ThnnConv2DBackward</text>\r\n",
       "</g>\r\n",
       "<!-- 2070800198432&#45;&gt;2070800198048 -->\r\n",
       "<g id=\"edge17\" class=\"edge\"><title>2070800198432&#45;&gt;2070800198048</title>\r\n",
       "<path fill=\"none\" stroke=\"black\" d=\"M751.375,-973.813C768.97,-963.712 796.757,-947.76 817.024,-936.125\"/>\r\n",
       "<polygon fill=\"black\" stroke=\"black\" points=\"818.814,-939.134 825.743,-931.119 815.328,-933.063 818.814,-939.134\"/>\r\n",
       "</g>\r\n",
       "<!-- 2070800198000 -->\r\n",
       "<g id=\"node19\" class=\"node\"><title>2070800198000</title>\r\n",
       "<polygon fill=\"lightgrey\" stroke=\"black\" points=\"681.5,-1066 591.5,-1066 591.5,-1045 681.5,-1045 681.5,-1066\"/>\r\n",
       "<text text-anchor=\"middle\" x=\"636.5\" y=\"-1052.4\" font-family=\"Times New Roman,serif\" font-size=\"12.00\">ReluBackward1</text>\r\n",
       "</g>\r\n",
       "<!-- 2070800198000&#45;&gt;2070800198432 -->\r\n",
       "<g id=\"edge18\" class=\"edge\"><title>2070800198000&#45;&gt;2070800198432</title>\r\n",
       "<path fill=\"none\" stroke=\"black\" d=\"M650.126,-1044.91C666.29,-1033.53 693.449,-1014.4 712.58,-1000.93\"/>\r\n",
       "<polygon fill=\"black\" stroke=\"black\" points=\"714.828,-1003.63 720.989,-995.013 710.798,-997.908 714.828,-1003.63\"/>\r\n",
       "</g>\r\n",
       "<!-- 2070800197088 -->\r\n",
       "<g id=\"node20\" class=\"node\"><title>2070800197088</title>\r\n",
       "<polygon fill=\"lightgrey\" stroke=\"black\" points=\"710,-1130 563,-1130 563,-1109 710,-1109 710,-1130\"/>\r\n",
       "<text text-anchor=\"middle\" x=\"636.5\" y=\"-1116.4\" font-family=\"Times New Roman,serif\" font-size=\"12.00\">NativeBatchNormBackward</text>\r\n",
       "</g>\r\n",
       "<!-- 2070800197088&#45;&gt;2070800198000 -->\r\n",
       "<g id=\"edge19\" class=\"edge\"><title>2070800197088&#45;&gt;2070800198000</title>\r\n",
       "<path fill=\"none\" stroke=\"black\" d=\"M636.5,-1108.81C636.5,-1100.22 636.5,-1087.39 636.5,-1076.59\"/>\r\n",
       "<polygon fill=\"black\" stroke=\"black\" points=\"640,-1076.32 636.5,-1066.32 633,-1076.32 640,-1076.32\"/>\r\n",
       "</g>\r\n",
       "<!-- 2070800197472 -->\r\n",
       "<g id=\"node21\" class=\"node\"><title>2070800197472</title>\r\n",
       "<polygon fill=\"lightgrey\" stroke=\"black\" points=\"591,-1194 466,-1194 466,-1173 591,-1173 591,-1194\"/>\r\n",
       "<text text-anchor=\"middle\" x=\"528.5\" y=\"-1180.4\" font-family=\"Times New Roman,serif\" font-size=\"12.00\">ThnnConv2DBackward</text>\r\n",
       "</g>\r\n",
       "<!-- 2070800197472&#45;&gt;2070800197088 -->\r\n",
       "<g id=\"edge20\" class=\"edge\"><title>2070800197472&#45;&gt;2070800197088</title>\r\n",
       "<path fill=\"none\" stroke=\"black\" d=\"M545.375,-1172.81C562.97,-1162.71 590.757,-1146.76 611.024,-1135.13\"/>\r\n",
       "<polygon fill=\"black\" stroke=\"black\" points=\"612.814,-1138.13 619.743,-1130.12 609.328,-1132.06 612.814,-1138.13\"/>\r\n",
       "</g>\r\n",
       "<!-- 2070455200256 -->\r\n",
       "<g id=\"node22\" class=\"node\"><title>2070455200256</title>\r\n",
       "<polygon fill=\"lightgrey\" stroke=\"black\" points=\"475.5,-1265 301.5,-1265 301.5,-1244 475.5,-1244 475.5,-1265\"/>\r\n",
       "<text text-anchor=\"middle\" x=\"388.5\" y=\"-1251.4\" font-family=\"Times New Roman,serif\" font-size=\"12.00\">MaxPool2DWithIndicesBackward</text>\r\n",
       "</g>\r\n",
       "<!-- 2070455200256&#45;&gt;2070800197472 -->\r\n",
       "<g id=\"edge21\" class=\"edge\"><title>2070455200256&#45;&gt;2070800197472</title>\r\n",
       "<path fill=\"none\" stroke=\"black\" d=\"M407.966,-1243.91C431.893,-1232.11 472.685,-1212.01 500.107,-1198.49\"/>\r\n",
       "<polygon fill=\"black\" stroke=\"black\" points=\"501.776,-1201.57 509.199,-1194.01 498.682,-1195.29 501.776,-1201.57\"/>\r\n",
       "</g>\r\n",
       "<!-- 2070800197232 -->\r\n",
       "<g id=\"node23\" class=\"node\"><title>2070800197232</title>\r\n",
       "<polygon fill=\"lightgrey\" stroke=\"black\" points=\"433.5,-1329 343.5,-1329 343.5,-1308 433.5,-1308 433.5,-1329\"/>\r\n",
       "<text text-anchor=\"middle\" x=\"388.5\" y=\"-1315.4\" font-family=\"Times New Roman,serif\" font-size=\"12.00\">ReluBackward1</text>\r\n",
       "</g>\r\n",
       "<!-- 2070800197232&#45;&gt;2070455200256 -->\r\n",
       "<g id=\"edge22\" class=\"edge\"><title>2070800197232&#45;&gt;2070455200256</title>\r\n",
       "<path fill=\"none\" stroke=\"black\" d=\"M388.5,-1307.81C388.5,-1299.22 388.5,-1286.39 388.5,-1275.59\"/>\r\n",
       "<polygon fill=\"black\" stroke=\"black\" points=\"392,-1275.32 388.5,-1265.32 385,-1275.32 392,-1275.32\"/>\r\n",
       "</g>\r\n",
       "<!-- 2070800197040 -->\r\n",
       "<g id=\"node24\" class=\"node\"><title>2070800197040</title>\r\n",
       "<polygon fill=\"lightgrey\" stroke=\"black\" points=\"462,-1386 315,-1386 315,-1365 462,-1365 462,-1386\"/>\r\n",
       "<text text-anchor=\"middle\" x=\"388.5\" y=\"-1372.4\" font-family=\"Times New Roman,serif\" font-size=\"12.00\">NativeBatchNormBackward</text>\r\n",
       "</g>\r\n",
       "<!-- 2070800197040&#45;&gt;2070800197232 -->\r\n",
       "<g id=\"edge23\" class=\"edge\"><title>2070800197040&#45;&gt;2070800197232</title>\r\n",
       "<path fill=\"none\" stroke=\"black\" d=\"M388.5,-1364.92C388.5,-1357.91 388.5,-1348.14 388.5,-1339.47\"/>\r\n",
       "<polygon fill=\"black\" stroke=\"black\" points=\"392,-1339.34 388.5,-1329.34 385,-1339.34 392,-1339.34\"/>\r\n",
       "</g>\r\n",
       "<!-- 2070800196992 -->\r\n",
       "<g id=\"node25\" class=\"node\"><title>2070800196992</title>\r\n",
       "<polygon fill=\"lightgrey\" stroke=\"black\" points=\"343,-1450 218,-1450 218,-1429 343,-1429 343,-1450\"/>\r\n",
       "<text text-anchor=\"middle\" x=\"280.5\" y=\"-1436.4\" font-family=\"Times New Roman,serif\" font-size=\"12.00\">ThnnConv2DBackward</text>\r\n",
       "</g>\r\n",
       "<!-- 2070800196992&#45;&gt;2070800197040 -->\r\n",
       "<g id=\"edge24\" class=\"edge\"><title>2070800196992&#45;&gt;2070800197040</title>\r\n",
       "<path fill=\"none\" stroke=\"black\" d=\"M297.375,-1428.81C314.97,-1418.71 342.757,-1402.76 363.024,-1391.13\"/>\r\n",
       "<polygon fill=\"black\" stroke=\"black\" points=\"364.814,-1394.13 371.743,-1386.12 361.328,-1388.06 364.814,-1394.13\"/>\r\n",
       "</g>\r\n",
       "<!-- 2070800196512 -->\r\n",
       "<g id=\"node26\" class=\"node\"><title>2070800196512</title>\r\n",
       "<polygon fill=\"lightgrey\" stroke=\"black\" points=\"227.5,-1521 137.5,-1521 137.5,-1500 227.5,-1500 227.5,-1521\"/>\r\n",
       "<text text-anchor=\"middle\" x=\"182.5\" y=\"-1507.4\" font-family=\"Times New Roman,serif\" font-size=\"12.00\">ReluBackward1</text>\r\n",
       "</g>\r\n",
       "<!-- 2070800196512&#45;&gt;2070800196992 -->\r\n",
       "<g id=\"edge25\" class=\"edge\"><title>2070800196512&#45;&gt;2070800196992</title>\r\n",
       "<path fill=\"none\" stroke=\"black\" d=\"M196.126,-1499.91C212.29,-1488.53 239.449,-1469.4 258.58,-1455.93\"/>\r\n",
       "<polygon fill=\"black\" stroke=\"black\" points=\"260.828,-1458.63 266.989,-1450.01 256.798,-1452.91 260.828,-1458.63\"/>\r\n",
       "</g>\r\n",
       "<!-- 2070800196656 -->\r\n",
       "<g id=\"node27\" class=\"node\"><title>2070800196656</title>\r\n",
       "<polygon fill=\"lightgrey\" stroke=\"black\" points=\"256,-1585 109,-1585 109,-1564 256,-1564 256,-1585\"/>\r\n",
       "<text text-anchor=\"middle\" x=\"182.5\" y=\"-1571.4\" font-family=\"Times New Roman,serif\" font-size=\"12.00\">NativeBatchNormBackward</text>\r\n",
       "</g>\r\n",
       "<!-- 2070800196656&#45;&gt;2070800196512 -->\r\n",
       "<g id=\"edge26\" class=\"edge\"><title>2070800196656&#45;&gt;2070800196512</title>\r\n",
       "<path fill=\"none\" stroke=\"black\" d=\"M182.5,-1563.81C182.5,-1555.22 182.5,-1542.39 182.5,-1531.59\"/>\r\n",
       "<polygon fill=\"black\" stroke=\"black\" points=\"186,-1531.32 182.5,-1521.32 179,-1531.32 186,-1531.32\"/>\r\n",
       "</g>\r\n",
       "<!-- 2070800195888 -->\r\n",
       "<g id=\"node28\" class=\"node\"><title>2070800195888</title>\r\n",
       "<polygon fill=\"lightgrey\" stroke=\"black\" points=\"137,-1649 12,-1649 12,-1628 137,-1628 137,-1649\"/>\r\n",
       "<text text-anchor=\"middle\" x=\"74.5\" y=\"-1635.4\" font-family=\"Times New Roman,serif\" font-size=\"12.00\">ThnnConv2DBackward</text>\r\n",
       "</g>\r\n",
       "<!-- 2070800195888&#45;&gt;2070800196656 -->\r\n",
       "<g id=\"edge27\" class=\"edge\"><title>2070800195888&#45;&gt;2070800196656</title>\r\n",
       "<path fill=\"none\" stroke=\"black\" d=\"M91.375,-1627.81C108.97,-1617.71 136.757,-1601.76 157.024,-1590.13\"/>\r\n",
       "<polygon fill=\"black\" stroke=\"black\" points=\"158.814,-1593.13 165.743,-1585.12 155.328,-1587.06 158.814,-1593.13\"/>\r\n",
       "</g>\r\n",
       "<!-- 2070800198192 -->\r\n",
       "<g id=\"node29\" class=\"node\"><title>2070800198192</title>\r\n",
       "<polygon fill=\"lightblue\" stroke=\"black\" points=\"69,-1727 0,-1727 0,-1692 69,-1692 69,-1727\"/>\r\n",
       "<text text-anchor=\"middle\" x=\"34.5\" y=\"-1699.4\" font-family=\"Times New Roman,serif\" font-size=\"12.00\"> (4, 1, 3, 3)</text>\r\n",
       "</g>\r\n",
       "<!-- 2070800198192&#45;&gt;2070800195888 -->\r\n",
       "<g id=\"edge28\" class=\"edge\"><title>2070800198192&#45;&gt;2070800195888</title>\r\n",
       "<path fill=\"none\" stroke=\"black\" d=\"M44.1829,-1691.8C50.1308,-1681.54 57.7553,-1668.38 63.87,-1657.84\"/>\r\n",
       "<polygon fill=\"black\" stroke=\"black\" points=\"66.9823,-1659.45 68.9697,-1649.04 60.9263,-1655.94 66.9823,-1659.45\"/>\r\n",
       "</g>\r\n",
       "<!-- 2070800198720 -->\r\n",
       "<g id=\"node30\" class=\"node\"><title>2070800198720</title>\r\n",
       "<polygon fill=\"lightblue\" stroke=\"black\" points=\"141.5,-1727 87.5,-1727 87.5,-1692 141.5,-1692 141.5,-1727\"/>\r\n",
       "<text text-anchor=\"middle\" x=\"114.5\" y=\"-1699.4\" font-family=\"Times New Roman,serif\" font-size=\"12.00\"> (4)</text>\r\n",
       "</g>\r\n",
       "<!-- 2070800198720&#45;&gt;2070800195888 -->\r\n",
       "<g id=\"edge29\" class=\"edge\"><title>2070800198720&#45;&gt;2070800195888</title>\r\n",
       "<path fill=\"none\" stroke=\"black\" d=\"M104.817,-1691.8C98.8692,-1681.54 91.2447,-1668.38 85.13,-1657.84\"/>\r\n",
       "<polygon fill=\"black\" stroke=\"black\" points=\"88.0737,-1655.94 80.0303,-1649.04 82.0177,-1659.45 88.0737,-1655.94\"/>\r\n",
       "</g>\r\n",
       "<!-- 2070800195936 -->\r\n",
       "<g id=\"node31\" class=\"node\"><title>2070800195936</title>\r\n",
       "<polygon fill=\"lightblue\" stroke=\"black\" points=\"209.5,-1656 155.5,-1656 155.5,-1621 209.5,-1621 209.5,-1656\"/>\r\n",
       "<text text-anchor=\"middle\" x=\"182.5\" y=\"-1628.4\" font-family=\"Times New Roman,serif\" font-size=\"12.00\"> (4)</text>\r\n",
       "</g>\r\n",
       "<!-- 2070800195936&#45;&gt;2070800196656 -->\r\n",
       "<g id=\"edge30\" class=\"edge\"><title>2070800195936&#45;&gt;2070800196656</title>\r\n",
       "<path fill=\"none\" stroke=\"black\" d=\"M182.5,-1620.89C182.5,-1612.99 182.5,-1603.5 182.5,-1595.25\"/>\r\n",
       "<polygon fill=\"black\" stroke=\"black\" points=\"186,-1595.02 182.5,-1585.02 179,-1595.02 186,-1595.02\"/>\r\n",
       "</g>\r\n",
       "<!-- 2070800196080 -->\r\n",
       "<g id=\"node32\" class=\"node\"><title>2070800196080</title>\r\n",
       "<polygon fill=\"lightblue\" stroke=\"black\" points=\"281.5,-1656 227.5,-1656 227.5,-1621 281.5,-1621 281.5,-1656\"/>\r\n",
       "<text text-anchor=\"middle\" x=\"254.5\" y=\"-1628.4\" font-family=\"Times New Roman,serif\" font-size=\"12.00\"> (4)</text>\r\n",
       "</g>\r\n",
       "<!-- 2070800196080&#45;&gt;2070800196656 -->\r\n",
       "<g id=\"edge31\" class=\"edge\"><title>2070800196080&#45;&gt;2070800196656</title>\r\n",
       "<path fill=\"none\" stroke=\"black\" d=\"M235.205,-1620.89C224.687,-1611.83 211.725,-1600.67 201.288,-1591.68\"/>\r\n",
       "<polygon fill=\"black\" stroke=\"black\" points=\"203.414,-1588.89 193.553,-1585.02 198.847,-1594.2 203.414,-1588.89\"/>\r\n",
       "</g>\r\n",
       "<!-- 2070800196416 -->\r\n",
       "<g id=\"node33\" class=\"node\"><title>2070800196416</title>\r\n",
       "<polygon fill=\"lightblue\" stroke=\"black\" points=\"315,-1528 246,-1528 246,-1493 315,-1493 315,-1528\"/>\r\n",
       "<text text-anchor=\"middle\" x=\"280.5\" y=\"-1500.4\" font-family=\"Times New Roman,serif\" font-size=\"12.00\"> (4, 4, 3, 3)</text>\r\n",
       "</g>\r\n",
       "<!-- 2070800196416&#45;&gt;2070800196992 -->\r\n",
       "<g id=\"edge32\" class=\"edge\"><title>2070800196416&#45;&gt;2070800196992</title>\r\n",
       "<path fill=\"none\" stroke=\"black\" d=\"M280.5,-1492.8C280.5,-1482.96 280.5,-1470.45 280.5,-1460.14\"/>\r\n",
       "<polygon fill=\"black\" stroke=\"black\" points=\"284,-1460.04 280.5,-1450.04 277,-1460.04 284,-1460.04\"/>\r\n",
       "</g>\r\n",
       "<!-- 2070800196464 -->\r\n",
       "<g id=\"node34\" class=\"node\"><title>2070800196464</title>\r\n",
       "<polygon fill=\"lightblue\" stroke=\"black\" points=\"387.5,-1528 333.5,-1528 333.5,-1493 387.5,-1493 387.5,-1528\"/>\r\n",
       "<text text-anchor=\"middle\" x=\"360.5\" y=\"-1500.4\" font-family=\"Times New Roman,serif\" font-size=\"12.00\"> (4)</text>\r\n",
       "</g>\r\n",
       "<!-- 2070800196464&#45;&gt;2070800196992 -->\r\n",
       "<g id=\"edge33\" class=\"edge\"><title>2070800196464&#45;&gt;2070800196992</title>\r\n",
       "<path fill=\"none\" stroke=\"black\" d=\"M341.134,-1492.8C328.389,-1481.8 311.794,-1467.49 299.188,-1456.62\"/>\r\n",
       "<polygon fill=\"black\" stroke=\"black\" points=\"301.419,-1453.92 291.561,-1450.04 296.847,-1459.22 301.419,-1453.92\"/>\r\n",
       "</g>\r\n",
       "<!-- 2070800197136 -->\r\n",
       "<g id=\"node35\" class=\"node\"><title>2070800197136</title>\r\n",
       "<polygon fill=\"lightblue\" stroke=\"black\" points=\"415.5,-1457 361.5,-1457 361.5,-1422 415.5,-1422 415.5,-1457\"/>\r\n",
       "<text text-anchor=\"middle\" x=\"388.5\" y=\"-1429.4\" font-family=\"Times New Roman,serif\" font-size=\"12.00\"> (4)</text>\r\n",
       "</g>\r\n",
       "<!-- 2070800197136&#45;&gt;2070800197040 -->\r\n",
       "<g id=\"edge34\" class=\"edge\"><title>2070800197136&#45;&gt;2070800197040</title>\r\n",
       "<path fill=\"none\" stroke=\"black\" d=\"M388.5,-1421.89C388.5,-1413.99 388.5,-1404.5 388.5,-1396.25\"/>\r\n",
       "<polygon fill=\"black\" stroke=\"black\" points=\"392,-1396.02 388.5,-1386.02 385,-1396.02 392,-1396.02\"/>\r\n",
       "</g>\r\n",
       "<!-- 2070800197184 -->\r\n",
       "<g id=\"node36\" class=\"node\"><title>2070800197184</title>\r\n",
       "<polygon fill=\"lightblue\" stroke=\"black\" points=\"487.5,-1457 433.5,-1457 433.5,-1422 487.5,-1422 487.5,-1457\"/>\r\n",
       "<text text-anchor=\"middle\" x=\"460.5\" y=\"-1429.4\" font-family=\"Times New Roman,serif\" font-size=\"12.00\"> (4)</text>\r\n",
       "</g>\r\n",
       "<!-- 2070800197184&#45;&gt;2070800197040 -->\r\n",
       "<g id=\"edge35\" class=\"edge\"><title>2070800197184&#45;&gt;2070800197040</title>\r\n",
       "<path fill=\"none\" stroke=\"black\" d=\"M441.205,-1421.89C430.687,-1412.83 417.725,-1401.67 407.288,-1392.68\"/>\r\n",
       "<polygon fill=\"black\" stroke=\"black\" points=\"409.414,-1389.89 399.553,-1386.02 404.847,-1395.2 409.414,-1389.89\"/>\r\n",
       "</g>\r\n",
       "<!-- 2070800196560 -->\r\n",
       "<g id=\"node37\" class=\"node\"><title>2070800196560</title>\r\n",
       "<polygon fill=\"lightblue\" stroke=\"black\" points=\"563,-1272 494,-1272 494,-1237 563,-1237 563,-1272\"/>\r\n",
       "<text text-anchor=\"middle\" x=\"528.5\" y=\"-1244.4\" font-family=\"Times New Roman,serif\" font-size=\"12.00\"> (8, 4, 3, 3)</text>\r\n",
       "</g>\r\n",
       "<!-- 2070800196560&#45;&gt;2070800197472 -->\r\n",
       "<g id=\"edge36\" class=\"edge\"><title>2070800196560&#45;&gt;2070800197472</title>\r\n",
       "<path fill=\"none\" stroke=\"black\" d=\"M528.5,-1236.8C528.5,-1226.96 528.5,-1214.45 528.5,-1204.14\"/>\r\n",
       "<polygon fill=\"black\" stroke=\"black\" points=\"532,-1204.04 528.5,-1194.04 525,-1204.04 532,-1204.04\"/>\r\n",
       "</g>\r\n",
       "<!-- 2070800196176 -->\r\n",
       "<g id=\"node38\" class=\"node\"><title>2070800196176</title>\r\n",
       "<polygon fill=\"lightblue\" stroke=\"black\" points=\"635.5,-1272 581.5,-1272 581.5,-1237 635.5,-1237 635.5,-1272\"/>\r\n",
       "<text text-anchor=\"middle\" x=\"608.5\" y=\"-1244.4\" font-family=\"Times New Roman,serif\" font-size=\"12.00\"> (8)</text>\r\n",
       "</g>\r\n",
       "<!-- 2070800196176&#45;&gt;2070800197472 -->\r\n",
       "<g id=\"edge37\" class=\"edge\"><title>2070800196176&#45;&gt;2070800197472</title>\r\n",
       "<path fill=\"none\" stroke=\"black\" d=\"M589.134,-1236.8C576.389,-1225.8 559.794,-1211.49 547.188,-1200.62\"/>\r\n",
       "<polygon fill=\"black\" stroke=\"black\" points=\"549.419,-1197.92 539.561,-1194.04 544.847,-1203.22 549.419,-1197.92\"/>\r\n",
       "</g>\r\n",
       "<!-- 2070800197520 -->\r\n",
       "<g id=\"node39\" class=\"node\"><title>2070800197520</title>\r\n",
       "<polygon fill=\"lightblue\" stroke=\"black\" points=\"663.5,-1201 609.5,-1201 609.5,-1166 663.5,-1166 663.5,-1201\"/>\r\n",
       "<text text-anchor=\"middle\" x=\"636.5\" y=\"-1173.4\" font-family=\"Times New Roman,serif\" font-size=\"12.00\"> (8)</text>\r\n",
       "</g>\r\n",
       "<!-- 2070800197520&#45;&gt;2070800197088 -->\r\n",
       "<g id=\"edge38\" class=\"edge\"><title>2070800197520&#45;&gt;2070800197088</title>\r\n",
       "<path fill=\"none\" stroke=\"black\" d=\"M636.5,-1165.89C636.5,-1157.99 636.5,-1148.5 636.5,-1140.25\"/>\r\n",
       "<polygon fill=\"black\" stroke=\"black\" points=\"640,-1140.02 636.5,-1130.02 633,-1140.02 640,-1140.02\"/>\r\n",
       "</g>\r\n",
       "<!-- 2070800197664 -->\r\n",
       "<g id=\"node40\" class=\"node\"><title>2070800197664</title>\r\n",
       "<polygon fill=\"lightblue\" stroke=\"black\" points=\"735.5,-1201 681.5,-1201 681.5,-1166 735.5,-1166 735.5,-1201\"/>\r\n",
       "<text text-anchor=\"middle\" x=\"708.5\" y=\"-1173.4\" font-family=\"Times New Roman,serif\" font-size=\"12.00\"> (8)</text>\r\n",
       "</g>\r\n",
       "<!-- 2070800197664&#45;&gt;2070800197088 -->\r\n",
       "<g id=\"edge39\" class=\"edge\"><title>2070800197664&#45;&gt;2070800197088</title>\r\n",
       "<path fill=\"none\" stroke=\"black\" d=\"M689.205,-1165.89C678.687,-1156.83 665.725,-1145.67 655.288,-1136.68\"/>\r\n",
       "<polygon fill=\"black\" stroke=\"black\" points=\"657.414,-1133.89 647.553,-1130.02 652.847,-1139.2 657.414,-1133.89\"/>\r\n",
       "</g>\r\n",
       "<!-- 2070800197616 -->\r\n",
       "<g id=\"node41\" class=\"node\"><title>2070800197616</title>\r\n",
       "<polygon fill=\"lightblue\" stroke=\"black\" points=\"769,-1073 700,-1073 700,-1038 769,-1038 769,-1073\"/>\r\n",
       "<text text-anchor=\"middle\" x=\"734.5\" y=\"-1045.4\" font-family=\"Times New Roman,serif\" font-size=\"12.00\"> (8, 8, 3, 3)</text>\r\n",
       "</g>\r\n",
       "<!-- 2070800197616&#45;&gt;2070800198432 -->\r\n",
       "<g id=\"edge40\" class=\"edge\"><title>2070800197616&#45;&gt;2070800198432</title>\r\n",
       "<path fill=\"none\" stroke=\"black\" d=\"M734.5,-1037.8C734.5,-1027.96 734.5,-1015.45 734.5,-1005.14\"/>\r\n",
       "<polygon fill=\"black\" stroke=\"black\" points=\"738,-1005.04 734.5,-995.04 731,-1005.04 738,-1005.04\"/>\r\n",
       "</g>\r\n",
       "<!-- 2070800198096 -->\r\n",
       "<g id=\"node42\" class=\"node\"><title>2070800198096</title>\r\n",
       "<polygon fill=\"lightblue\" stroke=\"black\" points=\"841.5,-1073 787.5,-1073 787.5,-1038 841.5,-1038 841.5,-1073\"/>\r\n",
       "<text text-anchor=\"middle\" x=\"814.5\" y=\"-1045.4\" font-family=\"Times New Roman,serif\" font-size=\"12.00\"> (8)</text>\r\n",
       "</g>\r\n",
       "<!-- 2070800198096&#45;&gt;2070800198432 -->\r\n",
       "<g id=\"edge41\" class=\"edge\"><title>2070800198096&#45;&gt;2070800198432</title>\r\n",
       "<path fill=\"none\" stroke=\"black\" d=\"M795.134,-1037.8C782.389,-1026.8 765.794,-1012.49 753.188,-1001.62\"/>\r\n",
       "<polygon fill=\"black\" stroke=\"black\" points=\"755.419,-998.921 745.561,-995.04 750.847,-1004.22 755.419,-998.921\"/>\r\n",
       "</g>\r\n",
       "<!-- 2070800198480 -->\r\n",
       "<g id=\"node43\" class=\"node\"><title>2070800198480</title>\r\n",
       "<polygon fill=\"lightblue\" stroke=\"black\" points=\"869.5,-1002 815.5,-1002 815.5,-967 869.5,-967 869.5,-1002\"/>\r\n",
       "<text text-anchor=\"middle\" x=\"842.5\" y=\"-974.4\" font-family=\"Times New Roman,serif\" font-size=\"12.00\"> (8)</text>\r\n",
       "</g>\r\n",
       "<!-- 2070800198480&#45;&gt;2070800198048 -->\r\n",
       "<g id=\"edge42\" class=\"edge\"><title>2070800198480&#45;&gt;2070800198048</title>\r\n",
       "<path fill=\"none\" stroke=\"black\" d=\"M842.5,-966.885C842.5,-958.994 842.5,-949.505 842.5,-941.248\"/>\r\n",
       "<polygon fill=\"black\" stroke=\"black\" points=\"846,-941.018 842.5,-931.018 839,-941.018 846,-941.018\"/>\r\n",
       "</g>\r\n",
       "<!-- 2070800198624 -->\r\n",
       "<g id=\"node44\" class=\"node\"><title>2070800198624</title>\r\n",
       "<polygon fill=\"lightblue\" stroke=\"black\" points=\"941.5,-1002 887.5,-1002 887.5,-967 941.5,-967 941.5,-1002\"/>\r\n",
       "<text text-anchor=\"middle\" x=\"914.5\" y=\"-974.4\" font-family=\"Times New Roman,serif\" font-size=\"12.00\"> (8)</text>\r\n",
       "</g>\r\n",
       "<!-- 2070800198624&#45;&gt;2070800198048 -->\r\n",
       "<g id=\"edge43\" class=\"edge\"><title>2070800198624&#45;&gt;2070800198048</title>\r\n",
       "<path fill=\"none\" stroke=\"black\" d=\"M895.205,-966.885C884.687,-957.828 871.725,-946.666 861.288,-937.678\"/>\r\n",
       "<polygon fill=\"black\" stroke=\"black\" points=\"863.414,-934.891 853.553,-931.018 858.847,-940.195 863.414,-934.891\"/>\r\n",
       "</g>\r\n",
       "<!-- 2070800198960 -->\r\n",
       "<g id=\"node45\" class=\"node\"><title>2070800198960</title>\r\n",
       "<polygon fill=\"lightblue\" stroke=\"black\" points=\"1023,-817 948,-817 948,-782 1023,-782 1023,-817\"/>\r\n",
       "<text text-anchor=\"middle\" x=\"985.5\" y=\"-789.4\" font-family=\"Times New Roman,serif\" font-size=\"12.00\"> (16, 8, 3, 3)</text>\r\n",
       "</g>\r\n",
       "<!-- 2070800198960&#45;&gt;2070800199584 -->\r\n",
       "<g id=\"edge44\" class=\"edge\"><title>2070800198960&#45;&gt;2070800199584</title>\r\n",
       "<path fill=\"none\" stroke=\"black\" d=\"M985.5,-781.797C985.5,-771.956 985.5,-759.453 985.5,-749.141\"/>\r\n",
       "<polygon fill=\"black\" stroke=\"black\" points=\"989,-749.04 985.5,-739.04 982,-749.04 989,-749.04\"/>\r\n",
       "</g>\r\n",
       "<!-- 2070800199008 -->\r\n",
       "<g id=\"node46\" class=\"node\"><title>2070800199008</title>\r\n",
       "<polygon fill=\"lightblue\" stroke=\"black\" points=\"1095.5,-817 1041.5,-817 1041.5,-782 1095.5,-782 1095.5,-817\"/>\r\n",
       "<text text-anchor=\"middle\" x=\"1068.5\" y=\"-789.4\" font-family=\"Times New Roman,serif\" font-size=\"12.00\"> (16)</text>\r\n",
       "</g>\r\n",
       "<!-- 2070800199008&#45;&gt;2070800199584 -->\r\n",
       "<g id=\"edge45\" class=\"edge\"><title>2070800199008&#45;&gt;2070800199584</title>\r\n",
       "<path fill=\"none\" stroke=\"black\" d=\"M1048.41,-781.797C1035.18,-770.804 1017.97,-756.491 1004.89,-745.618\"/>\r\n",
       "<polygon fill=\"black\" stroke=\"black\" points=\"1006.9,-742.741 996.975,-739.04 1002.43,-748.124 1006.9,-742.741\"/>\r\n",
       "</g>\r\n",
       "<!-- 2070800199488 -->\r\n",
       "<g id=\"node47\" class=\"node\"><title>2070800199488</title>\r\n",
       "<polygon fill=\"lightblue\" stroke=\"black\" points=\"1120.5,-746 1066.5,-746 1066.5,-711 1120.5,-711 1120.5,-746\"/>\r\n",
       "<text text-anchor=\"middle\" x=\"1093.5\" y=\"-718.4\" font-family=\"Times New Roman,serif\" font-size=\"12.00\"> (16)</text>\r\n",
       "</g>\r\n",
       "<!-- 2070800199488&#45;&gt;2070800199632 -->\r\n",
       "<g id=\"edge46\" class=\"edge\"><title>2070800199488&#45;&gt;2070800199632</title>\r\n",
       "<path fill=\"none\" stroke=\"black\" d=\"M1093.5,-710.885C1093.5,-702.994 1093.5,-693.505 1093.5,-685.248\"/>\r\n",
       "<polygon fill=\"black\" stroke=\"black\" points=\"1097,-685.018 1093.5,-675.018 1090,-685.018 1097,-685.018\"/>\r\n",
       "</g>\r\n",
       "<!-- 2070800199536 -->\r\n",
       "<g id=\"node48\" class=\"node\"><title>2070800199536</title>\r\n",
       "<polygon fill=\"lightblue\" stroke=\"black\" points=\"1192.5,-746 1138.5,-746 1138.5,-711 1192.5,-711 1192.5,-746\"/>\r\n",
       "<text text-anchor=\"middle\" x=\"1165.5\" y=\"-718.4\" font-family=\"Times New Roman,serif\" font-size=\"12.00\"> (16)</text>\r\n",
       "</g>\r\n",
       "<!-- 2070800199536&#45;&gt;2070800199632 -->\r\n",
       "<g id=\"edge47\" class=\"edge\"><title>2070800199536&#45;&gt;2070800199632</title>\r\n",
       "<path fill=\"none\" stroke=\"black\" d=\"M1146.21,-710.885C1135.69,-701.828 1122.73,-690.666 1112.29,-681.678\"/>\r\n",
       "<polygon fill=\"black\" stroke=\"black\" points=\"1114.41,-678.891 1104.55,-675.018 1109.85,-684.195 1114.41,-678.891\"/>\r\n",
       "</g>\r\n",
       "<!-- 2070800199344 -->\r\n",
       "<g id=\"node49\" class=\"node\"><title>2070800199344</title>\r\n",
       "<polygon fill=\"lightblue\" stroke=\"black\" points=\"1238,-618 1157,-618 1157,-583 1238,-583 1238,-618\"/>\r\n",
       "<text text-anchor=\"middle\" x=\"1197.5\" y=\"-590.4\" font-family=\"Times New Roman,serif\" font-size=\"12.00\"> (16, 16, 3, 3)</text>\r\n",
       "</g>\r\n",
       "<!-- 2070800199344&#45;&gt;2070800198384 -->\r\n",
       "<g id=\"edge48\" class=\"edge\"><title>2070800199344&#45;&gt;2070800198384</title>\r\n",
       "<path fill=\"none\" stroke=\"black\" d=\"M1197.5,-582.797C1197.5,-572.956 1197.5,-560.453 1197.5,-550.141\"/>\r\n",
       "<polygon fill=\"black\" stroke=\"black\" points=\"1201,-550.04 1197.5,-540.04 1194,-550.04 1201,-550.04\"/>\r\n",
       "</g>\r\n",
       "<!-- 2070800199392 -->\r\n",
       "<g id=\"node50\" class=\"node\"><title>2070800199392</title>\r\n",
       "<polygon fill=\"lightblue\" stroke=\"black\" points=\"1310.5,-618 1256.5,-618 1256.5,-583 1310.5,-583 1310.5,-618\"/>\r\n",
       "<text text-anchor=\"middle\" x=\"1283.5\" y=\"-590.4\" font-family=\"Times New Roman,serif\" font-size=\"12.00\"> (16)</text>\r\n",
       "</g>\r\n",
       "<!-- 2070800199392&#45;&gt;2070800198384 -->\r\n",
       "<g id=\"edge49\" class=\"edge\"><title>2070800199392&#45;&gt;2070800198384</title>\r\n",
       "<path fill=\"none\" stroke=\"black\" d=\"M1262.68,-582.797C1248.85,-571.699 1230.8,-557.218 1217.2,-546.309\"/>\r\n",
       "<polygon fill=\"black\" stroke=\"black\" points=\"1219.38,-543.568 1209.39,-540.04 1215,-549.028 1219.38,-543.568\"/>\r\n",
       "</g>\r\n",
       "<!-- 2070800198768 -->\r\n",
       "<g id=\"node51\" class=\"node\"><title>2070800198768</title>\r\n",
       "<polygon fill=\"lightblue\" stroke=\"black\" points=\"1332.5,-547 1278.5,-547 1278.5,-512 1332.5,-512 1332.5,-547\"/>\r\n",
       "<text text-anchor=\"middle\" x=\"1305.5\" y=\"-519.4\" font-family=\"Times New Roman,serif\" font-size=\"12.00\"> (16)</text>\r\n",
       "</g>\r\n",
       "<!-- 2070800198768&#45;&gt;2070800198288 -->\r\n",
       "<g id=\"edge50\" class=\"edge\"><title>2070800198768&#45;&gt;2070800198288</title>\r\n",
       "<path fill=\"none\" stroke=\"black\" d=\"M1305.5,-511.885C1305.5,-503.994 1305.5,-494.505 1305.5,-486.248\"/>\r\n",
       "<polygon fill=\"black\" stroke=\"black\" points=\"1309,-486.018 1305.5,-476.018 1302,-486.018 1309,-486.018\"/>\r\n",
       "</g>\r\n",
       "<!-- 2070800198864 -->\r\n",
       "<g id=\"node52\" class=\"node\"><title>2070800198864</title>\r\n",
       "<polygon fill=\"lightblue\" stroke=\"black\" points=\"1404.5,-547 1350.5,-547 1350.5,-512 1404.5,-512 1404.5,-547\"/>\r\n",
       "<text text-anchor=\"middle\" x=\"1377.5\" y=\"-519.4\" font-family=\"Times New Roman,serif\" font-size=\"12.00\"> (16)</text>\r\n",
       "</g>\r\n",
       "<!-- 2070800198864&#45;&gt;2070800198288 -->\r\n",
       "<g id=\"edge51\" class=\"edge\"><title>2070800198864&#45;&gt;2070800198288</title>\r\n",
       "<path fill=\"none\" stroke=\"black\" d=\"M1358.21,-511.885C1347.69,-502.828 1334.73,-491.666 1324.29,-482.678\"/>\r\n",
       "<polygon fill=\"black\" stroke=\"black\" points=\"1326.41,-479.891 1316.55,-476.018 1321.85,-485.195 1326.41,-479.891\"/>\r\n",
       "</g>\r\n",
       "<!-- 2070800196896 -->\r\n",
       "<g id=\"node53\" class=\"node\"><title>2070800196896</title>\r\n",
       "<polygon fill=\"lightgrey\" stroke=\"black\" points=\"1439,-227 1368,-227 1368,-206 1439,-206 1439,-227\"/>\r\n",
       "<text text-anchor=\"middle\" x=\"1403.5\" y=\"-213.4\" font-family=\"Times New Roman,serif\" font-size=\"12.00\">TBackward</text>\r\n",
       "</g>\r\n",
       "<!-- 2070800196896&#45;&gt;2070800197328 -->\r\n",
       "<g id=\"edge52\" class=\"edge\"><title>2070800196896&#45;&gt;2070800197328</title>\r\n",
       "<path fill=\"none\" stroke=\"black\" d=\"M1389.87,-205.906C1373.71,-194.526 1346.55,-175.403 1327.42,-161.934\"/>\r\n",
       "<polygon fill=\"black\" stroke=\"black\" points=\"1329.2,-158.908 1319.01,-156.013 1325.17,-164.632 1329.2,-158.908\"/>\r\n",
       "</g>\r\n",
       "<!-- 2070800197808 -->\r\n",
       "<g id=\"node54\" class=\"node\"><title>2070800197808</title>\r\n",
       "<polygon fill=\"lightblue\" stroke=\"black\" points=\"1435,-305 1372,-305 1372,-270 1435,-270 1435,-305\"/>\r\n",
       "<text text-anchor=\"middle\" x=\"1403.5\" y=\"-277.4\" font-family=\"Times New Roman,serif\" font-size=\"12.00\"> (32, 256)</text>\r\n",
       "</g>\r\n",
       "<!-- 2070800197808&#45;&gt;2070800196896 -->\r\n",
       "<g id=\"edge53\" class=\"edge\"><title>2070800197808&#45;&gt;2070800196896</title>\r\n",
       "<path fill=\"none\" stroke=\"black\" d=\"M1403.5,-269.797C1403.5,-259.956 1403.5,-247.453 1403.5,-237.141\"/>\r\n",
       "<polygon fill=\"black\" stroke=\"black\" points=\"1407,-237.04 1403.5,-227.04 1400,-237.04 1407,-237.04\"/>\r\n",
       "</g>\r\n",
       "<!-- 2070800196320 -->\r\n",
       "<g id=\"node55\" class=\"node\"><title>2070800196320</title>\r\n",
       "<polygon fill=\"lightgrey\" stroke=\"black\" points=\"1440,-85 1369,-85 1369,-64 1440,-64 1440,-85\"/>\r\n",
       "<text text-anchor=\"middle\" x=\"1404.5\" y=\"-71.4\" font-family=\"Times New Roman,serif\" font-size=\"12.00\">TBackward</text>\r\n",
       "</g>\r\n",
       "<!-- 2070800196320&#45;&gt;2070800195744 -->\r\n",
       "<g id=\"edge54\" class=\"edge\"><title>2070800196320&#45;&gt;2070800195744</title>\r\n",
       "<path fill=\"none\" stroke=\"black\" d=\"M1389.03,-63.8125C1373.05,-53.8028 1347.89,-38.0471 1329.36,-26.4405\"/>\r\n",
       "<polygon fill=\"black\" stroke=\"black\" points=\"1331.19,-23.4609 1320.86,-21.1195 1327.48,-29.3935 1331.19,-23.4609\"/>\r\n",
       "</g>\r\n",
       "<!-- 2070800197280 -->\r\n",
       "<g id=\"node56\" class=\"node\"><title>2070800197280</title>\r\n",
       "<polygon fill=\"lightblue\" stroke=\"black\" points=\"1431.5,-163 1377.5,-163 1377.5,-128 1431.5,-128 1431.5,-163\"/>\r\n",
       "<text text-anchor=\"middle\" x=\"1404.5\" y=\"-135.4\" font-family=\"Times New Roman,serif\" font-size=\"12.00\"> (1, 32)</text>\r\n",
       "</g>\r\n",
       "<!-- 2070800197280&#45;&gt;2070800196320 -->\r\n",
       "<g id=\"edge55\" class=\"edge\"><title>2070800197280&#45;&gt;2070800196320</title>\r\n",
       "<path fill=\"none\" stroke=\"black\" d=\"M1404.5,-127.797C1404.5,-117.956 1404.5,-105.453 1404.5,-95.141\"/>\r\n",
       "<polygon fill=\"black\" stroke=\"black\" points=\"1408,-95.0398 1404.5,-85.0398 1401,-95.0398 1408,-95.0398\"/>\r\n",
       "</g>\r\n",
       "</g>\r\n",
       "</svg>\r\n"
      ],
      "text/plain": [
       "<graphviz.dot.Digraph at 0x1e2254f6070>"
      ]
     },
     "execution_count": 1,
     "metadata": {},
     "output_type": "execute_result"
    }
   ],
   "source": [
    "import torchviz\n",
    "dummy_x = torch.zeros(1, *IMG_SHAPE, dtype=torch.float, requires_grad=False)\n",
    "dummy_y = net(dummy_x)\n",
    "dot = torchviz.make_dot(dummy_y)\n",
    "dot.format = 'svg'\n",
    "dot"
   ]
  },
  {
   "cell_type": "markdown",
   "metadata": {},
   "source": [
    "## デバイスの設定\n",
    "cudaが使える環境ではcudaを、それ以外の環境ではCPUを使う。  \n",
    "ネットワークと入出力の両方を`to(device)`でdeviceに移動する必要がある。"
   ]
  },
  {
   "cell_type": "code",
   "execution_count": 11,
   "metadata": {
    "execution": {
     "iopub.execute_input": "2021-03-31T05:22:29.223765Z",
     "iopub.status.busy": "2021-03-31T05:22:29.222768Z",
     "iopub.status.idle": "2021-03-31T05:22:30.328957Z",
     "shell.execute_reply": "2021-03-31T05:22:30.327958Z"
    }
   },
   "outputs": [
    {
     "data": {
      "text/plain": [
       "device(type='cuda', index=0)"
      ]
     },
     "execution_count": 1,
     "metadata": {},
     "output_type": "execute_result"
    }
   ],
   "source": [
    "device = torch.device(\"cuda:0\" if torch.cuda.is_available() else \"cpu\")\n",
    "net.to(device)\n",
    "device"
   ]
  },
  {
   "cell_type": "markdown",
   "metadata": {},
   "source": [
    "### 損失関数とOptimizer"
   ]
  },
  {
   "cell_type": "code",
   "execution_count": 12,
   "metadata": {
    "execution": {
     "iopub.execute_input": "2021-03-31T05:22:30.331735Z",
     "iopub.status.busy": "2021-03-31T05:22:30.331735Z",
     "iopub.status.idle": "2021-03-31T05:22:30.343192Z",
     "shell.execute_reply": "2021-03-31T05:22:30.343192Z"
    }
   },
   "outputs": [],
   "source": [
    "import torch.optim as optim\n",
    "\n",
    "criterion = torch.nn.BCEWithLogitsLoss()\n",
    "optimizer = optim.Adam(net.parameters(), lr=0.01)"
   ]
  },
  {
   "cell_type": "markdown",
   "metadata": {},
   "source": [
    "## DataLoaderの作成\n",
    "DataLoaderはデータをmini batchに分割する。(他の機能は今回は使わない)"
   ]
  },
  {
   "cell_type": "code",
   "execution_count": 13,
   "metadata": {
    "execution": {
     "iopub.execute_input": "2021-03-31T05:22:30.347205Z",
     "iopub.status.busy": "2021-03-31T05:22:30.346202Z",
     "iopub.status.idle": "2021-03-31T05:22:30.360264Z",
     "shell.execute_reply": "2021-03-31T05:22:30.359251Z"
    }
   },
   "outputs": [],
   "source": [
    "train_data = torch.from_numpy(train_data).to(device)\n",
    "train_labels = torch.FloatTensor(train_labels).to(device)\n",
    "train_dataset = torch.utils.data.TensorDataset(train_data, train_labels)\n",
    "\n",
    "test_data = torch.from_numpy(test_data).to(device)\n",
    "test_labels = torch.FloatTensor(test_labels).to(device)\n",
    "test_dataset = torch.utils.data.TensorDataset(test_data, test_labels)"
   ]
  },
  {
   "cell_type": "code",
   "execution_count": 14,
   "metadata": {
    "execution": {
     "iopub.execute_input": "2021-03-31T05:22:30.363257Z",
     "iopub.status.busy": "2021-03-31T05:22:30.363257Z",
     "iopub.status.idle": "2021-03-31T05:22:30.375343Z",
     "shell.execute_reply": "2021-03-31T05:22:30.375343Z"
    }
   },
   "outputs": [],
   "source": [
    "import os\n",
    "BATCH_SIZE = 8\n",
    "NUM_WORKERS = 0 if os.name == 'nt' else 2\n",
    "\n",
    "trainloader = torch.utils.data.DataLoader(train_dataset,\n",
    "                                          batch_size=BATCH_SIZE,\n",
    "                                          shuffle=True,\n",
    "                                          num_workers=NUM_WORKERS)\n",
    "testloader = torch.utils.data.DataLoader(test_dataset,\n",
    "                                         batch_size=BATCH_SIZE,\n",
    "                                         shuffle=False,\n",
    "                                         num_workers=NUM_WORKERS)"
   ]
  },
  {
   "cell_type": "markdown",
   "metadata": {},
   "source": [
    "## 学習\n",
    "<div class=\"alert alert-block alert-warning\">\n",
    "<b>注意:</b> 今回、epoch数は決め打ちしてありますが、本来はvalidationデータを用いて学習を終了させる必要があります。\n",
    "</div>"
   ]
  },
  {
   "cell_type": "code",
   "execution_count": 15,
   "metadata": {
    "execution": {
     "iopub.execute_input": "2021-03-31T05:22:30.381348Z",
     "iopub.status.busy": "2021-03-31T05:22:30.380336Z",
     "iopub.status.idle": "2021-03-31T05:22:36.401153Z",
     "shell.execute_reply": "2021-03-31T05:22:36.401153Z"
    }
   },
   "outputs": [
    {
     "name": "stdout",
     "output_type": "stream",
     "text": [
      "1 [0.6284318507886401, 0.7001633986928105]\n",
      "2 [0.4502704415251227, 0.7908496732026145]\n",
      "3 [0.4431070437033971, 0.7990196078431373]\n",
      "4 [0.4224901628114429, 0.8161764705882353]\n",
      "5 [0.3539216709049309, 0.852124183006536]\n",
      "6 [0.32284164034268437, 0.8423202614379085]\n",
      "7 [0.29961798833135295, 0.869281045751634]\n",
      "8 [0.26530590741073384, 0.9003267973856208]\n",
      "9 [0.25872835867545185, 0.8717320261437909]\n",
      "10 [0.2162282999020581, 0.9117647058823529]\n",
      "11 [0.233091899650354, 0.8897058823529411]\n",
      "12 [0.22418282692338906, 0.8946078431372549]\n",
      "13 [0.22900151074224828, 0.9084967320261438]\n",
      "14 [0.19482114122194402, 0.8995098039215687]\n",
      "15 [0.20342960776578561, 0.9166666666666666]\n",
      "16 [0.20640618440366404, 0.9117647058823529]\n",
      "Finish Training\n"
     ]
    }
   ],
   "source": [
    "import sklearn.metrics as metrics\n",
    "\n",
    "EPOCHS = 16\n",
    "\n",
    "logs = []\n",
    "for epoch in range(EPOCHS):\n",
    "    epoch_logs = []\n",
    "    for i, data in enumerate(trainloader):\n",
    "        inputs, labels = data\n",
    "        optimizer.zero_grad()\n",
    "        outputs = net(inputs)\n",
    "        labels = labels.view(-1, 1)\n",
    "        loss = criterion(outputs, labels)\n",
    "        loss.backward()\n",
    "        optimizer.step()\n",
    "\n",
    "        with torch.no_grad():\n",
    "            acc = metrics.accuracy_score(\n",
    "                (labels.cpu().numpy()).astype(np.uint8),\n",
    "                (torch.sigmoid(outputs) > .5).cpu().numpy().astype(np.uint8))\n",
    "            epoch_logs.append((loss.item(), acc))\n",
    "    means = [np.mean(v) for v in zip(*epoch_logs)]\n",
    "    print(epoch + 1, means)\n",
    "    logs.append(means)\n",
    "\n",
    "print('Finish Training')"
   ]
  },
  {
   "cell_type": "markdown",
   "metadata": {},
   "source": [
    "### 学習履歴の可視化"
   ]
  },
  {
   "cell_type": "code",
   "execution_count": 16,
   "metadata": {
    "execution": {
     "iopub.execute_input": "2021-03-31T05:22:36.405146Z",
     "iopub.status.busy": "2021-03-31T05:22:36.405146Z",
     "iopub.status.idle": "2021-03-31T05:22:36.575738Z",
     "shell.execute_reply": "2021-03-31T05:22:36.576750Z"
    }
   },
   "outputs": [
    {
     "data": {
      "image/png": "[encoded data removed]",
      "text/plain": [
       "<Figure size 360x216 with 1 Axes>"
      ]
     },
     "metadata": {
      "needs_background": "light"
     },
     "output_type": "display_data"
    }
   ],
   "source": [
    "pd.DataFrame(logs, columns=['loss', 'accuracy']).plot(title='Training history',\n",
    "                                                      figsize=(5, 3))\n",
    "plt.show()"
   ]
  },
  {
   "cell_type": "markdown",
   "metadata": {},
   "source": [
    "## 評価\n",
    "### 混同行列\n",
    "\n",
    "#### 学習データでの評価\n",
    "学習できているかを確認するため。"
   ]
  },
  {
   "cell_type": "code",
   "execution_count": 17,
   "metadata": {
    "execution": {
     "iopub.execute_input": "2021-03-31T05:22:36.581749Z",
     "iopub.status.busy": "2021-03-31T05:22:36.581749Z",
     "iopub.status.idle": "2021-03-31T05:22:36.627076Z",
     "shell.execute_reply": "2021-03-31T05:22:36.626078Z"
    }
   },
   "outputs": [
    {
     "data": {
      "text/html": [
       "<div>\n",
       "<style scoped>\n",
       "    .dataframe tbody tr th:only-of-type {\n",
       "        vertical-align: middle;\n",
       "    }\n",
       "\n",
       "    .dataframe tbody tr th {\n",
       "        vertical-align: top;\n",
       "    }\n",
       "\n",
       "    .dataframe thead th {\n",
       "        text-align: right;\n",
       "    }\n",
       "</style>\n",
       "<table border=\"1\" class=\"dataframe\">\n",
       "  <thead>\n",
       "    <tr style=\"text-align: right;\">\n",
       "      <th>Prediction</th>\n",
       "      <th>benign</th>\n",
       "      <th>malignant</th>\n",
       "    </tr>\n",
       "    <tr>\n",
       "      <th>Truth</th>\n",
       "      <th></th>\n",
       "      <th></th>\n",
       "    </tr>\n",
       "  </thead>\n",
       "  <tbody>\n",
       "    <tr>\n",
       "      <th>benign</th>\n",
       "      <td>274</td>\n",
       "      <td>14</td>\n",
       "    </tr>\n",
       "    <tr>\n",
       "      <th>malignant</th>\n",
       "      <td>9</td>\n",
       "      <td>109</td>\n",
       "    </tr>\n",
       "  </tbody>\n",
       "</table>\n",
       "</div>"
      ],
      "text/plain": [
       "Prediction  benign  malignant\n",
       "Truth                        \n",
       "benign         274         14\n",
       "malignant        9        109"
      ]
     },
     "metadata": {},
     "output_type": "display_data"
    },
    {
     "name": "stdout",
     "output_type": "stream",
     "text": [
      "Accuracy = 383 / 406 = 94.3%\n"
     ]
    }
   ],
   "source": [
    "from sklearn import metrics\n",
    "\n",
    "\n",
    "def evaluate(model, data, labels):\n",
    "    with torch.no_grad():\n",
    "        predictions = torch.sigmoid(model(data)).cpu().numpy().squeeze()\n",
    "    y_pred = predictions > .5\n",
    "    df_result = pd.DataFrame({\n",
    "        'truth': labels,\n",
    "        'pred_proba': predictions,\n",
    "        'pred_class': y_pred\n",
    "    })\n",
    "    cm = metrics.confusion_matrix(df_result['truth'], df_result['pred_class'])\n",
    "    df_cm = pd.DataFrame(cm, index=CLASS_LABELS, columns=CLASS_LABELS)\n",
    "    df_cm.index.name, df_cm.columns.name = 'Truth', 'Prediction'\n",
    "    display(df_cm)\n",
    "    print('Accuracy = {n} / {d} = {a:.03g}%'.format(n=cm.trace(),\n",
    "                                                    d=cm.sum(),\n",
    "                                                    a=100 * cm.trace() /\n",
    "                                                    cm.sum()))\n",
    "    return df_result\n",
    "\n",
    "\n",
    "net.eval()\n",
    "\n",
    "train_result = evaluate(net, train_data, train_labels.cpu())"
   ]
  },
  {
   "cell_type": "markdown",
   "metadata": {},
   "source": [
    "#### テストデータでの評価"
   ]
  },
  {
   "cell_type": "code",
   "execution_count": 18,
   "metadata": {
    "execution": {
     "iopub.execute_input": "2021-03-31T05:22:36.635092Z",
     "iopub.status.busy": "2021-03-31T05:22:36.634094Z",
     "iopub.status.idle": "2021-03-31T05:22:36.672405Z",
     "shell.execute_reply": "2021-03-31T05:22:36.672405Z"
    }
   },
   "outputs": [
    {
     "data": {
      "text/html": [
       "<div>\n",
       "<style scoped>\n",
       "    .dataframe tbody tr th:only-of-type {\n",
       "        vertical-align: middle;\n",
       "    }\n",
       "\n",
       "    .dataframe tbody tr th {\n",
       "        vertical-align: top;\n",
       "    }\n",
       "\n",
       "    .dataframe thead th {\n",
       "        text-align: right;\n",
       "    }\n",
       "</style>\n",
       "<table border=\"1\" class=\"dataframe\">\n",
       "  <thead>\n",
       "    <tr style=\"text-align: right;\">\n",
       "      <th>Prediction</th>\n",
       "      <th>benign</th>\n",
       "      <th>malignant</th>\n",
       "    </tr>\n",
       "    <tr>\n",
       "      <th>Truth</th>\n",
       "      <th></th>\n",
       "      <th></th>\n",
       "    </tr>\n",
       "  </thead>\n",
       "  <tbody>\n",
       "    <tr>\n",
       "      <th>benign</th>\n",
       "      <td>126</td>\n",
       "      <td>18</td>\n",
       "    </tr>\n",
       "    <tr>\n",
       "      <th>malignant</th>\n",
       "      <td>8</td>\n",
       "      <td>51</td>\n",
       "    </tr>\n",
       "  </tbody>\n",
       "</table>\n",
       "</div>"
      ],
      "text/plain": [
       "Prediction  benign  malignant\n",
       "Truth                        \n",
       "benign         126         18\n",
       "malignant        8         51"
      ]
     },
     "metadata": {},
     "output_type": "display_data"
    },
    {
     "name": "stdout",
     "output_type": "stream",
     "text": [
      "Accuracy = 177 / 203 = 87.2%\n"
     ]
    }
   ],
   "source": [
    "test_result = evaluate(net, test_data, test_labels.cpu())"
   ]
  },
  {
   "cell_type": "markdown",
   "metadata": {},
   "source": [
    "### ROCカーブ"
   ]
  },
  {
   "cell_type": "code",
   "execution_count": 19,
   "metadata": {
    "execution": {
     "iopub.execute_input": "2021-03-31T05:22:36.719340Z",
     "iopub.status.busy": "2021-03-31T05:22:36.695367Z",
     "iopub.status.idle": "2021-03-31T05:22:36.815004Z",
     "shell.execute_reply": "2021-03-31T05:22:36.814005Z"
    }
   },
   "outputs": [
    {
     "data": {
      "image/png": "[encoded data removed]",
      "text/plain": [
       "<Figure size 216x216 with 1 Axes>"
      ]
     },
     "metadata": {
      "needs_background": "light"
     },
     "output_type": "display_data"
    }
   ],
   "source": [
    "fpr, tpr, thresholds = metrics.roc_curve(test_result['truth'],\n",
    "                                         test_result['pred_proba'])\n",
    "auc = metrics.auc(fpr, tpr)\n",
    "plt.figure(figsize=(3, 3))\n",
    "plt.plot(fpr, tpr, label='AUC = {auc:.03g}'.format(auc=auc))\n",
    "plt.plot((0, 1), (0, 1), zorder=0, color='black', alpha=.1,\n",
    "         linestyle='-')  # diagonal line\n",
    "plt.xlabel('1 - Specificity')\n",
    "plt.ylabel('Sensitivity')\n",
    "plt.legend(loc='lower right')\n",
    "plt.show()"
   ]
  }
 ],
 "metadata": {
  "kernelspec": {
   "display_name": "Python 3",
   "language": "python",
   "name": "python3"
  },
  "language_info": {
   "codemirror_mode": {
    "name": "ipython",
    "version": 3
   },
   "file_extension": ".py",
   "mimetype": "text/x-python",
   "name": "python",
   "nbconvert_exporter": "python",
   "pygments_lexer": "ipython3",
   "version": "3.8.5"
  },
  "toc": {
   "base_numbering": 1,
   "nav_menu": {},
   "number_sections": true,
   "sideBar": true,
   "skip_h1_title": true,
   "title_cell": "Table of Contents",
   "title_sidebar": "Contents",
   "toc_cell": false,
   "toc_position": {
    "height": "calc(100% - 180px)",
    "left": "10px",
    "top": "150px",
    "width": "290.531px"
   },
   "toc_section_display": true,
   "toc_window_display": true
  },
  "varInspector": {
   "cols": {
    "lenName": 16,
    "lenType": 16,
    "lenVar": 40
   },
   "kernels_config": {
    "python": {
     "delete_cmd_postfix": "",
     "delete_cmd_prefix": "del ",
     "library": "var_list.py",
     "varRefreshCmd": "print(var_dic_list())"
    },
    "r": {
     "delete_cmd_postfix": ") ",
     "delete_cmd_prefix": "rm(",
     "library": "var_list.r",
     "varRefreshCmd": "cat(var_dic_list()) "
    }
   },
   "types_to_exclude": [
    "module",
    "function",
    "builtin_function_or_method",
    "instance",
    "_Feature"
   ],
   "window_display": false
  },
  "widgets": {
   "application/vnd.jupyter.widget-state+json": {
    "state": {
     "066eee49467245998b5e2fc0d62300db": {
      "model_module": "@jupyter-widgets/base",
      "model_module_version": "1.2.0",
      "model_name": "LayoutModel",
      "state": {
       "_model_module": "@jupyter-widgets/base",
       "_model_module_version": "1.2.0",
       "_model_name": "LayoutModel",
       "_view_count": null,
       "_view_module": "@jupyter-widgets/base",
       "_view_module_version": "1.2.0",
       "_view_name": "LayoutView",
       "align_content": null,
       "align_items": null,
       "align_self": null,
       "border": null,
       "bottom": null,
       "display": null,
       "flex": null,
       "flex_flow": null,
       "grid_area": null,
       "grid_auto_columns": null,
       "grid_auto_flow": null,
       "grid_auto_rows": null,
       "grid_column": null,
       "grid_gap": null,
       "grid_row": null,
       "grid_template_areas": null,
       "grid_template_columns": null,
       "grid_template_rows": null,
       "height": null,
       "justify_content": null,
       "justify_items": null,
       "left": null,
       "margin": null,
       "max_height": null,
       "max_width": null,
       "min_height": null,
       "min_width": null,
       "object_fit": null,
       "object_position": null,
       "order": null,
       "overflow": null,
       "overflow_x": null,
       "overflow_y": null,
       "padding": null,
       "right": null,
       "top": null,
       "visibility": null,
       "width": null
      }
     },
     "149549c91110498492b5f9f784fea55f": {
      "model_module": "@jupyter-widgets/base",
      "model_module_version": "1.2.0",
      "model_name": "LayoutModel",
      "state": {
       "_model_module": "@jupyter-widgets/base",
       "_model_module_version": "1.2.0",
       "_model_name": "LayoutModel",
       "_view_count": null,
       "_view_module": "@jupyter-widgets/base",
       "_view_module_version": "1.2.0",
       "_view_name": "LayoutView",
       "align_content": null,
       "align_items": null,
       "align_self": null,
       "border": null,
       "bottom": null,
       "display": null,
       "flex": null,
       "flex_flow": null,
       "grid_area": null,
       "grid_auto_columns": null,
       "grid_auto_flow": null,
       "grid_auto_rows": null,
       "grid_column": null,
       "grid_gap": null,
       "grid_row": null,
       "grid_template_areas": null,
       "grid_template_columns": null,
       "grid_template_rows": null,
       "height": null,
       "justify_content": null,
       "justify_items": null,
       "left": null,
       "margin": null,
       "max_height": null,
       "max_width": null,
       "min_height": null,
       "min_width": null,
       "object_fit": null,
       "object_position": null,
       "order": null,
       "overflow": null,
       "overflow_x": null,
       "overflow_y": null,
       "padding": null,
       "right": null,
       "top": null,
       "visibility": null,
       "width": null
      }
     },
     "1530d7b0bd814e5aa7607add87f633df": {
      "model_module": "@jupyter-widgets/base",
      "model_module_version": "1.2.0",
      "model_name": "LayoutModel",
      "state": {
       "_model_module": "@jupyter-widgets/base",
       "_model_module_version": "1.2.0",
       "_model_name": "LayoutModel",
       "_view_count": null,
       "_view_module": "@jupyter-widgets/base",
       "_view_module_version": "1.2.0",
       "_view_name": "LayoutView",
       "align_content": null,
       "align_items": null,
       "align_self": null,
       "border": null,
       "bottom": null,
       "display": null,
       "flex": null,
       "flex_flow": null,
       "grid_area": null,
       "grid_auto_columns": null,
       "grid_auto_flow": null,
       "grid_auto_rows": null,
       "grid_column": null,
       "grid_gap": null,
       "grid_row": null,
       "grid_template_areas": null,
       "grid_template_columns": null,
       "grid_template_rows": null,
       "height": null,
       "justify_content": null,
       "justify_items": null,
       "left": null,
       "margin": null,
       "max_height": null,
       "max_width": null,
       "min_height": null,
       "min_width": null,
       "object_fit": null,
       "object_position": null,
       "order": null,
       "overflow": null,
       "overflow_x": null,
       "overflow_y": null,
       "padding": null,
       "right": null,
       "top": null,
       "visibility": null,
       "width": null
      }
     },
     "2e02e0ae8a564b4fb28429f1bd30c7ee": {
      "model_module": "@jupyter-widgets/controls",
      "model_module_version": "1.5.0",
      "model_name": "FloatProgressModel",
      "state": {
       "_dom_classes": [],
       "_model_module": "@jupyter-widgets/controls",
       "_model_module_version": "1.5.0",
       "_model_name": "FloatProgressModel",
       "_view_count": null,
       "_view_module": "@jupyter-widgets/controls",
       "_view_module_version": "1.5.0",
       "_view_name": "ProgressView",
       "bar_style": "info",
       "description": "100%",
       "description_tooltip": null,
       "layout": "IPY_MODEL_066eee49467245998b5e2fc0d62300db",
       "max": 128,
       "min": 0,
       "orientation": "horizontal",
       "style": "IPY_MODEL_e67b57a67166427dab431731c1962425",
       "value": 128
      }
     },
     "2e3d0842c8c0441ca037e7291c569032": {
      "model_module": "@jupyter-widgets/controls",
      "model_module_version": "1.5.0",
      "model_name": "DescriptionStyleModel",
      "state": {
       "_model_module": "@jupyter-widgets/controls",
       "_model_module_version": "1.5.0",
       "_model_name": "DescriptionStyleModel",
       "_view_count": null,
       "_view_module": "@jupyter-widgets/base",
       "_view_module_version": "1.2.0",
       "_view_name": "StyleView",
       "description_width": ""
      }
     },
     "557f4a6ccf484fa99af340b6af32be4a": {
      "model_module": "@jupyter-widgets/controls",
      "model_module_version": "1.5.0",
      "model_name": "HTMLModel",
      "state": {
       "_dom_classes": [],
       "_model_module": "@jupyter-widgets/controls",
       "_model_module_version": "1.5.0",
       "_model_name": "HTMLModel",
       "_view_count": null,
       "_view_module": "@jupyter-widgets/controls",
       "_view_module_version": "1.5.0",
       "_view_name": "HTMLView",
       "description": "",
       "description_tooltip": null,
       "layout": "IPY_MODEL_af62374cbd3e46e49861c43acc610f9c",
       "placeholder": "​",
       "style": "IPY_MODEL_c10616494f934b07ab97cb7057cda0ca",
       "value": " 16.0/16.0 [00:00&lt;00:00,  1.07s/batch, loss=0.002, accuracy=1]"
      }
     },
     "664fb9d3add64240bd221caf0c06621a": {
      "model_module": "@jupyter-widgets/controls",
      "model_module_version": "1.5.0",
      "model_name": "ProgressStyleModel",
      "state": {
       "_model_module": "@jupyter-widgets/controls",
       "_model_module_version": "1.5.0",
       "_model_name": "ProgressStyleModel",
       "_view_count": null,
       "_view_module": "@jupyter-widgets/base",
       "_view_module_version": "1.2.0",
       "_view_name": "StyleView",
       "bar_color": null,
       "description_width": "initial"
      }
     },
     "7aded333762443b2aeabf44e427d55d8": {
      "model_module": "@jupyter-widgets/base",
      "model_module_version": "1.2.0",
      "model_name": "LayoutModel",
      "state": {
       "_model_module": "@jupyter-widgets/base",
       "_model_module_version": "1.2.0",
       "_model_name": "LayoutModel",
       "_view_count": null,
       "_view_module": "@jupyter-widgets/base",
       "_view_module_version": "1.2.0",
       "_view_name": "LayoutView",
       "align_content": null,
       "align_items": null,
       "align_self": null,
       "border": null,
       "bottom": null,
       "display": null,
       "flex": null,
       "flex_flow": null,
       "grid_area": null,
       "grid_auto_columns": null,
       "grid_auto_flow": null,
       "grid_auto_rows": null,
       "grid_column": null,
       "grid_gap": null,
       "grid_row": null,
       "grid_template_areas": null,
       "grid_template_columns": null,
       "grid_template_rows": null,
       "height": null,
       "justify_content": null,
       "justify_items": null,
       "left": null,
       "margin": null,
       "max_height": null,
       "max_width": null,
       "min_height": null,
       "min_width": null,
       "object_fit": null,
       "object_position": null,
       "order": null,
       "overflow": null,
       "overflow_x": null,
       "overflow_y": null,
       "padding": null,
       "right": null,
       "top": null,
       "visibility": null,
       "width": null
      }
     },
     "9d1e7844c660499baae51cbd06674ba8": {
      "model_module": "@jupyter-widgets/controls",
      "model_module_version": "1.5.0",
      "model_name": "HTMLModel",
      "state": {
       "_dom_classes": [],
       "_model_module": "@jupyter-widgets/controls",
       "_model_module_version": "1.5.0",
       "_model_name": "HTMLModel",
       "_view_count": null,
       "_view_module": "@jupyter-widgets/controls",
       "_view_module_version": "1.5.0",
       "_view_name": "HTMLView",
       "description": "",
       "description_tooltip": null,
       "layout": "IPY_MODEL_149549c91110498492b5f9f784fea55f",
       "placeholder": "​",
       "style": "IPY_MODEL_2e3d0842c8c0441ca037e7291c569032",
       "value": " 32/32 [00:05&lt;00:00,  6.28epoch/s, loss=0.000569, accuracy=1]"
      }
     },
     "af62374cbd3e46e49861c43acc610f9c": {
      "model_module": "@jupyter-widgets/base",
      "model_module_version": "1.2.0",
      "model_name": "LayoutModel",
      "state": {
       "_model_module": "@jupyter-widgets/base",
       "_model_module_version": "1.2.0",
       "_model_name": "LayoutModel",
       "_view_count": null,
       "_view_module": "@jupyter-widgets/base",
       "_view_module_version": "1.2.0",
       "_view_name": "LayoutView",
       "align_content": null,
       "align_items": null,
       "align_self": null,
       "border": null,
       "bottom": null,
       "display": null,
       "flex": null,
       "flex_flow": null,
       "grid_area": null,
       "grid_auto_columns": null,
       "grid_auto_flow": null,
       "grid_auto_rows": null,
       "grid_column": null,
       "grid_gap": null,
       "grid_row": null,
       "grid_template_areas": null,
       "grid_template_columns": null,
       "grid_template_rows": null,
       "height": null,
       "justify_content": null,
       "justify_items": null,
       "left": null,
       "margin": null,
       "max_height": null,
       "max_width": null,
       "min_height": null,
       "min_width": null,
       "object_fit": null,
       "object_position": null,
       "order": null,
       "overflow": null,
       "overflow_x": null,
       "overflow_y": null,
       "padding": null,
       "right": null,
       "top": null,
       "visibility": null,
       "width": null
      }
     },
     "b44fedc505d2401cbbcf0543779e0dcf": {
      "model_module": "@jupyter-widgets/controls",
      "model_module_version": "1.5.0",
      "model_name": "HBoxModel",
      "state": {
       "_dom_classes": [],
       "_model_module": "@jupyter-widgets/controls",
       "_model_module_version": "1.5.0",
       "_model_name": "HBoxModel",
       "_view_count": null,
       "_view_module": "@jupyter-widgets/controls",
       "_view_module_version": "1.5.0",
       "_view_name": "HBoxView",
       "box_style": "",
       "children": [
        "IPY_MODEL_2e02e0ae8a564b4fb28429f1bd30c7ee",
        "IPY_MODEL_557f4a6ccf484fa99af340b6af32be4a"
       ],
       "layout": "IPY_MODEL_7aded333762443b2aeabf44e427d55d8"
      }
     },
     "bc3c9b50e42c486e805cf0f97e8ce9ad": {
      "model_module": "@jupyter-widgets/base",
      "model_module_version": "1.2.0",
      "model_name": "LayoutModel",
      "state": {
       "_model_module": "@jupyter-widgets/base",
       "_model_module_version": "1.2.0",
       "_model_name": "LayoutModel",
       "_view_count": null,
       "_view_module": "@jupyter-widgets/base",
       "_view_module_version": "1.2.0",
       "_view_name": "LayoutView",
       "align_content": null,
       "align_items": null,
       "align_self": null,
       "border": null,
       "bottom": null,
       "display": null,
       "flex": null,
       "flex_flow": null,
       "grid_area": null,
       "grid_auto_columns": null,
       "grid_auto_flow": null,
       "grid_auto_rows": null,
       "grid_column": null,
       "grid_gap": null,
       "grid_row": null,
       "grid_template_areas": null,
       "grid_template_columns": null,
       "grid_template_rows": null,
       "height": null,
       "justify_content": null,
       "justify_items": null,
       "left": null,
       "margin": null,
       "max_height": null,
       "max_width": null,
       "min_height": null,
       "min_width": null,
       "object_fit": null,
       "object_position": null,
       "order": null,
       "overflow": null,
       "overflow_x": null,
       "overflow_y": null,
       "padding": null,
       "right": null,
       "top": null,
       "visibility": null,
       "width": null
      }
     },
     "c10616494f934b07ab97cb7057cda0ca": {
      "model_module": "@jupyter-widgets/controls",
      "model_module_version": "1.5.0",
      "model_name": "DescriptionStyleModel",
      "state": {
       "_model_module": "@jupyter-widgets/controls",
       "_model_module_version": "1.5.0",
       "_model_name": "DescriptionStyleModel",
       "_view_count": null,
       "_view_module": "@jupyter-widgets/base",
       "_view_module_version": "1.2.0",
       "_view_name": "StyleView",
       "description_width": ""
      }
     },
     "c9646bf6e14b4090878fc9b312edd189": {
      "model_module": "@jupyter-widgets/controls",
      "model_module_version": "1.5.0",
      "model_name": "HBoxModel",
      "state": {
       "_dom_classes": [],
       "_model_module": "@jupyter-widgets/controls",
       "_model_module_version": "1.5.0",
       "_model_name": "HBoxModel",
       "_view_count": null,
       "_view_module": "@jupyter-widgets/controls",
       "_view_module_version": "1.5.0",
       "_view_name": "HBoxView",
       "box_style": "",
       "children": [
        "IPY_MODEL_dd3e1631845a40eeaa9ce71441bb2d29",
        "IPY_MODEL_9d1e7844c660499baae51cbd06674ba8"
       ],
       "layout": "IPY_MODEL_1530d7b0bd814e5aa7607add87f633df"
      }
     },
     "dd3e1631845a40eeaa9ce71441bb2d29": {
      "model_module": "@jupyter-widgets/controls",
      "model_module_version": "1.5.0",
      "model_name": "FloatProgressModel",
      "state": {
       "_dom_classes": [],
       "_model_module": "@jupyter-widgets/controls",
       "_model_module_version": "1.5.0",
       "_model_name": "FloatProgressModel",
       "_view_count": null,
       "_view_module": "@jupyter-widgets/controls",
       "_view_module_version": "1.5.0",
       "_view_name": "ProgressView",
       "bar_style": "success",
       "description": "100%",
       "description_tooltip": null,
       "layout": "IPY_MODEL_bc3c9b50e42c486e805cf0f97e8ce9ad",
       "max": 32,
       "min": 0,
       "orientation": "horizontal",
       "style": "IPY_MODEL_664fb9d3add64240bd221caf0c06621a",
       "value": 32
      }
     },
     "e67b57a67166427dab431731c1962425": {
      "model_module": "@jupyter-widgets/controls",
      "model_module_version": "1.5.0",
      "model_name": "ProgressStyleModel",
      "state": {
       "_model_module": "@jupyter-widgets/controls",
       "_model_module_version": "1.5.0",
       "_model_name": "ProgressStyleModel",
       "_view_count": null,
       "_view_module": "@jupyter-widgets/base",
       "_view_module_version": "1.2.0",
       "_view_name": "StyleView",
       "bar_color": null,
       "description_width": "initial"
      }
     }
    },
    "version_major": 2,
    "version_minor": 0
   }
  }
 },
 "nbformat": 4,
 "nbformat_minor": 2
}
