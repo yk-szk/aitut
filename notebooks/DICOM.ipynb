{
 "cells": [
  {
   "cell_type": "markdown",
   "metadata": {},
   "source": [
    "# DICOM画像の扱い\n",
    "\n",
    "## pydicom\n",
    "画像を1スライスだけ読み込むときや、画像のメタデータ(患者IDなど)を見たいときなどはpydicomを使う\n",
    "\n",
    "### 読み込みと表示\n",
    "とりあえず1枚読み込んで表示してみる"
   ]
  },
  {
   "cell_type": "code",
   "execution_count": null,
   "metadata": {},
   "outputs": [],
   "source": [
    "from pathlib import Path\n",
    "import numpy as np\n",
    "import pydicom\n",
    "import matplotlib.pyplot as plt\n",
    "\n",
    "dcm_dir = Path('Data/dicom/LIDC/LIDC-IDRI-0957/01-01-2000-82159/5434-CAP  5.0  B30s-51463')\n",
    "dcm = pydicom.dcmread(dcm_dir / '000017.dcm')\n",
    "plt.imshow(dcm.pixel_array, cmap='gray')"
   ]
  },
  {
   "cell_type": "markdown",
   "metadata": {},
   "source": [
    "### DICOMに保存されている画素値をCT値(Hounsfield Unit)に変換する\n",
    "`HU = slope * pixel_value + intercept`"
   ]
  },
  {
   "cell_type": "code",
   "execution_count": null,
   "metadata": {},
   "outputs": [],
   "source": [
    "image = dcm.RescaleSlope * dcm.pixel_array + dcm.RescaleIntercept\n",
    "plt.imshow(image, cmap='gray')"
   ]
  },
  {
   "cell_type": "markdown",
   "metadata": {},
   "source": [
    "### Window設定\n",
    "肺野Window(中心=-700、幅=1500)に変換する"
   ]
  },
  {
   "cell_type": "code",
   "execution_count": null,
   "metadata": {},
   "outputs": [],
   "source": [
    "def window_image(x, wlww=[-700, 1500]):\n",
    "    wl, ww = wlww\n",
    "    minmax = (wl-ww/2, wl+ww/2)\n",
    "    x = np.clip(x, minmax[0], minmax[1]).astype(np.float)\n",
    "    return np.round(255*(x - minmax[0])/(minmax[1]-minmax[0])).astype(np.uint8)\n",
    "\n",
    "plt.imshow(window_image(image, [-700, 1500]), cmap='gray')"
   ]
  },
  {
   "cell_type": "markdown",
   "metadata": {},
   "source": [
    "縦隔条件"
   ]
  },
  {
   "cell_type": "code",
   "execution_count": null,
   "metadata": {},
   "outputs": [],
   "source": [
    "plt.imshow(window_image(image, [70, 700]), cmap='gray')"
   ]
  },
  {
   "cell_type": "markdown",
   "metadata": {},
   "source": [
    "## SimpleITK\n",
    "ボリューム全体を読み込むときや、DICOMを別のフォーマットに変換するときにはSimpleITKを用いる\n",
    "\n",
    "### 読み込みと表示"
   ]
  },
  {
   "cell_type": "code",
   "execution_count": null,
   "metadata": {},
   "outputs": [],
   "source": [
    "import SimpleITK as sitk\n",
    "reader = sitk.ImageSeriesReader()\n",
    "\n",
    "dicom_names = reader.GetGDCMSeriesFileNames(str(dcm_dir))\n",
    "reader.SetFileNames(dicom_names)\n",
    "\n",
    "sitk_volume = reader.Execute()\n",
    "volume = sitk.GetArrayFromImage(sitk_volume)\n",
    "plt.imshow(volume[len(volume)//2], cmap='gray')"
   ]
  },
  {
   "cell_type": "markdown",
   "metadata": {},
   "source": [
    "### コロナル断面で表示"
   ]
  },
  {
   "cell_type": "code",
   "execution_count": null,
   "metadata": {},
   "outputs": [],
   "source": [
    "coronal = volume[:, volume.shape[1]//2]\n",
    "coronal = window_image(coronal, [-700, 1500])\n",
    "plt.imshow(coronal, cmap='gray')"
   ]
  },
  {
   "cell_type": "markdown",
   "metadata": {},
   "source": [
    "#### 画像の向きとボクセルサイズを考慮する"
   ]
  },
  {
   "cell_type": "code",
   "execution_count": null,
   "metadata": {},
   "outputs": [],
   "source": [
    "from PIL import Image\n",
    "def resize(img, aspect, resample=Image.BILINEAR):\n",
    "    pil_img = Image.fromarray(img)\n",
    "    size = np.array(pil_img.size)\n",
    "    if aspect >= 1:\n",
    "        size[1] *= aspect\n",
    "    else:\n",
    "        size[0] /= aspect\n",
    "    return pil_img.resize(size=size, resample=resample)\n",
    "\n",
    "coronal = np.flip(coronal, axis=0)\n",
    "spacing = sitk_volume.GetSpacing()[::-1]\n",
    "plt.imshow(resize(coronal, spacing[0]/spacing[1]), cmap='gray')"
   ]
  },
  {
   "cell_type": "markdown",
   "metadata": {},
   "source": [
    "### 別フォーマットで保存\n",
    "DICOMを毎回読み込むのは面倒なので別のフォーマットに変換する。\n",
    "MHD, NifTi, NRRDなどがよく使われる。\n",
    "\n",
    "[フォーマット一覧](https://insightsoftwareconsortium.github.io/itk-js/docs/image_formats.html)\n",
    "\n",
    "保存した画像は下記viewer等で閲覧できる。\n",
    "\n",
    "- [itksnap](http://www.itksnap.org/pmwiki/pmwiki.php)\n",
    "- [3D slicer](https://www.slicer.org)\n",
    "- [MITK](https://www.mitk.org/wiki/The_Medical_Imaging_Interaction_Toolkit_(MITK))\n"
   ]
  },
  {
   "cell_type": "code",
   "execution_count": null,
   "metadata": {},
   "outputs": [],
   "source": [
    "import os\n",
    "volume_filename = 'volume.mha'\n",
    "sitk.WriteImage(sitk_volume, volume_filename, useCompression=True)\n",
    "print('filesize: {:g} MB'.format(os.stat(volume_filename).st_size / 1024 / 1024))"
   ]
  },
  {
   "cell_type": "markdown",
   "metadata": {},
   "source": [
    "### 保存した画像を読み込む"
   ]
  },
  {
   "cell_type": "code",
   "execution_count": null,
   "metadata": {},
   "outputs": [],
   "source": [
    "image = sitk.ReadImage(volume_filename)\n",
    "image.GetSize()"
   ]
  }
 ],
 "metadata": {
  "kernelspec": {
   "display_name": "Python 3",
   "language": "python",
   "name": "python3"
  },
  "language_info": {
   "codemirror_mode": {
    "name": "ipython",
    "version": 3
   },
   "file_extension": ".py",
   "mimetype": "text/x-python",
   "name": "python",
   "nbconvert_exporter": "python",
   "pygments_lexer": "ipython3",
   "version": "3.8.5"
  },
  "toc": {
   "base_numbering": 1,
   "nav_menu": {},
   "number_sections": true,
   "sideBar": true,
   "skip_h1_title": true,
   "title_cell": "Table of Contents",
   "title_sidebar": "Contents",
   "toc_cell": false,
   "toc_position": {},
   "toc_section_display": true,
   "toc_window_display": true
  }
 },
 "nbformat": 4,
 "nbformat_minor": 4
}
