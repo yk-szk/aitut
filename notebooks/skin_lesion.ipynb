{
 "cells": [
  {
   "cell_type": "markdown",
   "metadata": {},
   "source": [
    "# Skin lesion"
   ]
  },
  {
   "cell_type": "markdown",
   "metadata": {},
   "source": [
    "## 前準備\n",
    "### 主要パッケージを読み込む\n",
    "loggerの設定も行う"
   ]
  },
  {
   "cell_type": "code",
   "execution_count": 1,
   "metadata": {
    "execution": {
     "iopub.execute_input": "2021-03-31T05:23:26.631936Z",
     "iopub.status.busy": "2021-03-31T05:23:26.618958Z",
     "iopub.status.idle": "2021-03-31T05:23:27.321987Z",
     "shell.execute_reply": "2021-03-31T05:23:27.320988Z"
    }
   },
   "outputs": [],
   "source": [
    "import pathlib\n",
    "import matplotlib.pyplot as plt\n",
    "import numpy as np\n",
    "import pandas as pd\n",
    "from tqdm.auto import tqdm\n",
    "from IPython.display import display\n",
    "from logging import basicConfig, getLogger, INFO\n",
    "basicConfig(level=INFO, format='%(asctime)s %(levelname)s :%(message)s')\n",
    "logger = getLogger(__name__)"
   ]
  },
  {
   "cell_type": "markdown",
   "metadata": {},
   "source": [
    "### データディレクトリの指定"
   ]
  },
  {
   "cell_type": "code",
   "execution_count": 2,
   "metadata": {
    "execution": {
     "iopub.execute_input": "2021-03-31T05:23:27.324984Z",
     "iopub.status.busy": "2021-03-31T05:23:27.324984Z",
     "iopub.status.idle": "2021-03-31T05:23:27.336044Z",
     "shell.execute_reply": "2021-03-31T05:23:27.336044Z"
    }
   },
   "outputs": [],
   "source": [
    "DATA_ROOT = pathlib.Path('Data/Images/skin_lesion')\n",
    "CLASS_LABELS = ('akiec', 'bcc', 'bkl', 'df', 'mel', 'nv', 'vasc')\n",
    "IMAGE_EXT = '.jpg'"
   ]
  },
  {
   "cell_type": "markdown",
   "metadata": {},
   "source": [
    "### 画像ファイルを基にpd.DataFrameを作成する"
   ]
  },
  {
   "cell_type": "code",
   "execution_count": 3,
   "metadata": {
    "execution": {
     "iopub.execute_input": "2021-03-31T05:23:27.339055Z",
     "iopub.status.busy": "2021-03-31T05:23:27.339055Z",
     "iopub.status.idle": "2021-03-31T05:23:28.384943Z",
     "shell.execute_reply": "2021-03-31T05:23:28.383945Z"
    }
   },
   "outputs": [
    {
     "data": {
      "text/html": [
       "<div>\n",
       "<style scoped>\n",
       "    .dataframe tbody tr th:only-of-type {\n",
       "        vertical-align: middle;\n",
       "    }\n",
       "\n",
       "    .dataframe tbody tr th {\n",
       "        vertical-align: top;\n",
       "    }\n",
       "\n",
       "    .dataframe thead th {\n",
       "        text-align: right;\n",
       "    }\n",
       "</style>\n",
       "<table border=\"1\" class=\"dataframe\">\n",
       "  <thead>\n",
       "    <tr style=\"text-align: right;\">\n",
       "      <th></th>\n",
       "      <th>filepath</th>\n",
       "      <th>class_label</th>\n",
       "      <th>class</th>\n",
       "    </tr>\n",
       "  </thead>\n",
       "  <tbody>\n",
       "    <tr>\n",
       "      <th>0</th>\n",
       "      <td>Data\\Images\\skin_lesion\\akiec\\ISIC_0024329.jpg</td>\n",
       "      <td>akiec</td>\n",
       "      <td>0</td>\n",
       "    </tr>\n",
       "    <tr>\n",
       "      <th>1</th>\n",
       "      <td>Data\\Images\\skin_lesion\\akiec\\ISIC_0024450.jpg</td>\n",
       "      <td>akiec</td>\n",
       "      <td>0</td>\n",
       "    </tr>\n",
       "    <tr>\n",
       "      <th>2</th>\n",
       "      <td>Data\\Images\\skin_lesion\\akiec\\ISIC_0024511.jpg</td>\n",
       "      <td>akiec</td>\n",
       "      <td>0</td>\n",
       "    </tr>\n",
       "    <tr>\n",
       "      <th>3</th>\n",
       "      <td>Data\\Images\\skin_lesion\\akiec\\ISIC_0024522.jpg</td>\n",
       "      <td>akiec</td>\n",
       "      <td>0</td>\n",
       "    </tr>\n",
       "    <tr>\n",
       "      <th>4</th>\n",
       "      <td>Data\\Images\\skin_lesion\\akiec\\ISIC_0024913.jpg</td>\n",
       "      <td>akiec</td>\n",
       "      <td>0</td>\n",
       "    </tr>\n",
       "    <tr>\n",
       "      <th>...</th>\n",
       "      <td>...</td>\n",
       "      <td>...</td>\n",
       "      <td>...</td>\n",
       "    </tr>\n",
       "    <tr>\n",
       "      <th>247</th>\n",
       "      <td>Data\\Images\\skin_lesion\\vasc\\ISIC_0032076.jpg</td>\n",
       "      <td>vasc</td>\n",
       "      <td>6</td>\n",
       "    </tr>\n",
       "    <tr>\n",
       "      <th>248</th>\n",
       "      <td>Data\\Images\\skin_lesion\\vasc\\ISIC_0032745.jpg</td>\n",
       "      <td>vasc</td>\n",
       "      <td>6</td>\n",
       "    </tr>\n",
       "    <tr>\n",
       "      <th>249</th>\n",
       "      <td>Data\\Images\\skin_lesion\\vasc\\ISIC_0032839.jpg</td>\n",
       "      <td>vasc</td>\n",
       "      <td>6</td>\n",
       "    </tr>\n",
       "    <tr>\n",
       "      <th>250</th>\n",
       "      <td>Data\\Images\\skin_lesion\\vasc\\ISIC_0033135.jpg</td>\n",
       "      <td>vasc</td>\n",
       "      <td>6</td>\n",
       "    </tr>\n",
       "    <tr>\n",
       "      <th>251</th>\n",
       "      <td>Data\\Images\\skin_lesion\\vasc\\ISIC_0033158.jpg</td>\n",
       "      <td>vasc</td>\n",
       "      <td>6</td>\n",
       "    </tr>\n",
       "  </tbody>\n",
       "</table>\n",
       "<p>252 rows × 3 columns</p>\n",
       "</div>"
      ],
      "text/plain": [
       "                                           filepath class_label  class\n",
       "0    Data\\Images\\skin_lesion\\akiec\\ISIC_0024329.jpg       akiec      0\n",
       "1    Data\\Images\\skin_lesion\\akiec\\ISIC_0024450.jpg       akiec      0\n",
       "2    Data\\Images\\skin_lesion\\akiec\\ISIC_0024511.jpg       akiec      0\n",
       "3    Data\\Images\\skin_lesion\\akiec\\ISIC_0024522.jpg       akiec      0\n",
       "4    Data\\Images\\skin_lesion\\akiec\\ISIC_0024913.jpg       akiec      0\n",
       "..                                              ...         ...    ...\n",
       "247   Data\\Images\\skin_lesion\\vasc\\ISIC_0032076.jpg        vasc      6\n",
       "248   Data\\Images\\skin_lesion\\vasc\\ISIC_0032745.jpg        vasc      6\n",
       "249   Data\\Images\\skin_lesion\\vasc\\ISIC_0032839.jpg        vasc      6\n",
       "250   Data\\Images\\skin_lesion\\vasc\\ISIC_0033135.jpg        vasc      6\n",
       "251   Data\\Images\\skin_lesion\\vasc\\ISIC_0033158.jpg        vasc      6\n",
       "\n",
       "[252 rows x 3 columns]"
      ]
     },
     "metadata": {},
     "output_type": "display_data"
    }
   ],
   "source": [
    "import tut_utils\n",
    "df_dataset = tut_utils.create_dataset_df(DATA_ROOT, CLASS_LABELS, IMAGE_EXT)\n",
    "assert set(CLASS_LABELS) == set(df_dataset['class_label'].unique(\n",
    ")), 'Discrepancy between CLASS_LABELS and df_dataset'\n",
    "display(df_dataset)"
   ]
  },
  {
   "cell_type": "markdown",
   "metadata": {},
   "source": [
    "### クラスごとの画像数を確認する"
   ]
  },
  {
   "cell_type": "code",
   "execution_count": 4,
   "metadata": {
    "execution": {
     "iopub.execute_input": "2021-03-31T05:23:28.388949Z",
     "iopub.status.busy": "2021-03-31T05:23:28.388949Z",
     "iopub.status.idle": "2021-03-31T05:23:28.400444Z",
     "shell.execute_reply": "2021-03-31T05:23:28.399443Z"
    }
   },
   "outputs": [
    {
     "data": {
      "text/plain": [
       "bkl      36\n",
       "nv       36\n",
       "vasc     36\n",
       "akiec    36\n",
       "mel      36\n",
       "bcc      36\n",
       "df       36\n",
       "Name: class_label, dtype: int64"
      ]
     },
     "execution_count": 1,
     "metadata": {},
     "output_type": "execute_result"
    }
   ],
   "source": [
    "df_dataset['class_label'].value_counts()"
   ]
  },
  {
   "cell_type": "markdown",
   "metadata": {},
   "source": [
    "### 各クラスの画像を表示してみる"
   ]
  },
  {
   "cell_type": "code",
   "execution_count": 5,
   "metadata": {
    "execution": {
     "iopub.execute_input": "2021-03-31T05:23:28.416359Z",
     "iopub.status.busy": "2021-03-31T05:23:28.416359Z",
     "iopub.status.idle": "2021-03-31T05:23:29.000710Z",
     "shell.execute_reply": "2021-03-31T05:23:28.999711Z"
    }
   },
   "outputs": [
    {
     "name": "stdout",
     "output_type": "stream",
     "text": [
      "akiec\n"
     ]
    },
    {
     "data": {
      "image/png": "[encoded data removed]",
      "text/plain": [
       "<Figure size 216x144 with 2 Axes>"
      ]
     },
     "metadata": {
      "needs_background": "light"
     },
     "output_type": "display_data"
    },
    {
     "name": "stdout",
     "output_type": "stream",
     "text": [
      "bcc\n"
     ]
    },
    {
     "data": {
      "image/png": "[encoded data removed]",
      "text/plain": [
       "<Figure size 216x144 with 2 Axes>"
      ]
     },
     "metadata": {
      "needs_background": "light"
     },
     "output_type": "display_data"
    },
    {
     "name": "stdout",
     "output_type": "stream",
     "text": [
      "bkl\n"
     ]
    },
    {
     "data": {
      "image/png": "[encoded data removed]",
      "text/plain": [
       "<Figure size 216x144 with 2 Axes>"
      ]
     },
     "metadata": {
      "needs_background": "light"
     },
     "output_type": "display_data"
    },
    {
     "name": "stdout",
     "output_type": "stream",
     "text": [
      "df\n"
     ]
    },
    {
     "data": {
      "image/png": "[encoded data removed]",
      "text/plain": [
       "<Figure size 216x144 with 2 Axes>"
      ]
     },
     "metadata": {
      "needs_background": "light"
     },
     "output_type": "display_data"
    },
    {
     "name": "stdout",
     "output_type": "stream",
     "text": [
      "mel\n"
     ]
    },
    {
     "data": {
      "image/png": "[encoded data removed]",
      "text/plain": [
       "<Figure size 216x144 with 2 Axes>"
      ]
     },
     "metadata": {
      "needs_background": "light"
     },
     "output_type": "display_data"
    },
    {
     "name": "stdout",
     "output_type": "stream",
     "text": [
      "nv\n"
     ]
    },
    {
     "data": {
      "image/png": "[encoded data removed]",
      "text/plain": [
       "<Figure size 216x144 with 2 Axes>"
      ]
     },
     "metadata": {
      "needs_background": "light"
     },
     "output_type": "display_data"
    },
    {
     "name": "stdout",
     "output_type": "stream",
     "text": [
      "vasc\n"
     ]
    },
    {
     "data": {
      "image/png": "[encoded data removed]",
      "text/plain": [
       "<Figure size 216x144 with 2 Axes>"
      ]
     },
     "metadata": {
      "needs_background": "light"
     },
     "output_type": "display_data"
    }
   ],
   "source": [
    "tut_utils.show_images_each_class(df_dataset,\n",
    "                                 n_rows=1,\n",
    "                                 n_cols=2,\n",
    "                                 figsize=(3, 2))"
   ]
  },
  {
   "cell_type": "markdown",
   "metadata": {},
   "source": [
    "### 画像読み込み用の関数を作成"
   ]
  },
  {
   "cell_type": "code",
   "execution_count": 6,
   "metadata": {
    "execution": {
     "iopub.execute_input": "2021-03-31T05:23:29.003700Z",
     "iopub.status.busy": "2021-03-31T05:23:29.003700Z",
     "iopub.status.idle": "2021-03-31T05:23:29.015217Z",
     "shell.execute_reply": "2021-03-31T05:23:29.015217Z"
    }
   },
   "outputs": [],
   "source": [
    "IMG_SHAPE = (3, 224, 224)\n",
    "from PIL import Image\n",
    "import torch\n",
    "\n",
    "\n",
    "def load_img(filepath):\n",
    "    img = Image.open(filepath)\n",
    "    img = img.resize(IMG_SHAPE[1:])\n",
    "    return np.atleast_3d(img)"
   ]
  },
  {
   "cell_type": "markdown",
   "metadata": {},
   "source": [
    "## Data augmentation\n",
    "\n",
    "### 試しに適用\n",
    "いくつかの画像に対して実際にaugmentationを適用し表示する"
   ]
  },
  {
   "cell_type": "code",
   "execution_count": 7,
   "metadata": {
    "execution": {
     "iopub.execute_input": "2021-03-31T05:23:29.023208Z",
     "iopub.status.busy": "2021-03-31T05:23:29.022216Z",
     "iopub.status.idle": "2021-03-31T05:23:29.649188Z",
     "shell.execute_reply": "2021-03-31T05:23:29.649188Z"
    }
   },
   "outputs": [
    {
     "data": {
      "image/png": "[encoded data removed]",
      "text/plain": [
       "<Figure size 288x108 with 2 Axes>"
      ]
     },
     "metadata": {
      "needs_background": "light"
     },
     "output_type": "display_data"
    },
    {
     "data": {
      "image/png": "[encoded data removed]",
      "text/plain": [
       "<Figure size 288x108 with 2 Axes>"
      ]
     },
     "metadata": {
      "needs_background": "light"
     },
     "output_type": "display_data"
    },
    {
     "data": {
      "image/png": "[encoded data removed]",
      "text/plain": [
       "<Figure size 288x108 with 2 Axes>"
      ]
     },
     "metadata": {
      "needs_background": "light"
     },
     "output_type": "display_data"
    }
   ],
   "source": [
    "import albumentations as A\n",
    "from tut_utils import AugmentedDataset, load_dataset\n",
    "\n",
    "album_transform = A.Compose([\n",
    "    A.RandomBrightnessContrast(brightness_limit=.1, contrast_limit=.1, p=.5),\n",
    "    A.Flip(p=.5),\n",
    "    A.ShiftScaleRotate(shift_limit=0.1, scale_limit=.2, rotate_limit=45, p=.8)\n",
    "])\n",
    "\n",
    "N_TEST = 3\n",
    "\n",
    "\n",
    "def random_transform(x, y):\n",
    "    x = (x / 255).astype(np.float32)\n",
    "    tfed = album_transform(image=x)\n",
    "    x = tfed['image']\n",
    "    x = x.transpose(2, 0, 1)  # to channels first\n",
    "    return x.astype(np.float32), y\n",
    "\n",
    "\n",
    "def base_transform(x, y):\n",
    "    x = (x / 255).astype(np.float32)\n",
    "    x = x.transpose(2, 0, 1)  # to channels first\n",
    "    return x, y\n",
    "\n",
    "\n",
    "def test_augmentation(df_dataset):\n",
    "    df_train = df_dataset.iloc[:N_TEST]\n",
    "    train_data, train_labels = load_dataset(df_train, load_img)\n",
    "    dataset = AugmentedDataset(train_data, train_labels, random_transform)\n",
    "    loader = torch.utils.data.DataLoader(dataset,\n",
    "                                         batch_size=1,\n",
    "                                         shuffle=False,\n",
    "                                         num_workers=0)\n",
    "    for i, data in enumerate(loader):\n",
    "        plt.figure(figsize=(4, 1.5))\n",
    "        plt.subplot(1, 2, 1)\n",
    "        plt.imshow(train_data[i], cmap='gray')\n",
    "        plt.title('pre-augmentation')\n",
    "        plt.axis('off')\n",
    "        plt.subplot(1, 2, 2)\n",
    "        plt.imshow(data[0].squeeze().numpy().transpose(1, 2, 0), cmap='gray')\n",
    "        plt.title('post-augmentation')\n",
    "        plt.axis('off')\n",
    "        plt.show()\n",
    "\n",
    "\n",
    "test_augmentation(df_dataset)"
   ]
  },
  {
   "cell_type": "markdown",
   "metadata": {},
   "source": [
    "## モデル作成\n",
    "[ImageNet](http://www.image-net.org/)で事前学習されたMobileNetV2を基にモデルを作成する。\n",
    "[参考](https://www.tensorflow.org/tutorials/images/transfer_learning)\n",
    "<div class=\"alert alert-block alert-warning\">\n",
    "<b>注意:</b> BatchNormalizationレイヤーのmomentumは手動で再設定する</div>"
   ]
  },
  {
   "cell_type": "code",
   "execution_count": 8,
   "metadata": {
    "execution": {
     "iopub.execute_input": "2021-03-31T05:23:29.656180Z",
     "iopub.status.busy": "2021-03-31T05:23:29.655180Z",
     "iopub.status.idle": "2021-03-31T05:23:30.013812Z",
     "shell.execute_reply": "2021-03-31T05:23:30.014811Z"
    }
   },
   "outputs": [
    {
     "data": {
      "text/plain": [
       "==========================================================================================\n",
       "Layer (type:depth-idx)                   Output Shape              Param #\n",
       "==========================================================================================\n",
       "├─MobileNetFeatures: 1-1                 [-1, 1280, 7, 7]          --\n",
       "|    └─Sequential: 2-1                   [-1, 1280, 7, 7]          --\n",
       "|    |    └─ConvBNReLU: 3-1              [-1, 32, 112, 112]        928\n",
       "|    |    └─InvertedResidual: 3-2        [-1, 16, 112, 112]        896\n",
       "|    |    └─InvertedResidual: 3-3        [-1, 24, 56, 56]          5,136\n",
       "|    |    └─InvertedResidual: 3-4        [-1, 24, 56, 56]          8,832\n",
       "|    |    └─InvertedResidual: 3-5        [-1, 32, 28, 28]          10,000\n",
       "|    |    └─InvertedResidual: 3-6        [-1, 32, 28, 28]          14,848\n",
       "|    |    └─InvertedResidual: 3-7        [-1, 32, 28, 28]          14,848\n",
       "|    |    └─InvertedResidual: 3-8        [-1, 64, 14, 14]          21,056\n",
       "|    |    └─InvertedResidual: 3-9        [-1, 64, 14, 14]          54,272\n",
       "|    |    └─InvertedResidual: 3-10       [-1, 64, 14, 14]          54,272\n",
       "|    |    └─InvertedResidual: 3-11       [-1, 64, 14, 14]          54,272\n",
       "|    |    └─InvertedResidual: 3-12       [-1, 96, 14, 14]          66,624\n",
       "|    |    └─InvertedResidual: 3-13       [-1, 96, 14, 14]          118,272\n",
       "|    |    └─InvertedResidual: 3-14       [-1, 96, 14, 14]          118,272\n",
       "|    |    └─InvertedResidual: 3-15       [-1, 160, 7, 7]           155,264\n",
       "|    |    └─InvertedResidual: 3-16       [-1, 160, 7, 7]           320,000\n",
       "|    |    └─InvertedResidual: 3-17       [-1, 160, 7, 7]           320,000\n",
       "|    |    └─InvertedResidual: 3-18       [-1, 320, 7, 7]           473,920\n",
       "|    |    └─ConvBNReLU: 3-19             [-1, 1280, 7, 7]          412,160\n",
       "├─Sequential: 1-2                        [-1, 32, 3, 3]            --\n",
       "|    └─Conv2d: 2-2                       [-1, 128, 5, 5]           1,474,688\n",
       "|    └─BatchNorm2d: 2-3                  [-1, 128, 5, 5]           256\n",
       "|    └─ReLU: 2-4                         [-1, 128, 5, 5]           --\n",
       "|    └─Conv2d: 2-5                       [-1, 32, 3, 3]            36,896\n",
       "|    └─BatchNorm2d: 2-6                  [-1, 32, 3, 3]            64\n",
       "|    └─ReLU: 2-7                         [-1, 32, 3, 3]            --\n",
       "├─Sequential: 1-3                        [-1, 7]                   --\n",
       "|    └─Flatten: 2-8                      [-1, 288]                 --\n",
       "|    └─Linear: 2-9                       [-1, 7]                   2,023\n",
       "==========================================================================================\n",
       "Total params: 3,737,799\n",
       "Trainable params: 3,737,799\n",
       "Non-trainable params: 0\n",
       "Total mult-adds (M): 79.32\n",
       "==========================================================================================\n",
       "Input size (MB): 0.57\n",
       "Forward/backward pass size (MB): 7.14\n",
       "Params size (MB): 14.26\n",
       "Estimated Total Size (MB): 21.97\n",
       "=========================================================================================="
      ]
     },
     "execution_count": 1,
     "metadata": {},
     "output_type": "execute_result"
    }
   ],
   "source": [
    "import torch\n",
    "import torch.nn as nn\n",
    "import torch.nn.functional as F\n",
    "import torchvision.models as models\n",
    "from torchvision.models.utils import load_state_dict_from_url\n",
    "\n",
    "\n",
    "class MobileNetFeatures(models.MobileNetV2):\n",
    "    def __init__(\n",
    "        self,\n",
    "        pretrained=True,\n",
    "        **kwargs,\n",
    "    ):\n",
    "        super().__init__(**kwargs)\n",
    "        if pretrained:\n",
    "            state_dict = load_state_dict_from_url(\n",
    "                models.mobilenet.model_urls['mobilenet_v2'])\n",
    "            self.load_state_dict(state_dict)\n",
    "\n",
    "    def forward(self, x):\n",
    "        return self.features(x)\n",
    "\n",
    "\n",
    "class MobileNet(nn.Module):\n",
    "    def __init__(self):\n",
    "        super().__init__()\n",
    "        self.feature_extractor = MobileNetFeatures()\n",
    "        self.conv = nn.Sequential(nn.Conv2d(1280, 128, kernel_size=3),\n",
    "                                  nn.BatchNorm2d(128), nn.ReLU(inplace=True),\n",
    "                                  nn.Conv2d(128, 32, kernel_size=3),\n",
    "                                  nn.BatchNorm2d(32), nn.ReLU(inplace=True))\n",
    "        self.classifier = nn.Sequential(nn.Flatten(),\n",
    "                                        nn.Linear(288, len(CLASS_LABELS)))\n",
    "\n",
    "    def forward(self, x):\n",
    "        x = self.feature_extractor(x)\n",
    "        x = self.conv(x)\n",
    "        x = self.classifier(x)\n",
    "        return x\n",
    "\n",
    "\n",
    "from torchsummary import summary\n",
    "summary(MobileNet(), IMG_SHAPE, verbose=0, device='cpu')"
   ]
  },
  {
   "cell_type": "markdown",
   "metadata": {},
   "source": [
    "## pytorch-lightning\n",
    "[pytorch-lightning](https://github.com/PyTorchLightning/pytorch-lightning)を用いて学習を行う。\n",
    "pytorch-lightningを用いることでtrain等の定型的な関数を自作する必要がなくなる。"
   ]
  },
  {
   "cell_type": "code",
   "execution_count": 9,
   "metadata": {
    "execution": {
     "iopub.execute_input": "2021-03-31T05:23:30.019806Z",
     "iopub.status.busy": "2021-03-31T05:23:30.018807Z",
     "iopub.status.idle": "2021-03-31T05:23:30.330693Z",
     "shell.execute_reply": "2021-03-31T05:23:30.329704Z"
    }
   },
   "outputs": [],
   "source": [
    "import torch.optim as optim\n",
    "import pytorch_lightning as pl\n",
    "\n",
    "\n",
    "class LitNet(pl.LightningModule):\n",
    "    def __init__(self):\n",
    "        super().__init__()\n",
    "        self.model = MobileNet()\n",
    "        self.criterion = nn.CrossEntropyLoss()\n",
    "\n",
    "    def forward(self, x):\n",
    "        return self.model(x)\n",
    "\n",
    "    def training_step(self, batch, batch_idx):\n",
    "        x, y = batch\n",
    "        y_hat = self.model(x)\n",
    "        loss = self.criterion(y_hat, y)\n",
    "        self.log('train_loss', loss)\n",
    "        return loss\n",
    "\n",
    "    def configure_optimizers(self):\n",
    "        optimizer = optim.Adam(self.parameters(), lr=1e-4)\n",
    "        return optimizer"
   ]
  },
  {
   "cell_type": "markdown",
   "metadata": {},
   "source": [
    "## K-Fold 交差検証\n",
    "`loss`の値を早期終了の基準として使用する。\n",
    "<div class=\"alert alert-block alert-warning\">\n",
    "<b>注意:</b> 今回、trainingデータを用いて学習を終了させていますが、本来はvalidationデータ(trainingでもtestでもないデータ)を用います。\n",
    "</div>"
   ]
  },
  {
   "cell_type": "code",
   "execution_count": 10,
   "metadata": {
    "execution": {
     "iopub.execute_input": "2021-03-31T05:23:30.339702Z",
     "iopub.status.busy": "2021-03-31T05:23:30.338698Z",
     "iopub.status.idle": "2021-03-31T05:25:09.757739Z",
     "shell.execute_reply": "2021-03-31T05:25:09.758738Z"
    }
   },
   "outputs": [
    {
     "name": "stderr",
     "output_type": "stream",
     "text": [
      "2021-03-31 14:23:30,345 INFO :1th iteration of 3-fold CV\n",
      "GPU available: True, used: True\n",
      "2021-03-31 14:23:30,974 INFO :GPU available: True, used: True\n",
      "TPU available: None, using: 0 TPU cores\n",
      "2021-03-31 14:23:30,975 INFO :TPU available: None, using: 0 TPU cores\n",
      "LOCAL_RANK: 0 - CUDA_VISIBLE_DEVICES: [0]\n",
      "2021-03-31 14:23:30,977 INFO :LOCAL_RANK: 0 - CUDA_VISIBLE_DEVICES: [0]\n",
      "\n",
      "  | Name      | Type             | Params\n",
      "-----------------------------------------------\n",
      "0 | model     | MobileNet        | 5.0 M \n",
      "1 | criterion | CrossEntropyLoss | 0     \n",
      "-----------------------------------------------\n",
      "5.0 M     Trainable params\n",
      "0         Non-trainable params\n",
      "5.0 M     Total params\n",
      "2021-03-31 14:23:32,130 INFO :\n",
      "  | Name      | Type             | Params\n",
      "-----------------------------------------------\n",
      "0 | model     | MobileNet        | 5.0 M \n",
      "1 | criterion | CrossEntropyLoss | 0     \n",
      "-----------------------------------------------\n",
      "5.0 M     Trainable params\n",
      "0         Non-trainable params\n",
      "5.0 M     Total params\n"
     ]
    },
    {
     "data": {
      "application/vnd.jupyter.widget-view+json": {
       "model_id": "b58d2dfe6751422d8422c8939cd72b2b",
       "version_major": 2,
       "version_minor": 0
      },
      "text/plain": [
       "Training: 0it [00:00, ?it/s]"
      ]
     },
     "metadata": {},
     "output_type": "display_data"
    },
    {
     "name": "stderr",
     "output_type": "stream",
     "text": [
      "2021-03-31 14:23:51,784 INFO :Finish training\n"
     ]
    },
    {
     "data": {
      "image/png": "[encoded data removed]",
      "text/plain": [
       "<Figure size 432x288 with 1 Axes>"
      ]
     },
     "metadata": {
      "needs_background": "light"
     },
     "output_type": "display_data"
    },
    {
     "name": "stderr",
     "output_type": "stream",
     "text": [
      "2021-03-31 14:23:55,399 INFO :2th iteration of 3-fold CV\n",
      "GPU available: True, used: True\n",
      "2021-03-31 14:23:56,058 INFO :GPU available: True, used: True\n",
      "TPU available: None, using: 0 TPU cores\n",
      "2021-03-31 14:23:56,060 INFO :TPU available: None, using: 0 TPU cores\n",
      "LOCAL_RANK: 0 - CUDA_VISIBLE_DEVICES: [0]\n",
      "2021-03-31 14:23:56,061 INFO :LOCAL_RANK: 0 - CUDA_VISIBLE_DEVICES: [0]\n",
      "\n",
      "  | Name      | Type             | Params\n",
      "-----------------------------------------------\n",
      "0 | model     | MobileNet        | 5.0 M \n",
      "1 | criterion | CrossEntropyLoss | 0     \n",
      "-----------------------------------------------\n",
      "5.0 M     Trainable params\n",
      "0         Non-trainable params\n",
      "5.0 M     Total params\n",
      "2021-03-31 14:23:56,098 INFO :\n",
      "  | Name      | Type             | Params\n",
      "-----------------------------------------------\n",
      "0 | model     | MobileNet        | 5.0 M \n",
      "1 | criterion | CrossEntropyLoss | 0     \n",
      "-----------------------------------------------\n",
      "5.0 M     Trainable params\n",
      "0         Non-trainable params\n",
      "5.0 M     Total params\n"
     ]
    },
    {
     "data": {
      "application/vnd.jupyter.widget-view+json": {
       "model_id": "d67c9272a94747a38a60fd83e0108e2d",
       "version_major": 2,
       "version_minor": 0
      },
      "text/plain": [
       "Training: 0it [00:00, ?it/s]"
      ]
     },
     "metadata": {},
     "output_type": "display_data"
    },
    {
     "name": "stderr",
     "output_type": "stream",
     "text": [
      "2021-03-31 14:24:25,711 INFO :Finish training\n"
     ]
    },
    {
     "data": {
      "image/png": "[encoded data removed]",
      "text/plain": [
       "<Figure size 432x288 with 1 Axes>"
      ]
     },
     "metadata": {
      "needs_background": "light"
     },
     "output_type": "display_data"
    },
    {
     "name": "stderr",
     "output_type": "stream",
     "text": [
      "2021-03-31 14:24:29,519 INFO :3th iteration of 3-fold CV\n",
      "GPU available: True, used: True\n",
      "2021-03-31 14:24:30,179 INFO :GPU available: True, used: True\n",
      "TPU available: None, using: 0 TPU cores\n",
      "2021-03-31 14:24:30,180 INFO :TPU available: None, using: 0 TPU cores\n",
      "LOCAL_RANK: 0 - CUDA_VISIBLE_DEVICES: [0]\n",
      "2021-03-31 14:24:30,182 INFO :LOCAL_RANK: 0 - CUDA_VISIBLE_DEVICES: [0]\n",
      "\n",
      "  | Name      | Type             | Params\n",
      "-----------------------------------------------\n",
      "0 | model     | MobileNet        | 5.0 M \n",
      "1 | criterion | CrossEntropyLoss | 0     \n",
      "-----------------------------------------------\n",
      "5.0 M     Trainable params\n",
      "0         Non-trainable params\n",
      "5.0 M     Total params\n",
      "2021-03-31 14:24:30,212 INFO :\n",
      "  | Name      | Type             | Params\n",
      "-----------------------------------------------\n",
      "0 | model     | MobileNet        | 5.0 M \n",
      "1 | criterion | CrossEntropyLoss | 0     \n",
      "-----------------------------------------------\n",
      "5.0 M     Trainable params\n",
      "0         Non-trainable params\n",
      "5.0 M     Total params\n"
     ]
    },
    {
     "data": {
      "application/vnd.jupyter.widget-view+json": {
       "model_id": "eb8ff889962b4e808f636d1eda756862",
       "version_major": 2,
       "version_minor": 0
      },
      "text/plain": [
       "Training: 0it [00:00, ?it/s]"
      ]
     },
     "metadata": {},
     "output_type": "display_data"
    },
    {
     "name": "stderr",
     "output_type": "stream",
     "text": [
      "2021-03-31 14:25:06,050 INFO :Finish training\n"
     ]
    },
    {
     "data": {
      "image/png": "[encoded data removed]",
      "text/plain": [
       "<Figure size 432x288 with 1 Axes>"
      ]
     },
     "metadata": {
      "needs_background": "light"
     },
     "output_type": "display_data"
    }
   ],
   "source": [
    "import os\n",
    "from sklearn.model_selection import StratifiedKFold\n",
    "from pytorch_lightning.callbacks import EarlyStopping\n",
    "from pytorch_lightning.loggers import CSVLogger\n",
    "\n",
    "K_FOLD = 3\n",
    "kfold = StratifiedKFold(n_splits=K_FOLD, shuffle=True)\n",
    "\n",
    "DEBUG = False\n",
    "BATCH_SIZE = 8\n",
    "NUM_WORKERS = 0 if os.name == 'nt' else 2\n",
    "EPOCHS = 2 if DEBUG else 64\n",
    "PATIENCE = 4\n",
    "\n",
    "\n",
    "def predict_multiclass(model, loader, index):\n",
    "    model.freeze()\n",
    "    model.eval()\n",
    "\n",
    "    ys = []\n",
    "    with torch.no_grad():\n",
    "        for batch in loader:\n",
    "            x, _ = batch\n",
    "            logits = model(x)\n",
    "            ys.append(logits)\n",
    "    logits = torch.cat(ys, axis=0)\n",
    "    preds = F.softmax(logits, dim=1)\n",
    "    preds = preds.cpu().numpy()\n",
    "    df_result = pd.DataFrame({\n",
    "        'pred_logits': list(logits.cpu().numpy()),\n",
    "        'pred_proba': list(preds),\n",
    "        'pred_class': np.argmax(preds, axis=1)\n",
    "    })\n",
    "    df_result.index = index\n",
    "    return df_result\n",
    "\n",
    "\n",
    "results = []\n",
    "for i_iter, (train_index, test_index) in enumerate(\n",
    "        kfold.split(df_dataset['filepath'], df_dataset['class'])):\n",
    "    logger.info('{i}th iteration of {k}-fold CV'.format(i=i_iter + 1,\n",
    "                                                        k=K_FOLD))\n",
    "    df_train = df_dataset.iloc[train_index]\n",
    "    df_test = df_dataset.iloc[test_index]\n",
    "    train_data, train_labels = load_dataset(df_train, load_img)\n",
    "    test_data, test_labels = load_dataset(df_test, load_img)\n",
    "    model = LitNet()\n",
    "    dataset = AugmentedDataset(train_data, train_labels, random_transform)\n",
    "    trainloader = torch.utils.data.DataLoader(dataset,\n",
    "                                              batch_size=BATCH_SIZE,\n",
    "                                              shuffle=True,\n",
    "                                              num_workers=NUM_WORKERS)\n",
    "    early_stop_callback = EarlyStopping(monitor='train_loss',\n",
    "                                        patience=PATIENCE,\n",
    "                                        verbose=True,\n",
    "                                        mode='min')\n",
    "    csv_logger = CSVLogger('train_logs', name='skin_lesion')\n",
    "    trainer = pl.Trainer(gpus=1 if torch.cuda.is_available() else 0,\n",
    "                         max_epochs=EPOCHS,\n",
    "                         logger=csv_logger,\n",
    "                         log_every_n_steps=len(trainloader),\n",
    "                         callbacks=[early_stop_callback])\n",
    "    trainer.fit(model, trainloader)\n",
    "    logger.info('Finish training')\n",
    "    df_logs = pd.read_csv(csv_logger.experiment.metrics_file_path)\n",
    "    df_logs.plot(y='train_loss')\n",
    "    plt.show()\n",
    "    dataset = AugmentedDataset(test_data, test_labels, base_transform)\n",
    "    testloader = torch.utils.data.DataLoader(dataset,\n",
    "                                             batch_size=BATCH_SIZE,\n",
    "                                             shuffle=False,\n",
    "                                             num_workers=NUM_WORKERS)\n",
    "\n",
    "    df_result = predict_multiclass(model, testloader, test_index)\n",
    "    results.append(df_result)\n",
    "#     break"
   ]
  },
  {
   "cell_type": "markdown",
   "metadata": {},
   "source": [
    "### テスト結果"
   ]
  },
  {
   "cell_type": "code",
   "execution_count": 11,
   "metadata": {
    "execution": {
     "iopub.execute_input": "2021-03-31T05:25:09.776719Z",
     "iopub.status.busy": "2021-03-31T05:25:09.762734Z",
     "iopub.status.idle": "2021-03-31T05:25:09.788707Z",
     "shell.execute_reply": "2021-03-31T05:25:09.788707Z"
    }
   },
   "outputs": [
    {
     "data": {
      "text/html": [
       "<div>\n",
       "<style scoped>\n",
       "    .dataframe tbody tr th:only-of-type {\n",
       "        vertical-align: middle;\n",
       "    }\n",
       "\n",
       "    .dataframe tbody tr th {\n",
       "        vertical-align: top;\n",
       "    }\n",
       "\n",
       "    .dataframe thead th {\n",
       "        text-align: right;\n",
       "    }\n",
       "</style>\n",
       "<table border=\"1\" class=\"dataframe\">\n",
       "  <thead>\n",
       "    <tr style=\"text-align: right;\">\n",
       "      <th></th>\n",
       "      <th>filepath</th>\n",
       "      <th>class_label</th>\n",
       "      <th>class</th>\n",
       "      <th>pred_logits</th>\n",
       "      <th>pred_proba</th>\n",
       "      <th>pred_class</th>\n",
       "    </tr>\n",
       "  </thead>\n",
       "  <tbody>\n",
       "    <tr>\n",
       "      <th>0</th>\n",
       "      <td>Data\\Images\\skin_lesion\\akiec\\ISIC_0024329.jpg</td>\n",
       "      <td>akiec</td>\n",
       "      <td>0</td>\n",
       "      <td>[1.2920845, 1.0699552, -0.38711792, -0.4194856...</td>\n",
       "      <td>[0.42640528, 0.34147042, 0.07953427, 0.0770011...</td>\n",
       "      <td>0</td>\n",
       "    </tr>\n",
       "    <tr>\n",
       "      <th>1</th>\n",
       "      <td>Data\\Images\\skin_lesion\\akiec\\ISIC_0024450.jpg</td>\n",
       "      <td>akiec</td>\n",
       "      <td>0</td>\n",
       "      <td>[0.86791, 0.94399536, -0.7762477, -0.9198698, ...</td>\n",
       "      <td>[0.2666558, 0.28773618, 0.05151129, 0.04461985...</td>\n",
       "      <td>1</td>\n",
       "    </tr>\n",
       "    <tr>\n",
       "      <th>2</th>\n",
       "      <td>Data\\Images\\skin_lesion\\akiec\\ISIC_0024511.jpg</td>\n",
       "      <td>akiec</td>\n",
       "      <td>0</td>\n",
       "      <td>[-0.110471725, 1.1809632, 0.36672527, -0.81503...</td>\n",
       "      <td>[0.1108296, 0.4031984, 0.17860754, 0.054785874...</td>\n",
       "      <td>1</td>\n",
       "    </tr>\n",
       "    <tr>\n",
       "      <th>3</th>\n",
       "      <td>Data\\Images\\skin_lesion\\akiec\\ISIC_0024522.jpg</td>\n",
       "      <td>akiec</td>\n",
       "      <td>0</td>\n",
       "      <td>[0.6859671, 0.8106479, -0.5748179, -0.6341585,...</td>\n",
       "      <td>[0.30121776, 0.34121552, 0.08537459, 0.0804558...</td>\n",
       "      <td>1</td>\n",
       "    </tr>\n",
       "    <tr>\n",
       "      <th>4</th>\n",
       "      <td>Data\\Images\\skin_lesion\\akiec\\ISIC_0024913.jpg</td>\n",
       "      <td>akiec</td>\n",
       "      <td>0</td>\n",
       "      <td>[1.2573531, 0.84850186, -0.46625516, 0.4986542...</td>\n",
       "      <td>[0.40585604, 0.26965606, 0.072413325, 0.190052...</td>\n",
       "      <td>0</td>\n",
       "    </tr>\n",
       "    <tr>\n",
       "      <th>...</th>\n",
       "      <td>...</td>\n",
       "      <td>...</td>\n",
       "      <td>...</td>\n",
       "      <td>...</td>\n",
       "      <td>...</td>\n",
       "      <td>...</td>\n",
       "    </tr>\n",
       "    <tr>\n",
       "      <th>247</th>\n",
       "      <td>Data\\Images\\skin_lesion\\vasc\\ISIC_0032076.jpg</td>\n",
       "      <td>vasc</td>\n",
       "      <td>6</td>\n",
       "      <td>[-1.2608061, 0.016392156, -1.5140952, -0.33886...</td>\n",
       "      <td>[0.005866567, 0.021040894, 0.0045538833, 0.014...</td>\n",
       "      <td>6</td>\n",
       "    </tr>\n",
       "    <tr>\n",
       "      <th>248</th>\n",
       "      <td>Data\\Images\\skin_lesion\\vasc\\ISIC_0032745.jpg</td>\n",
       "      <td>vasc</td>\n",
       "      <td>6</td>\n",
       "      <td>[-1.3792217, -1.6069567, 0.02683713, -1.082055...</td>\n",
       "      <td>[0.0119450595, 0.009512272, 0.048733983, 0.016...</td>\n",
       "      <td>6</td>\n",
       "    </tr>\n",
       "    <tr>\n",
       "      <th>249</th>\n",
       "      <td>Data\\Images\\skin_lesion\\vasc\\ISIC_0032839.jpg</td>\n",
       "      <td>vasc</td>\n",
       "      <td>6</td>\n",
       "      <td>[-0.2955462, -0.93621266, -0.596717, -0.814055...</td>\n",
       "      <td>[0.029373279, 0.015477988, 0.021734798, 0.0174...</td>\n",
       "      <td>6</td>\n",
       "    </tr>\n",
       "    <tr>\n",
       "      <th>250</th>\n",
       "      <td>Data\\Images\\skin_lesion\\vasc\\ISIC_0033135.jpg</td>\n",
       "      <td>vasc</td>\n",
       "      <td>6</td>\n",
       "      <td>[-1.2412767, -0.83044076, -0.97186804, -0.9979...</td>\n",
       "      <td>[0.017388152, 0.026222691, 0.022764398, 0.0221...</td>\n",
       "      <td>6</td>\n",
       "    </tr>\n",
       "    <tr>\n",
       "      <th>251</th>\n",
       "      <td>Data\\Images\\skin_lesion\\vasc\\ISIC_0033158.jpg</td>\n",
       "      <td>vasc</td>\n",
       "      <td>6</td>\n",
       "      <td>[-0.9544598, -0.78412294, -0.9204813, -0.58340...</td>\n",
       "      <td>[0.028882895, 0.034246564, 0.029881155, 0.0418...</td>\n",
       "      <td>6</td>\n",
       "    </tr>\n",
       "  </tbody>\n",
       "</table>\n",
       "<p>252 rows × 6 columns</p>\n",
       "</div>"
      ],
      "text/plain": [
       "                                           filepath class_label  class  \\\n",
       "0    Data\\Images\\skin_lesion\\akiec\\ISIC_0024329.jpg       akiec      0   \n",
       "1    Data\\Images\\skin_lesion\\akiec\\ISIC_0024450.jpg       akiec      0   \n",
       "2    Data\\Images\\skin_lesion\\akiec\\ISIC_0024511.jpg       akiec      0   \n",
       "3    Data\\Images\\skin_lesion\\akiec\\ISIC_0024522.jpg       akiec      0   \n",
       "4    Data\\Images\\skin_lesion\\akiec\\ISIC_0024913.jpg       akiec      0   \n",
       "..                                              ...         ...    ...   \n",
       "247   Data\\Images\\skin_lesion\\vasc\\ISIC_0032076.jpg        vasc      6   \n",
       "248   Data\\Images\\skin_lesion\\vasc\\ISIC_0032745.jpg        vasc      6   \n",
       "249   Data\\Images\\skin_lesion\\vasc\\ISIC_0032839.jpg        vasc      6   \n",
       "250   Data\\Images\\skin_lesion\\vasc\\ISIC_0033135.jpg        vasc      6   \n",
       "251   Data\\Images\\skin_lesion\\vasc\\ISIC_0033158.jpg        vasc      6   \n",
       "\n",
       "                                           pred_logits  \\\n",
       "0    [1.2920845, 1.0699552, -0.38711792, -0.4194856...   \n",
       "1    [0.86791, 0.94399536, -0.7762477, -0.9198698, ...   \n",
       "2    [-0.110471725, 1.1809632, 0.36672527, -0.81503...   \n",
       "3    [0.6859671, 0.8106479, -0.5748179, -0.6341585,...   \n",
       "4    [1.2573531, 0.84850186, -0.46625516, 0.4986542...   \n",
       "..                                                 ...   \n",
       "247  [-1.2608061, 0.016392156, -1.5140952, -0.33886...   \n",
       "248  [-1.3792217, -1.6069567, 0.02683713, -1.082055...   \n",
       "249  [-0.2955462, -0.93621266, -0.596717, -0.814055...   \n",
       "250  [-1.2412767, -0.83044076, -0.97186804, -0.9979...   \n",
       "251  [-0.9544598, -0.78412294, -0.9204813, -0.58340...   \n",
       "\n",
       "                                            pred_proba  pred_class  \n",
       "0    [0.42640528, 0.34147042, 0.07953427, 0.0770011...           0  \n",
       "1    [0.2666558, 0.28773618, 0.05151129, 0.04461985...           1  \n",
       "2    [0.1108296, 0.4031984, 0.17860754, 0.054785874...           1  \n",
       "3    [0.30121776, 0.34121552, 0.08537459, 0.0804558...           1  \n",
       "4    [0.40585604, 0.26965606, 0.072413325, 0.190052...           0  \n",
       "..                                                 ...         ...  \n",
       "247  [0.005866567, 0.021040894, 0.0045538833, 0.014...           6  \n",
       "248  [0.0119450595, 0.009512272, 0.048733983, 0.016...           6  \n",
       "249  [0.029373279, 0.015477988, 0.021734798, 0.0174...           6  \n",
       "250  [0.017388152, 0.026222691, 0.022764398, 0.0221...           6  \n",
       "251  [0.028882895, 0.034246564, 0.029881155, 0.0418...           6  \n",
       "\n",
       "[252 rows x 6 columns]"
      ]
     },
     "metadata": {},
     "output_type": "display_data"
    }
   ],
   "source": [
    "df_result = pd.concat(results, axis=0)\n",
    "df_result = df_dataset.join(df_result)\n",
    "display(df_result)"
   ]
  },
  {
   "cell_type": "markdown",
   "metadata": {},
   "source": [
    "## 評価\n",
    "### 混同行列"
   ]
  },
  {
   "cell_type": "code",
   "execution_count": 12,
   "metadata": {
    "execution": {
     "iopub.execute_input": "2021-03-31T05:25:09.792702Z",
     "iopub.status.busy": "2021-03-31T05:25:09.792702Z",
     "iopub.status.idle": "2021-03-31T05:25:09.803769Z",
     "shell.execute_reply": "2021-03-31T05:25:09.804768Z"
    }
   },
   "outputs": [
    {
     "name": "stdout",
     "output_type": "stream",
     "text": [
      "Accuracy = 144 / 252 = 57.1%\n"
     ]
    },
    {
     "data": {
      "text/html": [
       "<div>\n",
       "<style scoped>\n",
       "    .dataframe tbody tr th:only-of-type {\n",
       "        vertical-align: middle;\n",
       "    }\n",
       "\n",
       "    .dataframe tbody tr th {\n",
       "        vertical-align: top;\n",
       "    }\n",
       "\n",
       "    .dataframe thead th {\n",
       "        text-align: right;\n",
       "    }\n",
       "</style>\n",
       "<table border=\"1\" class=\"dataframe\">\n",
       "  <thead>\n",
       "    <tr style=\"text-align: right;\">\n",
       "      <th>Prediction</th>\n",
       "      <th>akiec</th>\n",
       "      <th>bcc</th>\n",
       "      <th>bkl</th>\n",
       "      <th>df</th>\n",
       "      <th>mel</th>\n",
       "      <th>nv</th>\n",
       "      <th>vasc</th>\n",
       "    </tr>\n",
       "    <tr>\n",
       "      <th>Truth</th>\n",
       "      <th></th>\n",
       "      <th></th>\n",
       "      <th></th>\n",
       "      <th></th>\n",
       "      <th></th>\n",
       "      <th></th>\n",
       "      <th></th>\n",
       "    </tr>\n",
       "  </thead>\n",
       "  <tbody>\n",
       "    <tr>\n",
       "      <th>akiec</th>\n",
       "      <td>17</td>\n",
       "      <td>5</td>\n",
       "      <td>6</td>\n",
       "      <td>4</td>\n",
       "      <td>4</td>\n",
       "      <td>0</td>\n",
       "      <td>0</td>\n",
       "    </tr>\n",
       "    <tr>\n",
       "      <th>bcc</th>\n",
       "      <td>8</td>\n",
       "      <td>14</td>\n",
       "      <td>2</td>\n",
       "      <td>4</td>\n",
       "      <td>2</td>\n",
       "      <td>2</td>\n",
       "      <td>4</td>\n",
       "    </tr>\n",
       "    <tr>\n",
       "      <th>bkl</th>\n",
       "      <td>0</td>\n",
       "      <td>1</td>\n",
       "      <td>23</td>\n",
       "      <td>3</td>\n",
       "      <td>6</td>\n",
       "      <td>2</td>\n",
       "      <td>1</td>\n",
       "    </tr>\n",
       "    <tr>\n",
       "      <th>df</th>\n",
       "      <td>1</td>\n",
       "      <td>1</td>\n",
       "      <td>2</td>\n",
       "      <td>23</td>\n",
       "      <td>2</td>\n",
       "      <td>7</td>\n",
       "      <td>0</td>\n",
       "    </tr>\n",
       "    <tr>\n",
       "      <th>mel</th>\n",
       "      <td>1</td>\n",
       "      <td>1</td>\n",
       "      <td>5</td>\n",
       "      <td>2</td>\n",
       "      <td>11</td>\n",
       "      <td>15</td>\n",
       "      <td>1</td>\n",
       "    </tr>\n",
       "    <tr>\n",
       "      <th>nv</th>\n",
       "      <td>1</td>\n",
       "      <td>0</td>\n",
       "      <td>1</td>\n",
       "      <td>5</td>\n",
       "      <td>5</td>\n",
       "      <td>24</td>\n",
       "      <td>0</td>\n",
       "    </tr>\n",
       "    <tr>\n",
       "      <th>vasc</th>\n",
       "      <td>0</td>\n",
       "      <td>1</td>\n",
       "      <td>0</td>\n",
       "      <td>1</td>\n",
       "      <td>0</td>\n",
       "      <td>2</td>\n",
       "      <td>32</td>\n",
       "    </tr>\n",
       "  </tbody>\n",
       "</table>\n",
       "</div>"
      ],
      "text/plain": [
       "Prediction  akiec  bcc  bkl  df  mel  nv  vasc\n",
       "Truth                                         \n",
       "akiec          17    5    6   4    4   0     0\n",
       "bcc             8   14    2   4    2   2     4\n",
       "bkl             0    1   23   3    6   2     1\n",
       "df              1    1    2  23    2   7     0\n",
       "mel             1    1    5   2   11  15     1\n",
       "nv              1    0    1   5    5  24     0\n",
       "vasc            0    1    0   1    0   2    32"
      ]
     },
     "metadata": {},
     "output_type": "display_data"
    }
   ],
   "source": [
    "df_cm = tut_utils.confusion_matrix(df_result)\n",
    "print('Accuracy = {n} / {d} = {a:.03g}%'.format(n=df_cm.values.trace(),\n",
    "                                                d=df_cm.values.sum(),\n",
    "                                                a=100 * df_cm.values.trace() /\n",
    "                                                df_cm.values.sum()))\n",
    "\n",
    "display(df_cm)"
   ]
  },
  {
   "cell_type": "markdown",
   "metadata": {},
   "source": [
    "### ROCカーブ"
   ]
  },
  {
   "cell_type": "code",
   "execution_count": 13,
   "metadata": {
    "execution": {
     "iopub.execute_input": "2021-03-31T05:25:09.808764Z",
     "iopub.status.busy": "2021-03-31T05:25:09.807765Z",
     "iopub.status.idle": "2021-03-31T05:25:10.008559Z",
     "shell.execute_reply": "2021-03-31T05:25:10.008559Z"
    }
   },
   "outputs": [
    {
     "name": "stdout",
     "output_type": "stream",
     "text": [
      "(7, 252)\n"
     ]
    },
    {
     "data": {
      "image/png": "[encoded data removed]",
      "text/plain": [
       "<Figure size 288x216 with 1 Axes>"
      ]
     },
     "metadata": {
      "needs_background": "light"
     },
     "output_type": "display_data"
    }
   ],
   "source": [
    "tut_utils.plot_roc_curves(df_result, figsize=(4, 3))\n",
    "plt.show()"
   ]
  }
 ],
 "metadata": {
  "kernelspec": {
   "display_name": "Python 3",
   "language": "python",
   "name": "python3"
  },
  "language_info": {
   "codemirror_mode": {
    "name": "ipython",
    "version": 3
   },
   "file_extension": ".py",
   "mimetype": "text/x-python",
   "name": "python",
   "nbconvert_exporter": "python",
   "pygments_lexer": "ipython3",
   "version": "3.8.5"
  },
  "toc": {
   "base_numbering": 1,
   "nav_menu": {},
   "number_sections": true,
   "sideBar": true,
   "skip_h1_title": true,
   "title_cell": "Table of Contents",
   "title_sidebar": "Contents",
   "toc_cell": false,
   "toc_position": {
    "height": "calc(100% - 180px)",
    "left": "10px",
    "top": "150px",
    "width": "364.663px"
   },
   "toc_section_display": true,
   "toc_window_display": true
  },
  "varInspector": {
   "cols": {
    "lenName": 16,
    "lenType": 16,
    "lenVar": 40
   },
   "kernels_config": {
    "python": {
     "delete_cmd_postfix": "",
     "delete_cmd_prefix": "del ",
     "library": "var_list.py",
     "varRefreshCmd": "print(var_dic_list())"
    },
    "r": {
     "delete_cmd_postfix": ") ",
     "delete_cmd_prefix": "rm(",
     "library": "var_list.r",
     "varRefreshCmd": "cat(var_dic_list()) "
    }
   },
   "types_to_exclude": [
    "module",
    "function",
    "builtin_function_or_method",
    "instance",
    "_Feature"
   ],
   "window_display": false
  },
  "widgets": {
   "application/vnd.jupyter.widget-state+json": {
    "state": {
     "0287609417c84d3b959a64ace7a1a6f5": {
      "model_module": "@jupyter-widgets/controls",
      "model_module_version": "1.5.0",
      "model_name": "HTMLModel",
      "state": {
       "_dom_classes": [],
       "_model_module": "@jupyter-widgets/controls",
       "_model_module_version": "1.5.0",
       "_model_name": "HTMLModel",
       "_view_count": null,
       "_view_module": "@jupyter-widgets/controls",
       "_view_module_version": "1.5.0",
       "_view_name": "HTMLView",
       "description": "",
       "description_tooltip": null,
       "layout": "IPY_MODEL_d224f37c2cb348be92248b0c40adc11b",
       "placeholder": "​",
       "style": "IPY_MODEL_3f475a5bb68d4eb1aaffb4f6f490d9eb",
       "value": "Epoch 16: 100%"
      }
     },
     "04c6e253d48348a692d5385c333034c6": {
      "model_module": "@jupyter-widgets/controls",
      "model_module_version": "1.5.0",
      "model_name": "ProgressStyleModel",
      "state": {
       "_model_module": "@jupyter-widgets/controls",
       "_model_module_version": "1.5.0",
       "_model_name": "ProgressStyleModel",
       "_view_count": null,
       "_view_module": "@jupyter-widgets/base",
       "_view_module_version": "1.2.0",
       "_view_name": "StyleView",
       "bar_color": null,
       "description_width": ""
      }
     },
     "0cd2e53214254e5295df6045f46b0d8a": {
      "model_module": "@jupyter-widgets/controls",
      "model_module_version": "1.5.0",
      "model_name": "FloatProgressModel",
      "state": {
       "_dom_classes": [],
       "_model_module": "@jupyter-widgets/controls",
       "_model_module_version": "1.5.0",
       "_model_name": "FloatProgressModel",
       "_view_count": null,
       "_view_module": "@jupyter-widgets/controls",
       "_view_module_version": "1.5.0",
       "_view_name": "ProgressView",
       "bar_style": "success",
       "description": "",
       "description_tooltip": null,
       "layout": "IPY_MODEL_eb9c2034432b450d9d59380e15849deb",
       "max": 21.0,
       "min": 0.0,
       "orientation": "horizontal",
       "style": "IPY_MODEL_9a1c272a92964c7aaaaf1bcdced1de6f",
       "value": 21.0
      }
     },
     "120e305208994f96a24674186934bf42": {
      "model_module": "@jupyter-widgets/base",
      "model_module_version": "1.2.0",
      "model_name": "LayoutModel",
      "state": {
       "_model_module": "@jupyter-widgets/base",
       "_model_module_version": "1.2.0",
       "_model_name": "LayoutModel",
       "_view_count": null,
       "_view_module": "@jupyter-widgets/base",
       "_view_module_version": "1.2.0",
       "_view_name": "LayoutView",
       "align_content": null,
       "align_items": null,
       "align_self": null,
       "border": null,
       "bottom": null,
       "display": null,
       "flex": null,
       "flex_flow": null,
       "grid_area": null,
       "grid_auto_columns": null,
       "grid_auto_flow": null,
       "grid_auto_rows": null,
       "grid_column": null,
       "grid_gap": null,
       "grid_row": null,
       "grid_template_areas": null,
       "grid_template_columns": null,
       "grid_template_rows": null,
       "height": null,
       "justify_content": null,
       "justify_items": null,
       "left": null,
       "margin": null,
       "max_height": null,
       "max_width": null,
       "min_height": null,
       "min_width": null,
       "object_fit": null,
       "object_position": null,
       "order": null,
       "overflow": null,
       "overflow_x": null,
       "overflow_y": null,
       "padding": null,
       "right": null,
       "top": null,
       "visibility": null,
       "width": null
      }
     },
     "1eeec69096d94a9bbd41f350713439ad": {
      "model_module": "@jupyter-widgets/base",
      "model_module_version": "1.2.0",
      "model_name": "LayoutModel",
      "state": {
       "_model_module": "@jupyter-widgets/base",
       "_model_module_version": "1.2.0",
       "_model_name": "LayoutModel",
       "_view_count": null,
       "_view_module": "@jupyter-widgets/base",
       "_view_module_version": "1.2.0",
       "_view_name": "LayoutView",
       "align_content": null,
       "align_items": null,
       "align_self": null,
       "border": null,
       "bottom": null,
       "display": "inline-flex",
       "flex": null,
       "flex_flow": "row wrap",
       "grid_area": null,
       "grid_auto_columns": null,
       "grid_auto_flow": null,
       "grid_auto_rows": null,
       "grid_column": null,
       "grid_gap": null,
       "grid_row": null,
       "grid_template_areas": null,
       "grid_template_columns": null,
       "grid_template_rows": null,
       "height": null,
       "justify_content": null,
       "justify_items": null,
       "left": null,
       "margin": null,
       "max_height": null,
       "max_width": null,
       "min_height": null,
       "min_width": null,
       "object_fit": null,
       "object_position": null,
       "order": null,
       "overflow": null,
       "overflow_x": null,
       "overflow_y": null,
       "padding": null,
       "right": null,
       "top": null,
       "visibility": null,
       "width": "100%"
      }
     },
     "27d8feadb8964df3b3b8f27d86f12888": {
      "model_module": "@jupyter-widgets/controls",
      "model_module_version": "1.5.0",
      "model_name": "FloatProgressModel",
      "state": {
       "_dom_classes": [],
       "_model_module": "@jupyter-widgets/controls",
       "_model_module_version": "1.5.0",
       "_model_name": "FloatProgressModel",
       "_view_count": null,
       "_view_module": "@jupyter-widgets/controls",
       "_view_module_version": "1.5.0",
       "_view_name": "ProgressView",
       "bar_style": "success",
       "description": "",
       "description_tooltip": null,
       "layout": "IPY_MODEL_a633930f8bfc4bed98570585fb9a96d7",
       "max": 21.0,
       "min": 0.0,
       "orientation": "horizontal",
       "style": "IPY_MODEL_04c6e253d48348a692d5385c333034c6",
       "value": 21.0
      }
     },
     "3896d29f0d9a40a99546687f31812721": {
      "model_module": "@jupyter-widgets/controls",
      "model_module_version": "1.5.0",
      "model_name": "DescriptionStyleModel",
      "state": {
       "_model_module": "@jupyter-widgets/controls",
       "_model_module_version": "1.5.0",
       "_model_name": "DescriptionStyleModel",
       "_view_count": null,
       "_view_module": "@jupyter-widgets/base",
       "_view_module_version": "1.2.0",
       "_view_name": "StyleView",
       "description_width": ""
      }
     },
     "3f475a5bb68d4eb1aaffb4f6f490d9eb": {
      "model_module": "@jupyter-widgets/controls",
      "model_module_version": "1.5.0",
      "model_name": "DescriptionStyleModel",
      "state": {
       "_model_module": "@jupyter-widgets/controls",
       "_model_module_version": "1.5.0",
       "_model_name": "DescriptionStyleModel",
       "_view_count": null,
       "_view_module": "@jupyter-widgets/base",
       "_view_module_version": "1.2.0",
       "_view_name": "StyleView",
       "description_width": ""
      }
     },
     "453045943faa49c7a370d2acbb1a3b6f": {
      "model_module": "@jupyter-widgets/controls",
      "model_module_version": "1.5.0",
      "model_name": "DescriptionStyleModel",
      "state": {
       "_model_module": "@jupyter-widgets/controls",
       "_model_module_version": "1.5.0",
       "_model_name": "DescriptionStyleModel",
       "_view_count": null,
       "_view_module": "@jupyter-widgets/base",
       "_view_module_version": "1.2.0",
       "_view_name": "StyleView",
       "description_width": ""
      }
     },
     "523e8cefb20e4023b81c24012d459525": {
      "model_module": "@jupyter-widgets/controls",
      "model_module_version": "1.5.0",
      "model_name": "DescriptionStyleModel",
      "state": {
       "_model_module": "@jupyter-widgets/controls",
       "_model_module_version": "1.5.0",
       "_model_name": "DescriptionStyleModel",
       "_view_count": null,
       "_view_module": "@jupyter-widgets/base",
       "_view_module_version": "1.2.0",
       "_view_name": "StyleView",
       "description_width": ""
      }
     },
     "5da0598ef3074134a8608b14ccac857c": {
      "model_module": "@jupyter-widgets/controls",
      "model_module_version": "1.5.0",
      "model_name": "HTMLModel",
      "state": {
       "_dom_classes": [],
       "_model_module": "@jupyter-widgets/controls",
       "_model_module_version": "1.5.0",
       "_model_name": "HTMLModel",
       "_view_count": null,
       "_view_module": "@jupyter-widgets/controls",
       "_view_module_version": "1.5.0",
       "_view_name": "HTMLView",
       "description": "",
       "description_tooltip": null,
       "layout": "IPY_MODEL_e7b325e119f34139af165545ff62e257",
       "placeholder": "​",
       "style": "IPY_MODEL_b982af39f56a4fab9d8a60e4da71cdf3",
       "value": "Epoch 10: 100%"
      }
     },
     "6129c2c362f24daea8383dcbe146ba85": {
      "model_module": "@jupyter-widgets/controls",
      "model_module_version": "1.5.0",
      "model_name": "HTMLModel",
      "state": {
       "_dom_classes": [],
       "_model_module": "@jupyter-widgets/controls",
       "_model_module_version": "1.5.0",
       "_model_name": "HTMLModel",
       "_view_count": null,
       "_view_module": "@jupyter-widgets/controls",
       "_view_module_version": "1.5.0",
       "_view_name": "HTMLView",
       "description": "",
       "description_tooltip": null,
       "layout": "IPY_MODEL_f7a056cf897c43a2b3658d2c42e1ba5c",
       "placeholder": "​",
       "style": "IPY_MODEL_3896d29f0d9a40a99546687f31812721",
       "value": " 21/21 [00:01&lt;00:00, 11.56it/s, loss=0.377, v_num=7]"
      }
     },
     "822f3f1cece34a0e9cdb1d2020d3b95c": {
      "model_module": "@jupyter-widgets/controls",
      "model_module_version": "1.5.0",
      "model_name": "HTMLModel",
      "state": {
       "_dom_classes": [],
       "_model_module": "@jupyter-widgets/controls",
       "_model_module_version": "1.5.0",
       "_model_name": "HTMLModel",
       "_view_count": null,
       "_view_module": "@jupyter-widgets/controls",
       "_view_module_version": "1.5.0",
       "_view_name": "HTMLView",
       "description": "",
       "description_tooltip": null,
       "layout": "IPY_MODEL_120e305208994f96a24674186934bf42",
       "placeholder": "​",
       "style": "IPY_MODEL_523e8cefb20e4023b81c24012d459525",
       "value": " 21/21 [00:01&lt;00:00, 12.45it/s, loss=0.329, v_num=8]"
      }
     },
     "9a1c272a92964c7aaaaf1bcdced1de6f": {
      "model_module": "@jupyter-widgets/controls",
      "model_module_version": "1.5.0",
      "model_name": "ProgressStyleModel",
      "state": {
       "_model_module": "@jupyter-widgets/controls",
       "_model_module_version": "1.5.0",
       "_model_name": "ProgressStyleModel",
       "_view_count": null,
       "_view_module": "@jupyter-widgets/base",
       "_view_module_version": "1.2.0",
       "_view_name": "StyleView",
       "bar_color": null,
       "description_width": ""
      }
     },
     "9d381b94e8f441028e4f8a65865d1575": {
      "model_module": "@jupyter-widgets/controls",
      "model_module_version": "1.5.0",
      "model_name": "DescriptionStyleModel",
      "state": {
       "_model_module": "@jupyter-widgets/controls",
       "_model_module_version": "1.5.0",
       "_model_name": "DescriptionStyleModel",
       "_view_count": null,
       "_view_module": "@jupyter-widgets/base",
       "_view_module_version": "1.2.0",
       "_view_name": "StyleView",
       "description_width": ""
      }
     },
     "a633930f8bfc4bed98570585fb9a96d7": {
      "model_module": "@jupyter-widgets/base",
      "model_module_version": "1.2.0",
      "model_name": "LayoutModel",
      "state": {
       "_model_module": "@jupyter-widgets/base",
       "_model_module_version": "1.2.0",
       "_model_name": "LayoutModel",
       "_view_count": null,
       "_view_module": "@jupyter-widgets/base",
       "_view_module_version": "1.2.0",
       "_view_name": "LayoutView",
       "align_content": null,
       "align_items": null,
       "align_self": null,
       "border": null,
       "bottom": null,
       "display": null,
       "flex": "2",
       "flex_flow": null,
       "grid_area": null,
       "grid_auto_columns": null,
       "grid_auto_flow": null,
       "grid_auto_rows": null,
       "grid_column": null,
       "grid_gap": null,
       "grid_row": null,
       "grid_template_areas": null,
       "grid_template_columns": null,
       "grid_template_rows": null,
       "height": null,
       "justify_content": null,
       "justify_items": null,
       "left": null,
       "margin": null,
       "max_height": null,
       "max_width": null,
       "min_height": null,
       "min_width": null,
       "object_fit": null,
       "object_position": null,
       "order": null,
       "overflow": null,
       "overflow_x": null,
       "overflow_y": null,
       "padding": null,
       "right": null,
       "top": null,
       "visibility": null,
       "width": null
      }
     },
     "aa00e033f9914a0aa7a920822988c420": {
      "model_module": "@jupyter-widgets/base",
      "model_module_version": "1.2.0",
      "model_name": "LayoutModel",
      "state": {
       "_model_module": "@jupyter-widgets/base",
       "_model_module_version": "1.2.0",
       "_model_name": "LayoutModel",
       "_view_count": null,
       "_view_module": "@jupyter-widgets/base",
       "_view_module_version": "1.2.0",
       "_view_name": "LayoutView",
       "align_content": null,
       "align_items": null,
       "align_self": null,
       "border": null,
       "bottom": null,
       "display": "inline-flex",
       "flex": null,
       "flex_flow": "row wrap",
       "grid_area": null,
       "grid_auto_columns": null,
       "grid_auto_flow": null,
       "grid_auto_rows": null,
       "grid_column": null,
       "grid_gap": null,
       "grid_row": null,
       "grid_template_areas": null,
       "grid_template_columns": null,
       "grid_template_rows": null,
       "height": null,
       "justify_content": null,
       "justify_items": null,
       "left": null,
       "margin": null,
       "max_height": null,
       "max_width": null,
       "min_height": null,
       "min_width": null,
       "object_fit": null,
       "object_position": null,
       "order": null,
       "overflow": null,
       "overflow_x": null,
       "overflow_y": null,
       "padding": null,
       "right": null,
       "top": null,
       "visibility": null,
       "width": "100%"
      }
     },
     "aaddabcb80ea48579b03d0a73a69fdc8": {
      "model_module": "@jupyter-widgets/controls",
      "model_module_version": "1.5.0",
      "model_name": "FloatProgressModel",
      "state": {
       "_dom_classes": [],
       "_model_module": "@jupyter-widgets/controls",
       "_model_module_version": "1.5.0",
       "_model_name": "FloatProgressModel",
       "_view_count": null,
       "_view_module": "@jupyter-widgets/controls",
       "_view_module_version": "1.5.0",
       "_view_name": "ProgressView",
       "bar_style": "success",
       "description": "",
       "description_tooltip": null,
       "layout": "IPY_MODEL_f7c3f874584c4cd49c67869e09ae6b04",
       "max": 21.0,
       "min": 0.0,
       "orientation": "horizontal",
       "style": "IPY_MODEL_d82dbd2105d94cf8b9c239955c55d207",
       "value": 21.0
      }
     },
     "ac3656840f314880a7e95fa84f083779": {
      "model_module": "@jupyter-widgets/base",
      "model_module_version": "1.2.0",
      "model_name": "LayoutModel",
      "state": {
       "_model_module": "@jupyter-widgets/base",
       "_model_module_version": "1.2.0",
       "_model_name": "LayoutModel",
       "_view_count": null,
       "_view_module": "@jupyter-widgets/base",
       "_view_module_version": "1.2.0",
       "_view_name": "LayoutView",
       "align_content": null,
       "align_items": null,
       "align_self": null,
       "border": null,
       "bottom": null,
       "display": null,
       "flex": null,
       "flex_flow": null,
       "grid_area": null,
       "grid_auto_columns": null,
       "grid_auto_flow": null,
       "grid_auto_rows": null,
       "grid_column": null,
       "grid_gap": null,
       "grid_row": null,
       "grid_template_areas": null,
       "grid_template_columns": null,
       "grid_template_rows": null,
       "height": null,
       "justify_content": null,
       "justify_items": null,
       "left": null,
       "margin": null,
       "max_height": null,
       "max_width": null,
       "min_height": null,
       "min_width": null,
       "object_fit": null,
       "object_position": null,
       "order": null,
       "overflow": null,
       "overflow_x": null,
       "overflow_y": null,
       "padding": null,
       "right": null,
       "top": null,
       "visibility": null,
       "width": null
      }
     },
     "b4b3c25c5ccc4c87be87a8b1d456fe38": {
      "model_module": "@jupyter-widgets/base",
      "model_module_version": "1.2.0",
      "model_name": "LayoutModel",
      "state": {
       "_model_module": "@jupyter-widgets/base",
       "_model_module_version": "1.2.0",
       "_model_name": "LayoutModel",
       "_view_count": null,
       "_view_module": "@jupyter-widgets/base",
       "_view_module_version": "1.2.0",
       "_view_name": "LayoutView",
       "align_content": null,
       "align_items": null,
       "align_self": null,
       "border": null,
       "bottom": null,
       "display": null,
       "flex": null,
       "flex_flow": null,
       "grid_area": null,
       "grid_auto_columns": null,
       "grid_auto_flow": null,
       "grid_auto_rows": null,
       "grid_column": null,
       "grid_gap": null,
       "grid_row": null,
       "grid_template_areas": null,
       "grid_template_columns": null,
       "grid_template_rows": null,
       "height": null,
       "justify_content": null,
       "justify_items": null,
       "left": null,
       "margin": null,
       "max_height": null,
       "max_width": null,
       "min_height": null,
       "min_width": null,
       "object_fit": null,
       "object_position": null,
       "order": null,
       "overflow": null,
       "overflow_x": null,
       "overflow_y": null,
       "padding": null,
       "right": null,
       "top": null,
       "visibility": null,
       "width": null
      }
     },
     "b58d2dfe6751422d8422c8939cd72b2b": {
      "model_module": "@jupyter-widgets/controls",
      "model_module_version": "1.5.0",
      "model_name": "HBoxModel",
      "state": {
       "_dom_classes": [],
       "_model_module": "@jupyter-widgets/controls",
       "_model_module_version": "1.5.0",
       "_model_name": "HBoxModel",
       "_view_count": null,
       "_view_module": "@jupyter-widgets/controls",
       "_view_module_version": "1.5.0",
       "_view_name": "HBoxView",
       "box_style": "",
       "children": [
        "IPY_MODEL_5da0598ef3074134a8608b14ccac857c",
        "IPY_MODEL_0cd2e53214254e5295df6045f46b0d8a",
        "IPY_MODEL_ca9cbff1e0bd46e09a8f3dc7227efc9a"
       ],
       "layout": "IPY_MODEL_1eeec69096d94a9bbd41f350713439ad"
      }
     },
     "b982af39f56a4fab9d8a60e4da71cdf3": {
      "model_module": "@jupyter-widgets/controls",
      "model_module_version": "1.5.0",
      "model_name": "DescriptionStyleModel",
      "state": {
       "_model_module": "@jupyter-widgets/controls",
       "_model_module_version": "1.5.0",
       "_model_name": "DescriptionStyleModel",
       "_view_count": null,
       "_view_module": "@jupyter-widgets/base",
       "_view_module_version": "1.2.0",
       "_view_name": "StyleView",
       "description_width": ""
      }
     },
     "ca9cbff1e0bd46e09a8f3dc7227efc9a": {
      "model_module": "@jupyter-widgets/controls",
      "model_module_version": "1.5.0",
      "model_name": "HTMLModel",
      "state": {
       "_dom_classes": [],
       "_model_module": "@jupyter-widgets/controls",
       "_model_module_version": "1.5.0",
       "_model_name": "HTMLModel",
       "_view_count": null,
       "_view_module": "@jupyter-widgets/controls",
       "_view_module_version": "1.5.0",
       "_view_name": "HTMLView",
       "description": "",
       "description_tooltip": null,
       "layout": "IPY_MODEL_ac3656840f314880a7e95fa84f083779",
       "placeholder": "​",
       "style": "IPY_MODEL_453045943faa49c7a370d2acbb1a3b6f",
       "value": " 21/21 [00:01&lt;00:00, 12.69it/s, loss=0.592, v_num=6]"
      }
     },
     "d224f37c2cb348be92248b0c40adc11b": {
      "model_module": "@jupyter-widgets/base",
      "model_module_version": "1.2.0",
      "model_name": "LayoutModel",
      "state": {
       "_model_module": "@jupyter-widgets/base",
       "_model_module_version": "1.2.0",
       "_model_name": "LayoutModel",
       "_view_count": null,
       "_view_module": "@jupyter-widgets/base",
       "_view_module_version": "1.2.0",
       "_view_name": "LayoutView",
       "align_content": null,
       "align_items": null,
       "align_self": null,
       "border": null,
       "bottom": null,
       "display": null,
       "flex": null,
       "flex_flow": null,
       "grid_area": null,
       "grid_auto_columns": null,
       "grid_auto_flow": null,
       "grid_auto_rows": null,
       "grid_column": null,
       "grid_gap": null,
       "grid_row": null,
       "grid_template_areas": null,
       "grid_template_columns": null,
       "grid_template_rows": null,
       "height": null,
       "justify_content": null,
       "justify_items": null,
       "left": null,
       "margin": null,
       "max_height": null,
       "max_width": null,
       "min_height": null,
       "min_width": null,
       "object_fit": null,
       "object_position": null,
       "order": null,
       "overflow": null,
       "overflow_x": null,
       "overflow_y": null,
       "padding": null,
       "right": null,
       "top": null,
       "visibility": null,
       "width": null
      }
     },
     "d67c9272a94747a38a60fd83e0108e2d": {
      "model_module": "@jupyter-widgets/controls",
      "model_module_version": "1.5.0",
      "model_name": "HBoxModel",
      "state": {
       "_dom_classes": [],
       "_model_module": "@jupyter-widgets/controls",
       "_model_module_version": "1.5.0",
       "_model_name": "HBoxModel",
       "_view_count": null,
       "_view_module": "@jupyter-widgets/controls",
       "_view_module_version": "1.5.0",
       "_view_name": "HBoxView",
       "box_style": "",
       "children": [
        "IPY_MODEL_0287609417c84d3b959a64ace7a1a6f5",
        "IPY_MODEL_aaddabcb80ea48579b03d0a73a69fdc8",
        "IPY_MODEL_6129c2c362f24daea8383dcbe146ba85"
       ],
       "layout": "IPY_MODEL_aa00e033f9914a0aa7a920822988c420"
      }
     },
     "d82dbd2105d94cf8b9c239955c55d207": {
      "model_module": "@jupyter-widgets/controls",
      "model_module_version": "1.5.0",
      "model_name": "ProgressStyleModel",
      "state": {
       "_model_module": "@jupyter-widgets/controls",
       "_model_module_version": "1.5.0",
       "_model_name": "ProgressStyleModel",
       "_view_count": null,
       "_view_module": "@jupyter-widgets/base",
       "_view_module_version": "1.2.0",
       "_view_name": "StyleView",
       "bar_color": null,
       "description_width": ""
      }
     },
     "e7b325e119f34139af165545ff62e257": {
      "model_module": "@jupyter-widgets/base",
      "model_module_version": "1.2.0",
      "model_name": "LayoutModel",
      "state": {
       "_model_module": "@jupyter-widgets/base",
       "_model_module_version": "1.2.0",
       "_model_name": "LayoutModel",
       "_view_count": null,
       "_view_module": "@jupyter-widgets/base",
       "_view_module_version": "1.2.0",
       "_view_name": "LayoutView",
       "align_content": null,
       "align_items": null,
       "align_self": null,
       "border": null,
       "bottom": null,
       "display": null,
       "flex": null,
       "flex_flow": null,
       "grid_area": null,
       "grid_auto_columns": null,
       "grid_auto_flow": null,
       "grid_auto_rows": null,
       "grid_column": null,
       "grid_gap": null,
       "grid_row": null,
       "grid_template_areas": null,
       "grid_template_columns": null,
       "grid_template_rows": null,
       "height": null,
       "justify_content": null,
       "justify_items": null,
       "left": null,
       "margin": null,
       "max_height": null,
       "max_width": null,
       "min_height": null,
       "min_width": null,
       "object_fit": null,
       "object_position": null,
       "order": null,
       "overflow": null,
       "overflow_x": null,
       "overflow_y": null,
       "padding": null,
       "right": null,
       "top": null,
       "visibility": null,
       "width": null
      }
     },
     "e9db75b012b74c6a83bf51b47a721f40": {
      "model_module": "@jupyter-widgets/base",
      "model_module_version": "1.2.0",
      "model_name": "LayoutModel",
      "state": {
       "_model_module": "@jupyter-widgets/base",
       "_model_module_version": "1.2.0",
       "_model_name": "LayoutModel",
       "_view_count": null,
       "_view_module": "@jupyter-widgets/base",
       "_view_module_version": "1.2.0",
       "_view_name": "LayoutView",
       "align_content": null,
       "align_items": null,
       "align_self": null,
       "border": null,
       "bottom": null,
       "display": "inline-flex",
       "flex": null,
       "flex_flow": "row wrap",
       "grid_area": null,
       "grid_auto_columns": null,
       "grid_auto_flow": null,
       "grid_auto_rows": null,
       "grid_column": null,
       "grid_gap": null,
       "grid_row": null,
       "grid_template_areas": null,
       "grid_template_columns": null,
       "grid_template_rows": null,
       "height": null,
       "justify_content": null,
       "justify_items": null,
       "left": null,
       "margin": null,
       "max_height": null,
       "max_width": null,
       "min_height": null,
       "min_width": null,
       "object_fit": null,
       "object_position": null,
       "order": null,
       "overflow": null,
       "overflow_x": null,
       "overflow_y": null,
       "padding": null,
       "right": null,
       "top": null,
       "visibility": null,
       "width": "100%"
      }
     },
     "eb8ff889962b4e808f636d1eda756862": {
      "model_module": "@jupyter-widgets/controls",
      "model_module_version": "1.5.0",
      "model_name": "HBoxModel",
      "state": {
       "_dom_classes": [],
       "_model_module": "@jupyter-widgets/controls",
       "_model_module_version": "1.5.0",
       "_model_name": "HBoxModel",
       "_view_count": null,
       "_view_module": "@jupyter-widgets/controls",
       "_view_module_version": "1.5.0",
       "_view_name": "HBoxView",
       "box_style": "",
       "children": [
        "IPY_MODEL_f73d0d42c4494c58827c89737f1b04da",
        "IPY_MODEL_27d8feadb8964df3b3b8f27d86f12888",
        "IPY_MODEL_822f3f1cece34a0e9cdb1d2020d3b95c"
       ],
       "layout": "IPY_MODEL_e9db75b012b74c6a83bf51b47a721f40"
      }
     },
     "eb9c2034432b450d9d59380e15849deb": {
      "model_module": "@jupyter-widgets/base",
      "model_module_version": "1.2.0",
      "model_name": "LayoutModel",
      "state": {
       "_model_module": "@jupyter-widgets/base",
       "_model_module_version": "1.2.0",
       "_model_name": "LayoutModel",
       "_view_count": null,
       "_view_module": "@jupyter-widgets/base",
       "_view_module_version": "1.2.0",
       "_view_name": "LayoutView",
       "align_content": null,
       "align_items": null,
       "align_self": null,
       "border": null,
       "bottom": null,
       "display": null,
       "flex": "2",
       "flex_flow": null,
       "grid_area": null,
       "grid_auto_columns": null,
       "grid_auto_flow": null,
       "grid_auto_rows": null,
       "grid_column": null,
       "grid_gap": null,
       "grid_row": null,
       "grid_template_areas": null,
       "grid_template_columns": null,
       "grid_template_rows": null,
       "height": null,
       "justify_content": null,
       "justify_items": null,
       "left": null,
       "margin": null,
       "max_height": null,
       "max_width": null,
       "min_height": null,
       "min_width": null,
       "object_fit": null,
       "object_position": null,
       "order": null,
       "overflow": null,
       "overflow_x": null,
       "overflow_y": null,
       "padding": null,
       "right": null,
       "top": null,
       "visibility": null,
       "width": null
      }
     },
     "f73d0d42c4494c58827c89737f1b04da": {
      "model_module": "@jupyter-widgets/controls",
      "model_module_version": "1.5.0",
      "model_name": "HTMLModel",
      "state": {
       "_dom_classes": [],
       "_model_module": "@jupyter-widgets/controls",
       "_model_module_version": "1.5.0",
       "_model_name": "HTMLModel",
       "_view_count": null,
       "_view_module": "@jupyter-widgets/controls",
       "_view_module_version": "1.5.0",
       "_view_name": "HTMLView",
       "description": "",
       "description_tooltip": null,
       "layout": "IPY_MODEL_b4b3c25c5ccc4c87be87a8b1d456fe38",
       "placeholder": "​",
       "style": "IPY_MODEL_9d381b94e8f441028e4f8a65865d1575",
       "value": "Epoch 20: 100%"
      }
     },
     "f7a056cf897c43a2b3658d2c42e1ba5c": {
      "model_module": "@jupyter-widgets/base",
      "model_module_version": "1.2.0",
      "model_name": "LayoutModel",
      "state": {
       "_model_module": "@jupyter-widgets/base",
       "_model_module_version": "1.2.0",
       "_model_name": "LayoutModel",
       "_view_count": null,
       "_view_module": "@jupyter-widgets/base",
       "_view_module_version": "1.2.0",
       "_view_name": "LayoutView",
       "align_content": null,
       "align_items": null,
       "align_self": null,
       "border": null,
       "bottom": null,
       "display": null,
       "flex": null,
       "flex_flow": null,
       "grid_area": null,
       "grid_auto_columns": null,
       "grid_auto_flow": null,
       "grid_auto_rows": null,
       "grid_column": null,
       "grid_gap": null,
       "grid_row": null,
       "grid_template_areas": null,
       "grid_template_columns": null,
       "grid_template_rows": null,
       "height": null,
       "justify_content": null,
       "justify_items": null,
       "left": null,
       "margin": null,
       "max_height": null,
       "max_width": null,
       "min_height": null,
       "min_width": null,
       "object_fit": null,
       "object_position": null,
       "order": null,
       "overflow": null,
       "overflow_x": null,
       "overflow_y": null,
       "padding": null,
       "right": null,
       "top": null,
       "visibility": null,
       "width": null
      }
     },
     "f7c3f874584c4cd49c67869e09ae6b04": {
      "model_module": "@jupyter-widgets/base",
      "model_module_version": "1.2.0",
      "model_name": "LayoutModel",
      "state": {
       "_model_module": "@jupyter-widgets/base",
       "_model_module_version": "1.2.0",
       "_model_name": "LayoutModel",
       "_view_count": null,
       "_view_module": "@jupyter-widgets/base",
       "_view_module_version": "1.2.0",
       "_view_name": "LayoutView",
       "align_content": null,
       "align_items": null,
       "align_self": null,
       "border": null,
       "bottom": null,
       "display": null,
       "flex": "2",
       "flex_flow": null,
       "grid_area": null,
       "grid_auto_columns": null,
       "grid_auto_flow": null,
       "grid_auto_rows": null,
       "grid_column": null,
       "grid_gap": null,
       "grid_row": null,
       "grid_template_areas": null,
       "grid_template_columns": null,
       "grid_template_rows": null,
       "height": null,
       "justify_content": null,
       "justify_items": null,
       "left": null,
       "margin": null,
       "max_height": null,
       "max_width": null,
       "min_height": null,
       "min_width": null,
       "object_fit": null,
       "object_position": null,
       "order": null,
       "overflow": null,
       "overflow_x": null,
       "overflow_y": null,
       "padding": null,
       "right": null,
       "top": null,
       "visibility": null,
       "width": null
      }
     }
    },
    "version_major": 2,
    "version_minor": 0
   }
  }
 },
 "nbformat": 4,
 "nbformat_minor": 2
}
